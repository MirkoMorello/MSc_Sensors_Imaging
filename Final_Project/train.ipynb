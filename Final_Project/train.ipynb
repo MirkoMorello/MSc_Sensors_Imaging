{
 "cells": [
  {
   "cell_type": "code",
   "execution_count": 1,
   "metadata": {},
   "outputs": [
    {
     "name": "stderr",
     "output_type": "stream",
     "text": [
      "/home/omirako/.local/lib/python3.11/site-packages/torch/utils/_pytree.py:185: FutureWarning: optree is installed but the version is too old to support PyTorch Dynamo in C++ pytree. C++ pytree support is disabled. Please consider upgrading optree using `python3 -m pip install --upgrade 'optree>=0.13.0'`.\n",
      "  warnings.warn(\n"
     ]
    }
   ],
   "source": [
    "from dataset import SFMNNDataset\n",
    "from network import SFMNNEncoder\n",
    "from simulate import SFMNNSimulation\n",
    "from loss import SFMNNLoss\n",
    "import torch\n",
    "import torch.optim as optim\n",
    "from torch.utils.data import DataLoader\n",
    "from tqdm import tqdm\n",
    "import os\n",
    "import json\n",
    "from dotenv import load_dotenv\n",
    "import logging\n",
    "import numpy as np"
   ]
  },
  {
   "cell_type": "code",
   "execution_count": 2,
   "metadata": {},
   "outputs": [
    {
     "name": "stderr",
     "output_type": "stream",
     "text": [
      "2025-03-21 18:44:20,227 [INFO] Using 3620 wavelength channels.\n",
      "2025-03-21 18:44:20,229 [INFO] Found 1350 simulation JSON files.\n",
      "Loading JSON files:   0%|          | 0/1350 [00:00<?, ?it/s]"
     ]
    },
    {
     "name": "stderr",
     "output_type": "stream",
     "text": [
      "Loading JSON files: 100%|██████████| 1350/1350 [00:15<00:00, 84.76it/s]\n",
      "2025-03-21 18:44:36,515 [INFO] Fixed Esun computed as: 268.4315\n",
      "2025-03-21 18:44:36,597 [INFO] Total simulations loaded: 1350\n",
      "2025-03-21 18:44:36,598 [INFO] Total patches loaded: 60\n"
     ]
    }
   ],
   "source": [
    "load_dotenv()\n",
    "data_folder = os.getenv(\"DATA_FOLDER\")\n",
    "\n",
    "logging.basicConfig(level=logging.INFO,\n",
    "                    format=\"%(asctime)s [%(levelname)s] %(message)s\",\n",
    "                    handlers=[logging.StreamHandler()])\n",
    "logger = logging.getLogger(__name__)\n",
    "\n",
    "with open(data_folder + \"simulation_sim_0_amb_0.json\") as f:\n",
    "    data = json.load(f)\n",
    "with open(data_folder + \"simulation_lookuptable.json\") as f:\n",
    "    lookup = json.load(f)\n",
    "\n",
    "# Load the dataset\n",
    "dataset = SFMNNDataset(data_folder + 'simulation_lookuptable.json', 'output/', patch_size=5)\n",
    "\n",
    "# Load the dataloader\n",
    "dataloader = DataLoader(dataset, batch_size=3, shuffle=True, drop_last=False)\n"
   ]
  },
  {
   "cell_type": "code",
   "execution_count": 3,
   "metadata": {},
   "outputs": [
    {
     "name": "stdout",
     "output_type": "stream",
     "text": [
      "cuda\n"
     ]
    }
   ],
   "source": [
    "device = torch.device(\"cuda\" if torch.cuda.is_available() else \"cpu\")\n",
    "print(device)"
   ]
  },
  {
   "cell_type": "code",
   "execution_count": 4,
   "metadata": {},
   "outputs": [
    {
     "data": {
      "text/plain": [
       "3620"
      ]
     },
     "execution_count": 4,
     "metadata": {},
     "output_type": "execute_result"
    }
   ],
   "source": [
    "# Number of spectral bands\n",
    "n_spectral_bands = len(dataset.get_wl())\n",
    "n_spectral_bands"
   ]
  },
  {
   "cell_type": "code",
   "execution_count": 5,
   "metadata": {},
   "outputs": [
    {
     "data": {
      "text/plain": [
       "(5, 5, 3623)"
      ]
     },
     "execution_count": 5,
     "metadata": {},
     "output_type": "execute_result"
    }
   ],
   "source": [
    "C,H,W = dataset[0].shape\n",
    "H, W, C"
   ]
  },
  {
   "cell_type": "code",
   "execution_count": 6,
   "metadata": {},
   "outputs": [
    {
     "name": "stdout",
     "output_type": "stream",
     "text": [
      "SFMNNEncoder(\n",
      "  (input_norm): BatchNorm1d(3623, eps=1e-05, momentum=0.1, affine=True, track_running_stats=True)\n",
      "  (fc_layers): Sequential(\n",
      "    (0): Linear(in_features=3623, out_features=4096, bias=True)\n",
      "    (1): BatchNorm1d(4096, eps=1e-05, momentum=0.1, affine=True, track_running_stats=True)\n",
      "    (2): ReLU()\n",
      "    (3): Dropout(p=0.1, inplace=False)\n",
      "    (4): Linear(in_features=4096, out_features=8192, bias=True)\n",
      "    (5): BatchNorm1d(8192, eps=1e-05, momentum=0.1, affine=True, track_running_stats=True)\n",
      "    (6): ReLU()\n",
      "    (7): Dropout(p=0.1, inplace=False)\n",
      "    (8): Linear(in_features=8192, out_features=16384, bias=True)\n",
      "    (9): BatchNorm1d(16384, eps=1e-05, momentum=0.1, affine=True, track_running_stats=True)\n",
      "    (10): ReLU()\n",
      "    (11): Linear(in_features=16384, out_features=16384, bias=True)\n",
      "    (12): BatchNorm1d(16384, eps=1e-05, momentum=0.1, affine=True, track_running_stats=True)\n",
      "    (13): ReLU()\n",
      "  )\n",
      "  (latent_proj): Linear(in_features=16384, out_features=32607, bias=True)\n",
      ")\n"
     ]
    }
   ],
   "source": [
    "# Initialize the network\n",
    "encoder = SFMNNEncoder(input_channels=C,num_variables = 9 ,latent_dim=C).to(device)\n",
    "\n",
    "print(encoder)"
   ]
  },
  {
   "cell_type": "code",
   "execution_count": 13,
   "metadata": {},
   "outputs": [],
   "source": [
    "import torch\n",
    "import torch.nn as nn\n",
    "import torch.nn.functional as F_func\n",
    "\n",
    "class FourStreamSimulator(nn.Module):\n",
    "    def __init__(self, spectral_window=(750, 770), high_res=0.0055):\n",
    "        super().__init__()\n",
    "        self.register_buffer('lambda_hr', torch.arange(*spectral_window, high_res))\n",
    "        self.mu_f = 737.0  # Fluorescence peak wavelength\n",
    "\n",
    "    def forward(self, t1, t2, t3, t4, t5, t6, R, F, E_s, cos_theta_s):\n",
    "        # Expand cos_theta_s dimensions [B, H, W] -> [B, 1, H, W]\n",
    "        cos_theta_s = cos_theta_s.unsqueeze(1)\n",
    "        \n",
    "        # Compute product terms\n",
    "        denominator = 1 - t3 * R + 1e-6\n",
    "        t7 = t3 * t4\n",
    "        t8 = t3 * t6\n",
    "        t9 = t4 * t5\n",
    "        t10 = t4 * t2\n",
    "        t11 = t3 * t2\n",
    "        \n",
    "        numerator = t1 * t8 * R + t9 * R + t10 * R + t11 * R + t6 * F + t7 * F\n",
    "        LTOA = t1 * t2 + numerator / denominator\n",
    "        \n",
    "        mod_factor = (E_s * cos_theta_s) / np.pi  # Now shapes: [B, 3620, H, W] * [B, 1, H, W]\n",
    "        return LTOA * mod_factor\n",
    "\n",
    "import torch\n",
    "import torch.nn as nn\n",
    "import torch.nn.functional as F_func\n",
    "\n",
    "class HyPlantSensorSimulator(nn.Module):\n",
    "    def __init__(self, sensor_wavelengths, high_res=0.0055):\n",
    "        super().__init__()\n",
    "        self.register_buffer('sensor_wavelengths', sensor_wavelengths)\n",
    "        self.high_res = high_res\n",
    "        self.register_buffer('wl_range', torch.tensor([\n",
    "            sensor_wavelengths.min(),\n",
    "            sensor_wavelengths.max()\n",
    "        ]))\n",
    "\n",
    "    def forward(self, L_hr, delta_lambda, delta_sigma):\n",
    "        # L_hr: [B, C_hr, H, W]\n",
    "        B, C_hr, H, W = L_hr.shape\n",
    "        \n",
    "        #######################\n",
    "        # 1) Gaussian Blur\n",
    "        #######################\n",
    "        sigma = (0.27 + delta_sigma) * 2.3548  # FWHM -> std\n",
    "        kernel_size = max(3, int(6 * sigma / self.high_res))\n",
    "        x = torch.linspace(-3*sigma, 3*sigma, kernel_size, device=L_hr.device)\n",
    "        kernel = torch.exp(-0.5 * (x / sigma) ** 2)\n",
    "        kernel /= kernel.sum()\n",
    "\n",
    "        # shape: [B*H*W, 1, C_hr]\n",
    "        L_hr_reshaped = L_hr.permute(0, 2, 3, 1).reshape(B*H*W, 1, C_hr)\n",
    "        L_blur = F_func.conv1d(L_hr_reshaped, kernel.view(1, 1, -1),\n",
    "                               padding=kernel_size // 2)\n",
    "        new_C_hr = L_blur.shape[-1]\n",
    "        # reshape to [B, H, W, new_C_hr] -> [B, new_C_hr, H, W]\n",
    "        L_blur = L_blur.view(B, H, W, new_C_hr).permute(0, 3, 1, 2)\n",
    "\n",
    "        # --- Debug: see if L_blur is constant across channel dimension\n",
    "        if B == 1:\n",
    "            print(\"L_blur (per batch) min/max:\",\n",
    "                  L_blur.min().item(), L_blur.max().item())\n",
    "            # Also check std along channel dimension:\n",
    "            std_channels = L_blur.std(dim=1)  # shape [B, H, W]\n",
    "            print(\"Mean channel-std:\", std_channels.mean().item())\n",
    "\n",
    "        #######################\n",
    "        # 2) Wavelength Shifts\n",
    "        #######################\n",
    "        # Delta-lambda average for each batch item\n",
    "        avg_delta = delta_lambda.mean(dim=(1,2)).view(B, 1)  # shape [B, 1]\n",
    "        \n",
    "        wl_min, wl_max = self.wl_range[0].item(), self.wl_range[1].item()\n",
    "        \n",
    "        shifted_wl = self.sensor_wavelengths.unsqueeze(0) + avg_delta\n",
    "        shifted_wl = torch.clamp(shifted_wl, min=wl_min, max=wl_max)  # Now valid!\n",
    "        \n",
    "        normalized_wl = 2 * (shifted_wl - wl_min) / (wl_max - wl_min) - 1\n",
    "        \n",
    "        # --- Debug: check that normalized_wl is not all the same or out of bounds\n",
    "        if B == 1:\n",
    "            print(\"normalized_wl min/max:\",\n",
    "                  normalized_wl.min().item(), normalized_wl.max().item())\n",
    "\n",
    "        #######################\n",
    "        # 3) grid_sample setup\n",
    "        #######################\n",
    "        # L_blur shape is [B, new_C_hr, H, W], interpret new_C_hr as \"height\"\n",
    "        # reshape to [B*H*W, 1, new_C_hr, 1]\n",
    "        L_blur_2d = L_blur.permute(0, 2, 3, 1).reshape(\n",
    "            B*H*W, 1, new_C_hr, 1\n",
    "        )\n",
    "\n",
    "        # Make grid: shape [N, out_H, out_W, 2]\n",
    "        num_sensor = self.sensor_wavelengths.shape[0]  # e.g. 172\n",
    "\n",
    "        # Expand normalized_wl from [B, num_sensor] to [B, H*W, num_sensor]\n",
    "        normalized_wl_expanded = normalized_wl.unsqueeze(1).expand(\n",
    "            B, H*W, num_sensor\n",
    "        )\n",
    "        # Reshape to [B*H*W, 1, num_sensor]\n",
    "        normalized_wl_expanded = normalized_wl_expanded.reshape(\n",
    "            B*H*W, 1, num_sensor\n",
    "        )\n",
    "\n",
    "        grid_y = normalized_wl_expanded  # treat as \"height\" coords in [-1,1]\n",
    "        grid_x = torch.zeros_like(grid_y) # x=0\n",
    "        grid = torch.stack((grid_y, grid_x), dim=-1)  # [B*H*W, 1, num_sensor, 2]\n",
    "\n",
    "        # --- Debug\n",
    "        if B == 1:\n",
    "            print(\"grid y-range: [\", grid_y.min().item(), \",\",\n",
    "                  grid_y.max().item(), \"]\")\n",
    "\n",
    "        #######################\n",
    "        # 4) grid_sample\n",
    "        #######################\n",
    "        L_sampled = F_func.grid_sample(\n",
    "            L_blur_2d, grid, mode='bilinear', align_corners=True\n",
    "        )\n",
    "        # L_sampled shape: [B*H*W, 1, 1, num_sensor]\n",
    "        L_sampled = L_sampled.view(B, H, W, num_sensor).permute(0, 3, 1, 2)\n",
    "\n",
    "        # Debug final shape\n",
    "        if B == 1:\n",
    "            print(\"L_sampled shape:\", L_sampled.shape,\n",
    "                  \"  min/max:\", L_sampled.min().item(), L_sampled.max().item())\n",
    "\n",
    "        return L_sampled\n",
    "\n",
    "\n",
    "class SFMNNSimulation(nn.Module):\n",
    "    def __init__(self, sensor_wavelengths):\n",
    "        super().__init__()\n",
    "        self.four_stream = FourStreamSimulator()\n",
    "        self.sensor_sim = HyPlantSensorSimulator(sensor_wavelengths)\n",
    "\n",
    "    def forward(self, t1, t2, t3, t4, t5, t6, R, F, delta_lambda, delta_sigma, E_s, cos_theta_s):\n",
    "        L_hr = self.four_stream(t1, t2, t3, t4, t5, t6, R, F, E_s, cos_theta_s)\n",
    "        L_hyp = self.sensor_sim(L_hr, delta_lambda, delta_sigma)\n",
    "        return L_hyp"
   ]
  },
  {
   "cell_type": "code",
   "execution_count": 14,
   "metadata": {},
   "outputs": [],
   "source": [
    "class SFMNNLoss(nn.Module):\n",
    "    def __init__(self, gamma_f=5, gamma_N=10, gamma_a=1, ndvi_threshold=0.15, red_idx=680, nir_idx=800):\n",
    "        super().__init__()\n",
    "        self.gamma_f = gamma_f\n",
    "        self.gamma_N = gamma_N\n",
    "        self.gamma_a = gamma_a\n",
    "        self.ndvi_threshold = ndvi_threshold\n",
    "        self.red_idx = red_idx\n",
    "        self.nir_idx = nir_idx\n",
    "\n",
    "    def forward(self, pred, target, outputs, E_s, cos_theta_s, loss_indices):\n",
    "        # pred and target are already windowed (shape: [B, window_size, H, W])\n",
    "        recon_loss = torch.mean((pred - target) ** 2)\n",
    "        \n",
    "        # NDVI loss computed from full reflectance (not windowed)\n",
    "        red = outputs['reflectance'][:, self.red_idx]\n",
    "        nir = outputs['reflectance'][:, self.nir_idx]\n",
    "        ndvi = (nir - red) / (nir + red + 1e-6)\n",
    "        ndvi_loss = torch.mean(outputs['sif'] * ((ndvi <= self.ndvi_threshold).float()))\n",
    "        \n",
    "        w_f = self.compute_w_f(target, outputs['sif'])\n",
    "        signal_loss = torch.mean((pred - target) ** 2 * w_f.view(1, -1, 1, 1))\n",
    "        \n",
    "        # Extract window from reflectance and E_s\n",
    "        R_window = outputs['reflectance'][:, loss_indices, :, :]\n",
    "        R_mean = R_window.mean(dim=(2,3), keepdim=True)\n",
    "        L_atm_R = pred - outputs['sif'].unsqueeze(1)\n",
    "        B = E_s.size(0)\n",
    "        E_s_const = E_s.mean(dim=(2,3), keepdim=True)  # [B, n_spectral_bands, 1, 1]\n",
    "        E_s_window = E_s_const[:, loss_indices, :, :]\n",
    "        cos_theta_s_const = cos_theta_s.mean(dim=(1,2), keepdim=True).view(B, 1, 1, 1)\n",
    "        denom = E_s_window * cos_theta_s_const + 1e-6\n",
    "        t_tot = (L_atm_R * R_mean) / denom\n",
    "        atm_loss = torch.mean(torch.relu(t_tot - 1))\n",
    "        \n",
    "        total_loss = recon_loss  # regularizers not added for now\n",
    "        \n",
    "        loss_dict = {\n",
    "            'total': total_loss,\n",
    "            'recon': recon_loss,\n",
    "            'signal': signal_loss,\n",
    "            'ndvi': ndvi_loss,\n",
    "            'atm': atm_loss\n",
    "        }\n",
    "        return total_loss, loss_dict\n",
    "\n",
    "    def compute_w_f(self, L_HyP, sif_pred, epsilon=1e-6):\n",
    "        f_sq = sif_pred.unsqueeze(1) ** 2\n",
    "        sum_f_sq = torch.mean(f_sq, dim=(0, 2, 3))\n",
    "        sigma_L2 = torch.var(L_HyP, dim=(0,2,3)) + 1e-3  # Larger epsilon\n",
    "        numerator = sum_f_sq\n",
    "        denominator = sum_f_sq / (sigma_L2 + epsilon)\n",
    "        w_f = (1.0 / sigma_L2) * (sum_f_sq / (denominator.sum() + 1e-6))\n",
    "        w_f = w_f / (w_f.sum() + 1e-6)  # Normalize weights\n",
    "        return w_f"
   ]
  },
  {
   "cell_type": "code",
   "execution_count": 15,
   "metadata": {},
   "outputs": [
    {
     "name": "stderr",
     "output_type": "stream",
     "text": [
      "2025-03-21 18:48:03,885 [INFO] Using device: cuda\n",
      "2025-03-21 18:48:03,886 [INFO] Spectral channels: 3620, total input channels: 3623\n",
      "2025-03-21 18:48:03,907 [INFO] Using fixed Esun: 268.4315\n",
      "2025-03-21 18:48:03,908 [INFO] Loss calculated over indices: [2227, 2228, 2229, 2230, 2231, 2232, 2233, 2234, 2235, 2236, 2237, 2238, 2239, 2240, 2241, 2242, 2243, 2244, 2245, 2246, 2247, 2248, 2249, 2250, 2251, 2252, 2253, 2254, 2255, 2256, 2257, 2258, 2259, 2260, 2261, 2262, 2263, 2264, 2265, 2266, 2267, 2268, 2269, 2270, 2271, 2272, 2273, 2274, 2275, 2276, 2277, 2278, 2279, 2280, 2281, 2282, 2283, 2284, 2285, 2286, 2287, 2288, 2289, 2290, 2291, 2292, 2293, 2294, 2295, 2296, 2297, 2298, 2299, 2300, 2301, 2302, 2303, 2304, 2305, 2306, 2307, 2308, 2309, 2310, 2311, 2312, 2313, 2314, 2315, 2316, 2317, 2318, 2319, 2320, 2321, 2322, 2323, 2324, 2325, 2326, 2327, 2328, 2329, 2330, 2331, 2332, 2333, 2334, 2335, 2336, 2337, 2338, 2339, 2340, 2341, 2342, 2343, 2344, 2345, 2346, 2347, 2348, 2349, 2350, 2351, 2352, 2353, 2354, 2355, 2356, 2357, 2358, 2359, 2360, 2361, 2362, 2363, 2364, 2365, 2366, 2367, 2368, 2369, 2370, 2371, 2372, 2373, 2374, 2375, 2376, 2377, 2378, 2379, 2380, 2381, 2382, 2383, 2384, 2385, 2386, 2387, 2388, 2389, 2390, 2391, 2392, 2393, 2394, 2395, 2396, 2397, 2398, 2399, 2400, 2401, 2402, 2403, 2404, 2405, 2406, 2407, 2408, 2409, 2410, 2411, 2412, 2413, 2414, 2415, 2416, 2417, 2418, 2419, 2420, 2421, 2422, 2423, 2424, 2425, 2426, 2427, 2428, 2429, 2430, 2431, 2432, 2433, 2434, 2435, 2436, 2437, 2438, 2439, 2440, 2441, 2442, 2443, 2444, 2445, 2446, 2447, 2448, 2449, 2450, 2451, 2452, 2453, 2454, 2455, 2456, 2457, 2458, 2459, 2460, 2461, 2462, 2463, 2464, 2465, 2466, 2467, 2468, 2469, 2470, 2471, 2472, 2473, 2474, 2475, 2476, 2477, 2478, 2479, 2480, 2481, 2482, 2483, 2484, 2485, 2486, 2487, 2488, 2489, 2490, 2491, 2492, 2493, 2494, 2495, 2496, 2497, 2498, 2499, 2500, 2501, 2502, 2503, 2504, 2505, 2506, 2507, 2508, 2509, 2510, 2511, 2512, 2513, 2514, 2515, 2516, 2517, 2518, 2519, 2520, 2521, 2522, 2523, 2524, 2525, 2526, 2527, 2528, 2529, 2530, 2531, 2532, 2533, 2534, 2535, 2536, 2537, 2538, 2539, 2540, 2541, 2542, 2543, 2544, 2545, 2546, 2547, 2548, 2549, 2550, 2551, 2552, 2553, 2554, 2555, 2556, 2557, 2558, 2559, 2560, 2561, 2562, 2563], corresponding to 760.1-780.0 nm.\n",
      "                                                                                                                                    \r"
     ]
    },
    {
     "name": "stdout",
     "output_type": "stream",
     "text": [
      "Epoch 1/100 - Avg Loss: 1961133.9048\n"
     ]
    },
    {
     "name": "stderr",
     "output_type": "stream",
     "text": [
      "                                                                                                                                   \r"
     ]
    },
    {
     "name": "stdout",
     "output_type": "stream",
     "text": [
      "Epoch 2/100 - Avg Loss: 801410.8467\n"
     ]
    },
    {
     "name": "stderr",
     "output_type": "stream",
     "text": [
      "                                                                                                                                    \r"
     ]
    },
    {
     "name": "stdout",
     "output_type": "stream",
     "text": [
      "Epoch 3/100 - Avg Loss: 427126.3132\n"
     ]
    },
    {
     "name": "stderr",
     "output_type": "stream",
     "text": [
      "                                                                                                                                   \r"
     ]
    },
    {
     "name": "stdout",
     "output_type": "stream",
     "text": [
      "Epoch 4/100 - Avg Loss: 671707.7924\n"
     ]
    },
    {
     "name": "stderr",
     "output_type": "stream",
     "text": [
      "                                                                                                                                  \r"
     ]
    },
    {
     "name": "stdout",
     "output_type": "stream",
     "text": [
      "Epoch 5/100 - Avg Loss: 1400735.0809\n"
     ]
    },
    {
     "name": "stderr",
     "output_type": "stream",
     "text": [
      "                                                                                                                                  \r"
     ]
    },
    {
     "name": "stdout",
     "output_type": "stream",
     "text": [
      "Epoch 6/100 - Avg Loss: 580473.3830\n"
     ]
    },
    {
     "name": "stderr",
     "output_type": "stream",
     "text": [
      "                                                                                                                                   \r"
     ]
    },
    {
     "name": "stdout",
     "output_type": "stream",
     "text": [
      "Epoch 7/100 - Avg Loss: 467262.5142\n"
     ]
    },
    {
     "name": "stderr",
     "output_type": "stream",
     "text": [
      "                                                                                                                                    \r"
     ]
    },
    {
     "name": "stdout",
     "output_type": "stream",
     "text": [
      "Epoch 8/100 - Avg Loss: 7855841.2753\n"
     ]
    },
    {
     "name": "stderr",
     "output_type": "stream",
     "text": [
      "                                                                                                                              \r"
     ]
    },
    {
     "name": "stdout",
     "output_type": "stream",
     "text": [
      "Epoch 9/100 - Avg Loss: 111378.0879\n"
     ]
    },
    {
     "name": "stderr",
     "output_type": "stream",
     "text": [
      "                                                                                                                                 \r"
     ]
    },
    {
     "name": "stdout",
     "output_type": "stream",
     "text": [
      "Epoch 10/100 - Avg Loss: 40811.8717\n"
     ]
    },
    {
     "name": "stderr",
     "output_type": "stream",
     "text": [
      "                                                                                                                                     \r"
     ]
    },
    {
     "name": "stdout",
     "output_type": "stream",
     "text": [
      "Epoch 11/100 - Avg Loss: 4086242.7235\n"
     ]
    },
    {
     "name": "stderr",
     "output_type": "stream",
     "text": [
      "                                                                                                                                 \r"
     ]
    },
    {
     "name": "stdout",
     "output_type": "stream",
     "text": [
      "Epoch 12/100 - Avg Loss: 98536.5270\n"
     ]
    },
    {
     "name": "stderr",
     "output_type": "stream",
     "text": [
      "                                                                                                                                 \r"
     ]
    },
    {
     "name": "stdout",
     "output_type": "stream",
     "text": [
      "Epoch 13/100 - Avg Loss: 284733.0473\n"
     ]
    },
    {
     "name": "stderr",
     "output_type": "stream",
     "text": [
      "                                                                                                                               \r"
     ]
    },
    {
     "name": "stdout",
     "output_type": "stream",
     "text": [
      "Epoch 14/100 - Avg Loss: 17131.3908\n"
     ]
    },
    {
     "name": "stderr",
     "output_type": "stream",
     "text": [
      "                                                                                                                               \r"
     ]
    },
    {
     "name": "stdout",
     "output_type": "stream",
     "text": [
      "Epoch 15/100 - Avg Loss: 21023.1713\n"
     ]
    },
    {
     "name": "stderr",
     "output_type": "stream",
     "text": [
      "                                                                                                                                 \r"
     ]
    },
    {
     "name": "stdout",
     "output_type": "stream",
     "text": [
      "Epoch 16/100 - Avg Loss: 3870064.6135\n"
     ]
    },
    {
     "name": "stderr",
     "output_type": "stream",
     "text": [
      "                                                                                                                                  \r"
     ]
    },
    {
     "name": "stdout",
     "output_type": "stream",
     "text": [
      "Epoch 17/100 - Avg Loss: 710229.4114\n"
     ]
    },
    {
     "name": "stderr",
     "output_type": "stream",
     "text": [
      "                                                                                                                                    \r"
     ]
    },
    {
     "name": "stdout",
     "output_type": "stream",
     "text": [
      "Epoch 18/100 - Avg Loss: 412587.4130\n"
     ]
    },
    {
     "name": "stderr",
     "output_type": "stream",
     "text": [
      "                                                                                                                               \r"
     ]
    },
    {
     "name": "stdout",
     "output_type": "stream",
     "text": [
      "Epoch 19/100 - Avg Loss: 30432.1463\n"
     ]
    },
    {
     "name": "stderr",
     "output_type": "stream",
     "text": [
      "                                                                                                                               \r"
     ]
    },
    {
     "name": "stdout",
     "output_type": "stream",
     "text": [
      "Epoch 20/100 - Avg Loss: 33025.4364\n"
     ]
    },
    {
     "name": "stderr",
     "output_type": "stream",
     "text": [
      "                                                                                                                                    \r"
     ]
    },
    {
     "name": "stdout",
     "output_type": "stream",
     "text": [
      "Epoch 21/100 - Avg Loss: 288116.9215\n"
     ]
    },
    {
     "name": "stderr",
     "output_type": "stream",
     "text": [
      "                                                                                                                               \r"
     ]
    },
    {
     "name": "stdout",
     "output_type": "stream",
     "text": [
      "Epoch 22/100 - Avg Loss: 63943.8563\n"
     ]
    },
    {
     "name": "stderr",
     "output_type": "stream",
     "text": [
      "                                                                                                                                       \r"
     ]
    },
    {
     "name": "stdout",
     "output_type": "stream",
     "text": [
      "Epoch 23/100 - Avg Loss: 1739426715.5629\n"
     ]
    },
    {
     "name": "stderr",
     "output_type": "stream",
     "text": [
      "                                                                                                                               \r"
     ]
    },
    {
     "name": "stdout",
     "output_type": "stream",
     "text": [
      "Epoch 24/100 - Avg Loss: 10874.7470\n"
     ]
    },
    {
     "name": "stderr",
     "output_type": "stream",
     "text": [
      "                                                                                                                               \r"
     ]
    },
    {
     "name": "stdout",
     "output_type": "stream",
     "text": [
      "Epoch 25/100 - Avg Loss: 15814.6443\n"
     ]
    },
    {
     "name": "stderr",
     "output_type": "stream",
     "text": [
      "                                                                                                                                     \r"
     ]
    },
    {
     "name": "stdout",
     "output_type": "stream",
     "text": [
      "Epoch 26/100 - Avg Loss: 72370577.0557\n"
     ]
    },
    {
     "name": "stderr",
     "output_type": "stream",
     "text": [
      "                                                                                                                               \r"
     ]
    },
    {
     "name": "stdout",
     "output_type": "stream",
     "text": [
      "Epoch 27/100 - Avg Loss: 26142.9812\n"
     ]
    },
    {
     "name": "stderr",
     "output_type": "stream",
     "text": [
      "                                                                                                                               \r"
     ]
    },
    {
     "name": "stdout",
     "output_type": "stream",
     "text": [
      "Epoch 28/100 - Avg Loss: 27361.7317\n"
     ]
    },
    {
     "name": "stderr",
     "output_type": "stream",
     "text": [
      "                                                                                                                               \r"
     ]
    },
    {
     "name": "stdout",
     "output_type": "stream",
     "text": [
      "Epoch 29/100 - Avg Loss: 27452.3844\n"
     ]
    },
    {
     "name": "stderr",
     "output_type": "stream",
     "text": [
      "                                                                                                                                   \r"
     ]
    },
    {
     "name": "stdout",
     "output_type": "stream",
     "text": [
      "Epoch 30/100 - Avg Loss: 1635406.3369\n"
     ]
    },
    {
     "name": "stderr",
     "output_type": "stream",
     "text": [
      "                                                                                                                               \r"
     ]
    },
    {
     "name": "stdout",
     "output_type": "stream",
     "text": [
      "Epoch 31/100 - Avg Loss: 31108.2351\n"
     ]
    },
    {
     "name": "stderr",
     "output_type": "stream",
     "text": [
      "                                                                                                                                    \r"
     ]
    },
    {
     "name": "stdout",
     "output_type": "stream",
     "text": [
      "Epoch 32/100 - Avg Loss: 753005.2855\n"
     ]
    },
    {
     "name": "stderr",
     "output_type": "stream",
     "text": [
      "                                                                                                                                 \r"
     ]
    },
    {
     "name": "stdout",
     "output_type": "stream",
     "text": [
      "Epoch 33/100 - Avg Loss: 95732.3786\n"
     ]
    },
    {
     "name": "stderr",
     "output_type": "stream",
     "text": [
      "                                                                                                                                 \r"
     ]
    },
    {
     "name": "stdout",
     "output_type": "stream",
     "text": [
      "Epoch 34/100 - Avg Loss: 65165.8861\n"
     ]
    },
    {
     "name": "stderr",
     "output_type": "stream",
     "text": [
      "                                                                                                                                \r"
     ]
    },
    {
     "name": "stdout",
     "output_type": "stream",
     "text": [
      "Epoch 35/100 - Avg Loss: 74771.2542\n"
     ]
    },
    {
     "name": "stderr",
     "output_type": "stream",
     "text": [
      "                                                                                                                                \r"
     ]
    },
    {
     "name": "stdout",
     "output_type": "stream",
     "text": [
      "Epoch 36/100 - Avg Loss: 56929.6506\n"
     ]
    },
    {
     "name": "stderr",
     "output_type": "stream",
     "text": [
      "                                                                                                                               \r"
     ]
    },
    {
     "name": "stdout",
     "output_type": "stream",
     "text": [
      "Epoch 37/100 - Avg Loss: 8026.3198\n"
     ]
    },
    {
     "name": "stderr",
     "output_type": "stream",
     "text": [
      "                                                                                                                                    \r"
     ]
    },
    {
     "name": "stdout",
     "output_type": "stream",
     "text": [
      "Epoch 38/100 - Avg Loss: 1296877.2008\n"
     ]
    },
    {
     "name": "stderr",
     "output_type": "stream",
     "text": [
      "                                                                                                                                 \r"
     ]
    },
    {
     "name": "stdout",
     "output_type": "stream",
     "text": [
      "Epoch 39/100 - Avg Loss: 244475.5704\n"
     ]
    },
    {
     "name": "stderr",
     "output_type": "stream",
     "text": [
      "                                                                                                                               \r"
     ]
    },
    {
     "name": "stdout",
     "output_type": "stream",
     "text": [
      "Epoch 40/100 - Avg Loss: 24136.2483\n"
     ]
    },
    {
     "name": "stderr",
     "output_type": "stream",
     "text": [
      "                                                                                                                                  \r"
     ]
    },
    {
     "name": "stdout",
     "output_type": "stream",
     "text": [
      "Epoch 41/100 - Avg Loss: 49866.5134\n"
     ]
    },
    {
     "name": "stderr",
     "output_type": "stream",
     "text": [
      "                                                                                                                                 \r"
     ]
    },
    {
     "name": "stdout",
     "output_type": "stream",
     "text": [
      "Epoch 42/100 - Avg Loss: 173274.2844\n"
     ]
    },
    {
     "name": "stderr",
     "output_type": "stream",
     "text": [
      "                                                                                                                                 \r"
     ]
    },
    {
     "name": "stdout",
     "output_type": "stream",
     "text": [
      "Epoch 43/100 - Avg Loss: 38294.4628\n"
     ]
    },
    {
     "name": "stderr",
     "output_type": "stream",
     "text": [
      "                                                                                                                                 \r"
     ]
    },
    {
     "name": "stdout",
     "output_type": "stream",
     "text": [
      "Epoch 44/100 - Avg Loss: 237199.0656\n"
     ]
    },
    {
     "name": "stderr",
     "output_type": "stream",
     "text": [
      "                                                                                                                                 \r"
     ]
    },
    {
     "name": "stdout",
     "output_type": "stream",
     "text": [
      "Epoch 45/100 - Avg Loss: 38069.9569\n"
     ]
    },
    {
     "name": "stderr",
     "output_type": "stream",
     "text": [
      "                                                                                                                               \r"
     ]
    },
    {
     "name": "stdout",
     "output_type": "stream",
     "text": [
      "Epoch 46/100 - Avg Loss: 15360.8911\n"
     ]
    },
    {
     "name": "stderr",
     "output_type": "stream",
     "text": [
      "                                                                                                                               \r"
     ]
    },
    {
     "name": "stdout",
     "output_type": "stream",
     "text": [
      "Epoch 47/100 - Avg Loss: 8029.2706\n"
     ]
    },
    {
     "name": "stderr",
     "output_type": "stream",
     "text": [
      "                                                                                                                               \r"
     ]
    },
    {
     "name": "stdout",
     "output_type": "stream",
     "text": [
      "Epoch 48/100 - Avg Loss: 54646.1094\n"
     ]
    },
    {
     "name": "stderr",
     "output_type": "stream",
     "text": [
      "                                                                                                                                 \r"
     ]
    },
    {
     "name": "stdout",
     "output_type": "stream",
     "text": [
      "Epoch 49/100 - Avg Loss: 97298.8505\n"
     ]
    },
    {
     "name": "stderr",
     "output_type": "stream",
     "text": [
      "                                                                                                                                \r"
     ]
    },
    {
     "name": "stdout",
     "output_type": "stream",
     "text": [
      "Epoch 50/100 - Avg Loss: 185859.6265\n"
     ]
    },
    {
     "name": "stderr",
     "output_type": "stream",
     "text": [
      "                                                                                                                                    \r"
     ]
    },
    {
     "name": "stdout",
     "output_type": "stream",
     "text": [
      "Epoch 51/100 - Avg Loss: 454340.5184\n"
     ]
    },
    {
     "name": "stderr",
     "output_type": "stream",
     "text": [
      "                                                                                                                               \r"
     ]
    },
    {
     "name": "stdout",
     "output_type": "stream",
     "text": [
      "Epoch 52/100 - Avg Loss: 32861.3053\n"
     ]
    },
    {
     "name": "stderr",
     "output_type": "stream",
     "text": [
      "                                                                                                                               \r"
     ]
    },
    {
     "name": "stdout",
     "output_type": "stream",
     "text": [
      "Epoch 53/100 - Avg Loss: 107560.4955\n"
     ]
    },
    {
     "name": "stderr",
     "output_type": "stream",
     "text": [
      "                                                                                                                               \r"
     ]
    },
    {
     "name": "stdout",
     "output_type": "stream",
     "text": [
      "Epoch 54/100 - Avg Loss: 12808.4183\n"
     ]
    },
    {
     "name": "stderr",
     "output_type": "stream",
     "text": [
      "                                                                                                                                \r"
     ]
    },
    {
     "name": "stdout",
     "output_type": "stream",
     "text": [
      "Epoch 55/100 - Avg Loss: 101698.5241\n"
     ]
    },
    {
     "name": "stderr",
     "output_type": "stream",
     "text": [
      "                                                                                                                                 \r"
     ]
    },
    {
     "name": "stdout",
     "output_type": "stream",
     "text": [
      "Epoch 56/100 - Avg Loss: 103242.5739\n"
     ]
    },
    {
     "name": "stderr",
     "output_type": "stream",
     "text": [
      "                                                                                                                               \r"
     ]
    },
    {
     "name": "stdout",
     "output_type": "stream",
     "text": [
      "Epoch 57/100 - Avg Loss: 3522.4006\n"
     ]
    },
    {
     "name": "stderr",
     "output_type": "stream",
     "text": [
      "                                                                                                                                  \r"
     ]
    },
    {
     "name": "stdout",
     "output_type": "stream",
     "text": [
      "Epoch 58/100 - Avg Loss: 32072.4879\n"
     ]
    },
    {
     "name": "stderr",
     "output_type": "stream",
     "text": [
      "                                                                                                                                    \r"
     ]
    },
    {
     "name": "stdout",
     "output_type": "stream",
     "text": [
      "Epoch 59/100 - Avg Loss: 2942985.0718\n"
     ]
    },
    {
     "name": "stderr",
     "output_type": "stream",
     "text": [
      "                                                                                                                               \r"
     ]
    },
    {
     "name": "stdout",
     "output_type": "stream",
     "text": [
      "Epoch 60/100 - Avg Loss: 15678.9048\n"
     ]
    },
    {
     "name": "stderr",
     "output_type": "stream",
     "text": [
      "                                                                                                                                     \r"
     ]
    },
    {
     "name": "stdout",
     "output_type": "stream",
     "text": [
      "Epoch 61/100 - Avg Loss: 7543161.4776\n"
     ]
    },
    {
     "name": "stderr",
     "output_type": "stream",
     "text": [
      "                                                                                                                                    \r"
     ]
    },
    {
     "name": "stdout",
     "output_type": "stream",
     "text": [
      "Epoch 62/100 - Avg Loss: 4257209.8976\n"
     ]
    },
    {
     "name": "stderr",
     "output_type": "stream",
     "text": [
      "                                                                                                                                \r"
     ]
    },
    {
     "name": "stdout",
     "output_type": "stream",
     "text": [
      "Epoch 63/100 - Avg Loss: 63257.1882\n"
     ]
    },
    {
     "name": "stderr",
     "output_type": "stream",
     "text": [
      "                                                                                                                                \r"
     ]
    },
    {
     "name": "stdout",
     "output_type": "stream",
     "text": [
      "Epoch 64/100 - Avg Loss: 66961.3268\n"
     ]
    },
    {
     "name": "stderr",
     "output_type": "stream",
     "text": [
      "                                                                                                                                 \r"
     ]
    },
    {
     "name": "stdout",
     "output_type": "stream",
     "text": [
      "Epoch 65/100 - Avg Loss: 128802.4517\n"
     ]
    },
    {
     "name": "stderr",
     "output_type": "stream",
     "text": [
      "                                                                                                                               \r"
     ]
    },
    {
     "name": "stdout",
     "output_type": "stream",
     "text": [
      "Epoch 66/100 - Avg Loss: 7304.7487\n"
     ]
    },
    {
     "name": "stderr",
     "output_type": "stream",
     "text": [
      "                                                                                                                                     \r"
     ]
    },
    {
     "name": "stdout",
     "output_type": "stream",
     "text": [
      "Epoch 67/100 - Avg Loss: 231835547.8708\n"
     ]
    },
    {
     "name": "stderr",
     "output_type": "stream",
     "text": [
      "                                                                                                                                \r"
     ]
    },
    {
     "name": "stdout",
     "output_type": "stream",
     "text": [
      "Epoch 68/100 - Avg Loss: 126226.7631\n"
     ]
    },
    {
     "name": "stderr",
     "output_type": "stream",
     "text": [
      "                                                                                                                                     \r"
     ]
    },
    {
     "name": "stdout",
     "output_type": "stream",
     "text": [
      "Epoch 69/100 - Avg Loss: 1573763.6465\n"
     ]
    },
    {
     "name": "stderr",
     "output_type": "stream",
     "text": [
      "                                                                                                                               \r"
     ]
    },
    {
     "name": "stdout",
     "output_type": "stream",
     "text": [
      "Epoch 70/100 - Avg Loss: 18000.7096\n"
     ]
    },
    {
     "name": "stderr",
     "output_type": "stream",
     "text": [
      "                                                                                                                                \r"
     ]
    },
    {
     "name": "stdout",
     "output_type": "stream",
     "text": [
      "Epoch 71/100 - Avg Loss: 118958.5472\n"
     ]
    },
    {
     "name": "stderr",
     "output_type": "stream",
     "text": [
      "                                                                                                                                 \r"
     ]
    },
    {
     "name": "stdout",
     "output_type": "stream",
     "text": [
      "Epoch 72/100 - Avg Loss: 70029.7146\n"
     ]
    },
    {
     "name": "stderr",
     "output_type": "stream",
     "text": [
      "                                                                                                                                 \r"
     ]
    },
    {
     "name": "stdout",
     "output_type": "stream",
     "text": [
      "Epoch 73/100 - Avg Loss: 44818.2655\n"
     ]
    },
    {
     "name": "stderr",
     "output_type": "stream",
     "text": [
      "                                                                                                                                \r"
     ]
    },
    {
     "name": "stdout",
     "output_type": "stream",
     "text": [
      "Epoch 74/100 - Avg Loss: 50148.0378\n"
     ]
    },
    {
     "name": "stderr",
     "output_type": "stream",
     "text": [
      "                                                                                                                                     \r"
     ]
    },
    {
     "name": "stdout",
     "output_type": "stream",
     "text": [
      "Epoch 75/100 - Avg Loss: 1798771.4037\n"
     ]
    },
    {
     "name": "stderr",
     "output_type": "stream",
     "text": [
      "                                                                                                                               \r"
     ]
    },
    {
     "name": "stdout",
     "output_type": "stream",
     "text": [
      "Epoch 76/100 - Avg Loss: 6244.3295\n"
     ]
    },
    {
     "name": "stderr",
     "output_type": "stream",
     "text": [
      "                                                                                                                               \r"
     ]
    },
    {
     "name": "stdout",
     "output_type": "stream",
     "text": [
      "Epoch 77/100 - Avg Loss: 11793.6849\n"
     ]
    },
    {
     "name": "stderr",
     "output_type": "stream",
     "text": [
      "                                                                                                                               \r"
     ]
    },
    {
     "name": "stdout",
     "output_type": "stream",
     "text": [
      "Epoch 78/100 - Avg Loss: 10019.5597\n"
     ]
    },
    {
     "name": "stderr",
     "output_type": "stream",
     "text": [
      "                                                                                                                               \r"
     ]
    },
    {
     "name": "stdout",
     "output_type": "stream",
     "text": [
      "Epoch 79/100 - Avg Loss: 8813.9325\n"
     ]
    },
    {
     "name": "stderr",
     "output_type": "stream",
     "text": [
      "                                                                                                                               \r"
     ]
    },
    {
     "name": "stdout",
     "output_type": "stream",
     "text": [
      "Epoch 80/100 - Avg Loss: 9078.1557\n"
     ]
    },
    {
     "name": "stderr",
     "output_type": "stream",
     "text": [
      "                                                                                                                                     \r"
     ]
    },
    {
     "name": "stdout",
     "output_type": "stream",
     "text": [
      "Epoch 81/100 - Avg Loss: 390891.2039\n"
     ]
    },
    {
     "name": "stderr",
     "output_type": "stream",
     "text": [
      "                                                                                                                                  \r"
     ]
    },
    {
     "name": "stdout",
     "output_type": "stream",
     "text": [
      "Epoch 82/100 - Avg Loss: 58070.2425\n"
     ]
    },
    {
     "name": "stderr",
     "output_type": "stream",
     "text": [
      "                                                                                                                               \r"
     ]
    },
    {
     "name": "stdout",
     "output_type": "stream",
     "text": [
      "Epoch 83/100 - Avg Loss: 6622.0931\n"
     ]
    },
    {
     "name": "stderr",
     "output_type": "stream",
     "text": [
      "                                                                                                                                \r"
     ]
    },
    {
     "name": "stdout",
     "output_type": "stream",
     "text": [
      "Epoch 84/100 - Avg Loss: 156262.8840\n"
     ]
    },
    {
     "name": "stderr",
     "output_type": "stream",
     "text": [
      "                                                                                                                               \r"
     ]
    },
    {
     "name": "stdout",
     "output_type": "stream",
     "text": [
      "Epoch 85/100 - Avg Loss: 48202.9351\n"
     ]
    },
    {
     "name": "stderr",
     "output_type": "stream",
     "text": [
      "                                                                                                                               \r"
     ]
    },
    {
     "name": "stdout",
     "output_type": "stream",
     "text": [
      "Epoch 86/100 - Avg Loss: 28456.3209\n"
     ]
    },
    {
     "name": "stderr",
     "output_type": "stream",
     "text": [
      "                                                                                                                               \r"
     ]
    },
    {
     "name": "stdout",
     "output_type": "stream",
     "text": [
      "Epoch 87/100 - Avg Loss: 238991.4969\n"
     ]
    },
    {
     "name": "stderr",
     "output_type": "stream",
     "text": [
      "                                                                                                                              \r"
     ]
    },
    {
     "name": "stdout",
     "output_type": "stream",
     "text": [
      "Epoch 88/100 - Avg Loss: 16562.5965\n"
     ]
    },
    {
     "name": "stderr",
     "output_type": "stream",
     "text": [
      "                                                                                                                              \r"
     ]
    },
    {
     "name": "stdout",
     "output_type": "stream",
     "text": [
      "Epoch 89/100 - Avg Loss: 22646.2004\n"
     ]
    },
    {
     "name": "stderr",
     "output_type": "stream",
     "text": [
      "                                                                                                                              \r"
     ]
    },
    {
     "name": "stdout",
     "output_type": "stream",
     "text": [
      "Epoch 90/100 - Avg Loss: 21194.5563\n"
     ]
    },
    {
     "name": "stderr",
     "output_type": "stream",
     "text": [
      "                                                                                                                              \r"
     ]
    },
    {
     "name": "stdout",
     "output_type": "stream",
     "text": [
      "Epoch 91/100 - Avg Loss: 15230.9802\n"
     ]
    },
    {
     "name": "stderr",
     "output_type": "stream",
     "text": [
      "                                                                                                                               \r"
     ]
    },
    {
     "name": "stdout",
     "output_type": "stream",
     "text": [
      "Epoch 92/100 - Avg Loss: 77918.9346\n"
     ]
    },
    {
     "name": "stderr",
     "output_type": "stream",
     "text": [
      "                                                                                                                              \r"
     ]
    },
    {
     "name": "stdout",
     "output_type": "stream",
     "text": [
      "Epoch 93/100 - Avg Loss: 23905.5385\n"
     ]
    },
    {
     "name": "stderr",
     "output_type": "stream",
     "text": [
      "                                                                                                                                \r"
     ]
    },
    {
     "name": "stdout",
     "output_type": "stream",
     "text": [
      "Epoch 94/100 - Avg Loss: 33387.3197\n"
     ]
    },
    {
     "name": "stderr",
     "output_type": "stream",
     "text": [
      "                                                                                                                              \r"
     ]
    },
    {
     "name": "stdout",
     "output_type": "stream",
     "text": [
      "Epoch 95/100 - Avg Loss: 11124.7410\n"
     ]
    },
    {
     "name": "stderr",
     "output_type": "stream",
     "text": [
      "                                                                                                                                \r"
     ]
    },
    {
     "name": "stdout",
     "output_type": "stream",
     "text": [
      "Epoch 96/100 - Avg Loss: 65240.8669\n"
     ]
    },
    {
     "name": "stderr",
     "output_type": "stream",
     "text": [
      "                                                                                                                                    \r"
     ]
    },
    {
     "name": "stdout",
     "output_type": "stream",
     "text": [
      "Epoch 97/100 - Avg Loss: 2015112.1045\n"
     ]
    },
    {
     "name": "stderr",
     "output_type": "stream",
     "text": [
      "                                                                                                                              \r"
     ]
    },
    {
     "name": "stdout",
     "output_type": "stream",
     "text": [
      "Epoch 98/100 - Avg Loss: 30587.4642\n"
     ]
    },
    {
     "name": "stderr",
     "output_type": "stream",
     "text": [
      "                                                                                                                                   \r"
     ]
    },
    {
     "name": "stdout",
     "output_type": "stream",
     "text": [
      "Epoch 99/100 - Avg Loss: 4588071.6482\n"
     ]
    },
    {
     "name": "stderr",
     "output_type": "stream",
     "text": [
      "                                                                                                                               "
     ]
    },
    {
     "name": "stdout",
     "output_type": "stream",
     "text": [
      "Epoch 100/100 - Avg Loss: 19951.0629\n"
     ]
    },
    {
     "name": "stderr",
     "output_type": "stream",
     "text": [
      "\r"
     ]
    }
   ],
   "source": [
    "import numpy as np\n",
    "\n",
    "def train_model(encoder):\n",
    "    from dotenv import load_dotenv\n",
    "    load_dotenv()\n",
    "    data_folder = os.getenv(\"DATA_FOLDER\")\n",
    "    lookup_table_path = os.path.join(data_folder, 'simulation_lookuptable.json')\n",
    "    #dataset = SFMNNDataset(lookup_table_path, data_folder, patch_size=5)\n",
    "    #dataloader = DataLoader(dataset, batch_size=3, shuffle=True, drop_last=False)\n",
    "\n",
    "    device = torch.device(\"cuda\" if torch.cuda.is_available() else \"cpu\")\n",
    "    logger.info(f\"Using device: {device}\")\n",
    "\n",
    "    n_spectral_bands = len(dataset.get_wl())\n",
    "    # Input channels: n_spectral_bands + 3\n",
    "    C = n_spectral_bands + 3\n",
    "    logger.info(f\"Spectral channels: {n_spectral_bands}, total input channels: {C}\")\n",
    "\n",
    "    optimizer = optim.Adam(encoder.parameters(), lr=1e-5, weight_decay=1e-5)\n",
    "\n",
    "    # Pass the loss indices later.\n",
    "    loss_fn = SFMNNLoss(red_idx=680, nir_idx=800).to(device)\n",
    "\n",
    "    sensor_wl = torch.tensor(dataset.get_wl(), dtype=torch.float, device=device)\n",
    "    simulation = SFMNNSimulation(sensor_wl).to(device)\n",
    "\n",
    "    fixed_esun = dataset.fixed_esun\n",
    "    logger.info(f\"Using fixed Esun: {fixed_esun:.4f}\")\n",
    "\n",
    "    num_epochs = 100\n",
    "    # Define spectral window indices for loss: e.g., wavelengths between 760 and 780 nm.\n",
    "    indices = ((sensor_wl >= 760.0) & (sensor_wl <= 780.0)).nonzero(as_tuple=True)[0]\n",
    "    logger.info(f\"Loss calculated over indices: {indices.tolist()}, corresponding to {sensor_wl[indices[0]].item():.1f}-{sensor_wl[indices[-1]].item():.1f} nm.\")\n",
    "\n",
    "    for epoch in range(num_epochs):\n",
    "        encoder.train()\n",
    "        epoch_loss = 0.0\n",
    "        num_samples = 0\n",
    "        pbar = tqdm(dataloader, desc=f\"Epoch {epoch+1}/{num_epochs}\", leave=False)\n",
    "        for batch in pbar:\n",
    "            # batch: [B, 3623, H, W]\n",
    "            batch = batch.to(device)\n",
    "            B, _, H, W = batch.shape\n",
    "            \n",
    "            n_spectral_bands = len(dataset.get_wl())  # should be 3620\n",
    "\n",
    "            # Extract target reflectance: first n_spectral_bands channels.\n",
    "            target_full = batch[:, :n_spectral_bands, :, :]\n",
    "            target = target_full[:, indices, :, :]\n",
    "\n",
    "            # Extra channels: channel order: 0..n_spectral_bands-1: LTOA, n_spectral_bands: XTE, n_spectral_bands+1: SZA, n_spectral_bands+2: GNDALT.\n",
    "            sza = batch[:, n_spectral_bands+1, :, :]\n",
    "            E_s = fixed_esun * torch.ones(B, n_spectral_bands, H, W, device=device)\n",
    "            cos_theta_s = torch.cos(sza * np.pi / 180.0)\n",
    "\n",
    "            latent = encoder(batch)  # Expected shape: [B, H, W, 9, latent_dim]\n",
    "            # Force latent to only have the first n_spectral_bands channels\n",
    "            latent = latent[:, :, :, :, :n_spectral_bands]\n",
    "\n",
    "            t1 = latent[:, :, :, 0, :].permute(0, 3, 1, 2)  # Now shape [B, 3620, H, W]\n",
    "            t2 = latent[:, :, :, 1, :].permute(0, 3, 1, 2)\n",
    "            t3 = latent[:, :, :, 2, :].permute(0, 3, 1, 2)\n",
    "            t4 = latent[:, :, :, 3, :].permute(0, 3, 1, 2)\n",
    "            t5 = latent[:, :, :, 4, :].permute(0, 3, 1, 2)\n",
    "            t6 = latent[:, :, :, 5, :].permute(0, 3, 1, 2)\n",
    "            R_param = latent[:, :, :, 6, :].permute(0, 3, 1, 2)\n",
    "            F_param = latent[:, :, :, 7, :].permute(0, 3, 1, 2)\n",
    "            delta_lambda_enc = latent[:, :, :, 8, :].permute(0, 3, 1, 2)\n",
    "            delta_lambda = delta_lambda_enc.mean(dim=1)  # [B, H, W]\n",
    "\n",
    "            # Use a realistic delta_sigma (set to 0.0 here to preserve spectral resolution).\n",
    "            sim_output_full = simulation(t1, t2, t3, t4, t5, t6, R_param, F_param,\n",
    "                                          delta_lambda, torch.tensor(0.0, device=device),\n",
    "                                          E_s, cos_theta_s)\n",
    "            # sim_output_full: [B, 3620, H, W]\n",
    "            pred = sim_output_full[:, indices, :, :]\n",
    "\n",
    "            # Predicted SIF from F_param.\n",
    "            predicted_sif = F_param.mean(dim=1)  # [B, H, W]\n",
    "            outputs_dict = {\n",
    "                'reflectance': sim_output_full,\n",
    "                'sif': predicted_sif\n",
    "            }\n",
    "\n",
    "            total_loss, loss_dict = loss_fn(pred, target, outputs_dict, E_s, cos_theta_s, indices)\n",
    "            optimizer.zero_grad()\n",
    "            total_loss.backward()\n",
    "            torch.nn.utils.clip_grad_norm_(encoder.parameters(), max_norm=1.0)\n",
    "            optimizer.step()\n",
    "\n",
    "            epoch_loss += total_loss.item() * B\n",
    "            num_samples += B\n",
    "\n",
    "            pbar.set_postfix({\n",
    "                \"loss\": total_loss.item(),\n",
    "                \"recon\": loss_dict['recon'].item(),\n",
    "                \"signal\": loss_dict['signal'].item(),\n",
    "                \"ndvi\": loss_dict['ndvi'].item(),\n",
    "                \"atm\": loss_dict['atm'].item()\n",
    "            })\n",
    "        avg_epoch_loss = epoch_loss / num_samples\n",
    "        tqdm.write(f\"Epoch {epoch+1}/{num_epochs} - Avg Loss: {avg_epoch_loss:.4f}\")\n",
    "        \n",
    "    return encoder\n",
    "\n",
    "if __name__ == \"__main__\":\n",
    "    encoder = train_model(encoder)"
   ]
  },
  {
   "cell_type": "code",
   "execution_count": 16,
   "metadata": {},
   "outputs": [
    {
     "data": {
      "text/plain": [
       "tensor([[[[24.0332, 27.5794,  8.3433, 12.1416,  5.3576],\n",
       "          [31.5529, 12.8006, 32.6816,  5.5145, 23.8623],\n",
       "          [17.0548, 16.9916,  4.6557, 27.7118,  5.1087],\n",
       "          [14.2544, 10.7843, 12.0184, 25.2095,  9.0970],\n",
       "          [18.2745, 10.5297, 18.2317, 13.0000, 12.8576]],\n",
       "\n",
       "         [[21.3788, 24.5103,  7.4153, 10.8009,  4.7578],\n",
       "          [28.0456, 11.3793, 29.0535,  4.9071, 21.2068],\n",
       "          [15.1689, 15.1052,  4.1472, 24.6435,  4.5354],\n",
       "          [12.6639,  9.6080, 10.6769, 22.4230,  8.0894],\n",
       "          [16.2438,  9.3517, 16.2006, 11.5801, 11.4367]],\n",
       "\n",
       "         [[23.7746, 27.2699,  8.2510, 12.0116,  5.2993],\n",
       "          [31.2116, 12.6602, 32.3264,  5.4537, 23.6012],\n",
       "          [16.8678, 16.8037,  4.6062, 27.4042,  5.0496],\n",
       "          [14.0938, 10.6661, 11.8866, 24.9348,  8.9957],\n",
       "          [18.0689, 10.4077, 18.0254, 12.8625, 12.7180]],\n",
       "\n",
       "         ...,\n",
       "\n",
       "         [[ 0.0000,  0.0000,  0.0000,  0.0000,  0.0000],\n",
       "          [ 0.0000,  0.0000,  0.0000,  0.0000,  0.0000],\n",
       "          [ 0.0000,  0.0000,  0.0000,  0.0000,  0.0000],\n",
       "          [ 0.0000,  0.0000,  0.0000,  0.0000,  0.0000],\n",
       "          [ 0.0000,  0.0000,  0.0000,  0.0000,  0.0000]],\n",
       "\n",
       "         [[ 0.0000,  0.0000, 35.0000, 35.0000, 60.0000],\n",
       "          [ 0.0000, 35.0000,  0.0000, 60.0000,  0.0000],\n",
       "          [ 0.0000,  0.0000, 60.0000,  0.0000, 60.0000],\n",
       "          [35.0000, 35.0000, 35.0000,  0.0000, 35.0000],\n",
       "          [ 0.0000, 35.0000,  0.0000, 35.0000, 35.0000]],\n",
       "\n",
       "         [[ 1.0000,  1.0000,  1.0000,  1.0000,  1.0000],\n",
       "          [ 1.0000,  1.0000,  1.0000,  1.0000,  1.0000],\n",
       "          [ 1.0000,  1.0000,  1.0000,  1.0000,  1.0000],\n",
       "          [ 1.0000,  1.0000,  1.0000,  1.0000,  1.0000],\n",
       "          [ 1.0000,  1.0000,  1.0000,  1.0000,  1.0000]]]], device='cuda:0')"
      ]
     },
     "execution_count": 16,
     "metadata": {},
     "output_type": "execute_result"
    }
   ],
   "source": [
    "sample = dataset[0].unsqueeze(0).to(device)\n",
    "sample"
   ]
  },
  {
   "cell_type": "code",
   "execution_count": 19,
   "metadata": {},
   "outputs": [
    {
     "data": {
      "image/png": "[encoded data removed]",
      "text/plain": [
       "<Figure size 1200x600 with 1 Axes>"
      ]
     },
     "metadata": {},
     "output_type": "display_data"
    },
    {
     "data": {
      "image/png": "[encoded data removed]",
      "text/plain": [
       "<Figure size 1200x600 with 1 Axes>"
      ]
     },
     "metadata": {},
     "output_type": "display_data"
    },
    {
     "name": "stdout",
     "output_type": "stream",
     "text": [
      "Center Pixel Target Reflectance: [ 6.754405   6.007033   6.6804585 ... 43.3055    36.69765   32.22189  ]\n",
      "Center Pixel Raw LTOA: [ 0.001277   -0.00151138  0.00184584 ... -0.00111395  0.00163903\n",
      " -0.00274399]\n",
      "Center Pixel Simulated L_hyp: [-32572.887 -32572.887 -32572.887 ... -32572.887 -32572.887 -32572.887]\n",
      "Center Pixel Predicted SIF Spectrum: [ 0.00687238  0.00066971 -0.0028938  ... -0.00154827 -0.00714957\n",
      "  0.01031485]\n"
     ]
    }
   ],
   "source": [
    "import matplotlib.pyplot as plt\n",
    "import random\n",
    "\n",
    "def verify_inference(encoder, simulation, dataset, fixed_esun, sensor_wl, device):\n",
    "    \"\"\"\n",
    "    Randomly selects a patch from the dataset, performs inference,\n",
    "    and plots:\n",
    "      - The original target reflectance spectrum (from the patch)\n",
    "      - The simulated sensor output L_hyp spectrum (after sensor simulation)\n",
    "      - The raw predicted LTOA spectrum (before sensor simulation)\n",
    "      - The predicted fluorescence (SIF) spectral signature (without averaging)\n",
    "    \n",
    "    Assumes:\n",
    "      - The dataset returns a tensor of shape [C, H, W] with C = num_wavelengths + 3,\n",
    "        where the first num_wavelengths channels are LTOA.\n",
    "      - sensor_wl is a tensor of shape [num_wavelengths].\n",
    "      - The extra channels are (in order): XTE, SZA, GNDALT.\n",
    "    \"\"\"\n",
    "    encoder.eval()\n",
    "    simulation.eval()\n",
    "    \n",
    "    # Randomly select one patch from the dataset.\n",
    "    idx = random.randint(0, len(dataset) - 1)\n",
    "    sample = dataset[idx].unsqueeze(0).to(device)  # shape: [1, C, H, W]\n",
    "    B, C, H, W = sample.shape\n",
    "    n_spectral = len(dataset.get_wl())  # e.g., 3620\n",
    "    \n",
    "    # Extract target reflectance from the first n_spectral channels.\n",
    "    target_full = sample[:, :n_spectral, :, :]  # shape: [1, n_spectral, H, W]\n",
    "    \n",
    "    # Extract extra channels.\n",
    "    # Channel order: [0:n_spectral] = LTOA, [n_spectral] = XTE, [n_spectral+1] = SZA, [n_spectral+2] = GNDALT.\n",
    "    sza = sample[:, n_spectral + 1, :, :]  # shape: [1, H, W]\n",
    "    # Create E_s from fixed_esun with shape [1, n_spectral, H, W]\n",
    "    E_s = fixed_esun * torch.ones(1, n_spectral, H, W, device=device)\n",
    "    cos_theta_s = torch.cos(sza * np.pi / 180.0)  # shape: [1, H, W]\n",
    "    \n",
    "    with torch.no_grad():\n",
    "        latent = encoder(sample)  # expected shape: [1, H, W, 9, latent_dim]\n",
    "        # Force latent to only have the spectral channels:\n",
    "        latent = latent[:, :, :, :, :n_spectral]  # Now shape: [1, H, W, 9, n_spectral]\n",
    "        \n",
    "        # Extract latent variables; each becomes shape: [1, n_spectral, H, W]\n",
    "        t1 = latent[:, :, :, 0, :].permute(0, 3, 1, 2)\n",
    "        t2 = latent[:, :, :, 1, :].permute(0, 3, 1, 2)\n",
    "        t3 = latent[:, :, :, 2, :].permute(0, 3, 1, 2)\n",
    "        t4 = latent[:, :, :, 3, :].permute(0, 3, 1, 2)\n",
    "        t5 = latent[:, :, :, 4, :].permute(0, 3, 1, 2)\n",
    "        t6 = latent[:, :, :, 5, :].permute(0, 3, 1, 2)\n",
    "        R_param = latent[:, :, :, 6, :].permute(0, 3, 1, 2)\n",
    "        F_param = latent[:, :, :, 7, :].permute(0, 3, 1, 2)  # Full spectral fluorescence prediction.\n",
    "        delta_lambda_enc = latent[:, :, :, 8, :].permute(0, 3, 1, 2)\n",
    "        delta_lambda = delta_lambda_enc.mean(dim=1)  # [1, H, W]\n",
    "        \n",
    "        delta_sigma = torch.tensor(0.0, device=device)\n",
    "        \n",
    "        # Compute simulated sensor output L_hyp (after sensor simulation).\n",
    "        L_hyp = simulation(t1, t2, t3, t4, t5, t6, R_param, F_param,\n",
    "                           delta_lambda, delta_sigma, E_s, cos_theta_s)\n",
    "        # L_hyp: [1, n_spectral, H, W]\n",
    "        \n",
    "        # Also compute the raw predicted LTOA (before sensor simulation) by calling the four_stream module directly.\n",
    "        L_toa = simulation.four_stream(t1, t2, t3, t4, t5, t6, R_param, F_param, E_s, cos_theta_s)\n",
    "        # L_toa: [1, n_spectral, H, W]\n",
    "        \n",
    "        # Instead of averaging F_param to a single value, we keep it as full-spectrum.\n",
    "        predicted_sif = F_param  # [1, n_spectral, H, W]\n",
    "    \n",
    "    # For plotting, select the center pixel of the patch.\n",
    "    center_h, center_w = H // 2, W // 2\n",
    "    # Get spectra from the center pixel:\n",
    "    target_spec = target_full[0, :, center_h, center_w].cpu().numpy()  # ground truth reflectance\n",
    "    L_hyp_spec = L_hyp[0, :, center_h, center_w].cpu().numpy()         # sensor simulated LTOA (L_hyp)\n",
    "    L_toa_spec = L_toa[0, :, center_h, center_w].cpu().numpy()           # raw LTOA before sensor simulation\n",
    "    predicted_sif_spec = predicted_sif[0, :, center_h, center_w].cpu().numpy()  # full fluorescence spectrum\n",
    "    \n",
    "    # Plot the target reflectance vs. simulated sensor output vs. raw LTOA.\n",
    "    plt.figure(figsize=(12, 6))\n",
    "    plt.plot(sensor_wl.cpu().numpy(), target_spec, label='Target Reflectance', linewidth=2)\n",
    "    plt.plot(sensor_wl.cpu().numpy(), L_toa_spec, label='Predicted LTOA (raw)', linestyle='--', linewidth=2)\n",
    "    plt.plot(sensor_wl.cpu().numpy(), L_hyp_spec, label='Simulated Sensor Output (L_hyp)', linestyle=':', linewidth=2)\n",
    "    plt.xlabel('Wavelength (nm)')\n",
    "    plt.ylabel('Radiance / Reflectance')\n",
    "    plt.title('Center Pixel Spectrum Comparison')\n",
    "    plt.legend()\n",
    "    plt.grid(True)\n",
    "    plt.show()\n",
    "    \n",
    "    # Plot the predicted fluorescence spectrum (SIF) at the center pixel.\n",
    "    plt.figure(figsize=(12, 6))\n",
    "    plt.plot(sensor_wl.cpu().numpy(), predicted_sif_spec, label='Predicted Fluorescence (SIF)', color='magenta', linewidth=2)\n",
    "    plt.xlabel('Wavelength (nm)')\n",
    "    plt.ylabel('Fluorescence Intensity')\n",
    "    plt.title('Predicted Fluorescence Spectrum at Center Pixel')\n",
    "    plt.legend()\n",
    "    plt.grid(True)\n",
    "    plt.show()\n",
    "    \n",
    "    print(\"Center Pixel Target Reflectance:\", target_spec)\n",
    "    print(\"Center Pixel Raw LTOA:\", L_toa_spec)\n",
    "    print(\"Center Pixel Simulated L_hyp:\", L_hyp_spec)\n",
    "    print(\"Center Pixel Predicted SIF Spectrum:\", predicted_sif_spec)\n",
    "\n",
    "\n",
    "# To run verification after training:\n",
    "# Assume encoder, simulation, dataset, fixed_esun, sensor_wl, device are defined as in train_model().\n",
    "# For example, after training, call:\n",
    "sensor_wl = torch.tensor(dataset.get_wl(), dtype=torch.float, device=device)\n",
    "simulation = SFMNNSimulation(sensor_wl).to(device)\n",
    "fixed_esun = dataset.fixed_esun\n",
    "verify_inference(encoder, simulation, dataset, fixed_esun, sensor_wl, device)"
   ]
  },
  {
   "cell_type": "markdown",
   "metadata": {},
   "source": [
    "----\n",
    "# <center>Playground, this is for testing purposes"
   ]
  },
  {
   "cell_type": "code",
   "execution_count": 18,
   "metadata": {},
   "outputs": [
    {
     "ename": "TypeError",
     "evalue": "float() argument must be a string or a real number, not 'list'",
     "output_type": "error",
     "traceback": [
      "\u001b[0;31m---------------------------------------------------------------------------\u001b[0m",
      "\u001b[0;31mTypeError\u001b[0m                                 Traceback (most recent call last)",
      "Cell \u001b[0;32mIn[18], line 404\u001b[0m\n\u001b[1;32m    402\u001b[0m data_folder \u001b[38;5;241m=\u001b[39m \u001b[38;5;124m\"\u001b[39m\u001b[38;5;124m./output/\u001b[39m\u001b[38;5;124m\"\u001b[39m  \u001b[38;5;66;03m# folder containing simulation_sim_*.json files\u001b[39;00m\n\u001b[1;32m    403\u001b[0m lookup_table \u001b[38;5;241m=\u001b[39m \u001b[38;5;124m\"\u001b[39m\u001b[38;5;124m./output/simulation_lookuptable.json\u001b[39m\u001b[38;5;124m\"\u001b[39m\n\u001b[0;32m--> 404\u001b[0m \u001b[43mtrain_sfmnn\u001b[49m\u001b[43m(\u001b[49m\u001b[43mdata_folder\u001b[49m\u001b[43m,\u001b[49m\u001b[43m \u001b[49m\u001b[43mlookup_table\u001b[49m\u001b[43m,\u001b[49m\u001b[43m \u001b[49m\u001b[43mpatch_size\u001b[49m\u001b[38;5;241;43m=\u001b[39;49m\u001b[38;5;241;43m5\u001b[39;49m\u001b[43m,\u001b[49m\u001b[43m \u001b[49m\u001b[43mnum_epochs\u001b[49m\u001b[38;5;241;43m=\u001b[39;49m\u001b[38;5;241;43m20\u001b[39;49m\u001b[43m,\u001b[49m\u001b[43m \u001b[49m\u001b[43mlr\u001b[49m\u001b[38;5;241;43m=\u001b[39;49m\u001b[38;5;241;43m1e-4\u001b[39;49m\u001b[43m,\u001b[49m\u001b[43m \u001b[49m\u001b[43mbatch_size\u001b[49m\u001b[38;5;241;43m=\u001b[39;49m\u001b[38;5;241;43m4\u001b[39;49m\u001b[43m)\u001b[49m\n",
      "Cell \u001b[0;32mIn[18], line 309\u001b[0m, in \u001b[0;36mtrain_sfmnn\u001b[0;34m(data_folder, lookup_table_path, patch_size, num_epochs, lr, batch_size, n_spectral, sensor_channels)\u001b[0m\n\u001b[1;32m    306\u001b[0m \u001b[38;5;28;01mdef\u001b[39;00m \u001b[38;5;21mtrain_sfmnn\u001b[39m(data_folder, lookup_table_path, patch_size\u001b[38;5;241m=\u001b[39m\u001b[38;5;241m5\u001b[39m,\n\u001b[1;32m    307\u001b[0m                 num_epochs\u001b[38;5;241m=\u001b[39m\u001b[38;5;241m20\u001b[39m, lr\u001b[38;5;241m=\u001b[39m\u001b[38;5;241m1e-4\u001b[39m, batch_size\u001b[38;5;241m=\u001b[39m\u001b[38;5;241m4\u001b[39m,\n\u001b[1;32m    308\u001b[0m                 n_spectral\u001b[38;5;241m=\u001b[39m\u001b[38;5;241m3620\u001b[39m, sensor_channels\u001b[38;5;241m=\u001b[39m\u001b[38;5;241m172\u001b[39m):\n\u001b[0;32m--> 309\u001b[0m     dataset \u001b[38;5;241m=\u001b[39m \u001b[43mSFMNNDataset\u001b[49m\u001b[43m(\u001b[49m\u001b[43mlookup_table_path\u001b[49m\u001b[43m,\u001b[49m\u001b[43m \u001b[49m\u001b[43mdata_folder\u001b[49m\u001b[43m,\u001b[49m\u001b[43m \u001b[49m\u001b[43mpatch_size\u001b[49m\u001b[38;5;241;43m=\u001b[39;49m\u001b[43mpatch_size\u001b[49m\u001b[43m,\u001b[49m\u001b[43m \u001b[49m\u001b[43mn_spectral\u001b[49m\u001b[38;5;241;43m=\u001b[39;49m\u001b[43mn_spectral\u001b[49m\u001b[43m)\u001b[49m\n\u001b[1;32m    310\u001b[0m     dataloader \u001b[38;5;241m=\u001b[39m DataLoader(dataset, batch_size\u001b[38;5;241m=\u001b[39mbatch_size, shuffle\u001b[38;5;241m=\u001b[39m\u001b[38;5;28;01mTrue\u001b[39;00m, drop_last\u001b[38;5;241m=\u001b[39m\u001b[38;5;28;01mTrue\u001b[39;00m)\n\u001b[1;32m    312\u001b[0m     device \u001b[38;5;241m=\u001b[39m torch\u001b[38;5;241m.\u001b[39mdevice(\u001b[38;5;124m\"\u001b[39m\u001b[38;5;124mcuda\u001b[39m\u001b[38;5;124m\"\u001b[39m \u001b[38;5;28;01mif\u001b[39;00m torch\u001b[38;5;241m.\u001b[39mcuda\u001b[38;5;241m.\u001b[39mis_available() \u001b[38;5;28;01melse\u001b[39;00m \u001b[38;5;124m\"\u001b[39m\u001b[38;5;124mcpu\u001b[39m\u001b[38;5;124m\"\u001b[39m)\n",
      "Cell \u001b[0;32mIn[18], line 69\u001b[0m, in \u001b[0;36mSFMNNDataset.__init__\u001b[0;34m(self, lookup_table_path, data_folder, patch_size, n_spectral)\u001b[0m\n\u001b[1;32m     67\u001b[0m \u001b[38;5;66;03m# Compute XTE = tan(VZA) * GNDALT\u001b[39;00m\n\u001b[1;32m     68\u001b[0m xte_val \u001b[38;5;241m=\u001b[39m np\u001b[38;5;241m.\u001b[39mtan(np\u001b[38;5;241m.\u001b[39mdeg2rad(VZA_value)) \u001b[38;5;241m*\u001b[39m GNDALT_value\n\u001b[0;32m---> 69\u001b[0m esun_val \u001b[38;5;241m=\u001b[39m \u001b[38;5;28;43mfloat\u001b[39;49m\u001b[43m(\u001b[49m\u001b[43mdata\u001b[49m\u001b[38;5;241;43m.\u001b[39;49m\u001b[43mget\u001b[49m\u001b[43m(\u001b[49m\u001b[38;5;124;43m\"\u001b[39;49m\u001b[38;5;124;43mEsun\u001b[39;49m\u001b[38;5;124;43m\"\u001b[39;49m\u001b[43m,\u001b[49m\u001b[43m \u001b[49m\u001b[38;5;241;43m1.0\u001b[39;49m\u001b[43m)\u001b[49m\u001b[43m)\u001b[49m\n\u001b[1;32m     71\u001b[0m LTOA_list\u001b[38;5;241m.\u001b[39mappend(LTOA_value)\n\u001b[1;32m     72\u001b[0m SZA_list\u001b[38;5;241m.\u001b[39mappend(SZA_value)\n",
      "\u001b[0;31mTypeError\u001b[0m: float() argument must be a string or a real number, not 'list'"
     ]
    }
   ],
   "source": [
    "#!/usr/bin/env python3\n",
    "import os\n",
    "import json\n",
    "import glob\n",
    "import numpy as np\n",
    "import torch\n",
    "import torch.nn as nn\n",
    "import torch.nn.functional as F\n",
    "import torch.optim as optim\n",
    "from torch.utils.data import Dataset, DataLoader\n",
    "from tqdm import tqdm\n",
    "import logging\n",
    "\n",
    "################################################################################\n",
    "# Logging\n",
    "################################################################################\n",
    "logging.basicConfig(level=logging.INFO,\n",
    "                    format=\"%(asctime)s [%(levelname)s] %(message)s\",\n",
    "                    handlers=[logging.StreamHandler()])\n",
    "logger = logging.getLogger(\"train_sfmnn\")\n",
    "\n",
    "################################################################################\n",
    "# Dataset\n",
    "################################################################################\n",
    "class SFMNNDataset(Dataset):\n",
    "    \"\"\"\n",
    "    This Dataset is designed to mimic your simulation JSON files.\n",
    "    It expects a lookup table JSON (with key \"modtran_wavelength\") and a folder\n",
    "    containing simulation JSON files. Each JSON is assumed to have:\n",
    "      - \"LTOA\": a list (or array) of length n_spectral (e.g., 3620)\n",
    "      - \"MODTRAN_settings\": with subkeys under \"ATM\" for SZA, VZA, GNDALT.\n",
    "      - Optionally \"Esun\".\n",
    "    Here, for demonstration, we create random patches if no files are found.\n",
    "    \n",
    "    Each patch is returned as a tensor of shape [C, H, W], where\n",
    "      C = n_spectral + 3  (last three channels are: XTE, SZA, GNDALT)\n",
    "    \"\"\"\n",
    "    def __init__(self, lookup_table_path, data_folder, patch_size=5, n_spectral=3620):\n",
    "        super().__init__()\n",
    "        self.patch_size = patch_size\n",
    "        self.n_spectral = n_spectral\n",
    "\n",
    "        # Load wavelengths from lookup table\n",
    "        with open(lookup_table_path, \"r\") as f:\n",
    "            lookup = json.load(f)\n",
    "        self.wl = np.array(lookup[\"modtran_wavelength\"])  # shape (n_spectral,)\n",
    "\n",
    "        # List all simulation JSON files in data_folder.\n",
    "        sim_files = sorted(glob.glob(os.path.join(data_folder, \"simulation_sim_*.json\")))\n",
    "        if len(sim_files) == 0:\n",
    "            logger.warning(\"No simulation JSON files found; using dummy data.\")\n",
    "\n",
    "        self.patches = []\n",
    "        LTOA_list = []\n",
    "        XTE_list = []\n",
    "        SZA_list = []\n",
    "        GNDALT_list = []\n",
    "        Esun_list = []\n",
    "        \n",
    "        for file_path in sim_files:\n",
    "            with open(file_path, \"r\") as f:\n",
    "                data = json.load(f)\n",
    "            LTOA_value = np.array(data[\"LTOA\"], dtype=np.float32)  # shape (n_spectral,)\n",
    "            SZA_value = float(data[\"MODTRAN_settings\"][\"ATM\"][\"SZA\"])\n",
    "            VZA_value = float(data[\"MODTRAN_settings\"][\"ATM\"][\"VZA\"])\n",
    "            GNDALT_value = float(data[\"MODTRAN_settings\"][\"ATM\"][\"GNDALT\"])\n",
    "            # Compute XTE = tan(VZA) * GNDALT\n",
    "            xte_val = np.tan(np.deg2rad(VZA_value)) * GNDALT_value\n",
    "            esun_val = float(data.get(\"Esun\", 1.0))\n",
    "            \n",
    "            LTOA_list.append(LTOA_value)\n",
    "            SZA_list.append(SZA_value)\n",
    "            XTE_list.append(xte_val)\n",
    "            GNDALT_list.append(GNDALT_value)\n",
    "            Esun_list.append(esun_val)\n",
    "        \n",
    "        if len(LTOA_list) == 0:\n",
    "            num_samples = 50\n",
    "            for i in range(num_samples):\n",
    "                LTOA_list.append(np.random.rand(self.n_spectral).astype(np.float32))\n",
    "                SZA_list.append(30.0 + np.random.rand()*10)  # between 30 and 40 deg\n",
    "                XTE_list.append(np.random.rand()*100)\n",
    "                GNDALT_list.append(np.random.rand()*50)\n",
    "                Esun_list.append(1500.0)\n",
    "        \n",
    "        self.fixed_esun = float(np.mean(Esun_list))\n",
    "        logger.info(f\"Computed fixed Esun: {self.fixed_esun:.4f}\")\n",
    "\n",
    "        for i in range(len(LTOA_list)):\n",
    "            patch = np.zeros((self.n_spectral + 3, self.patch_size, self.patch_size), dtype=np.float32)\n",
    "            for band in range(self.n_spectral):\n",
    "                patch[band, :, :] = LTOA_list[i][band]\n",
    "            patch[self.n_spectral + 0, :, :] = XTE_list[i]\n",
    "            patch[self.n_spectral + 1, :, :] = SZA_list[i]\n",
    "            patch[self.n_spectral + 2, :, :] = GNDALT_list[i]\n",
    "            self.patches.append(torch.from_numpy(patch))\n",
    "    \n",
    "    def get_wl(self):\n",
    "        return self.wl\n",
    "\n",
    "    def __len__(self):\n",
    "        return len(self.patches)\n",
    "\n",
    "    def __getitem__(self, idx):\n",
    "        return self.patches[idx]\n",
    "\n",
    "\n",
    "################################################################################\n",
    "# Four-Stream Simulator (High-Res Domain)\n",
    "################################################################################\n",
    "class FourStreamSimulator(nn.Module):\n",
    "    def __init__(self):\n",
    "        super().__init__()\n",
    "        # Implements the physical forward model.\n",
    "    \n",
    "    def forward(self, t1, t2, t3, t4, t5, t6, R, F, E_s, cos_theta_s):\n",
    "        # All inputs: [B, 3620, H, W]\n",
    "        denom = 1.0 - t3 * R\n",
    "        denom = denom.clamp(min=1e-4)\n",
    "    \n",
    "        LTOA_part1 = t1 * t2\n",
    "        LTOA_part2 = (t1 * t4 * R + t2 * R + t5 * R + t6 * F) / denom\n",
    "        LTOA_noIrrad = LTOA_part1 + LTOA_part2\n",
    "    \n",
    "        mod_factor = (E_s * cos_theta_s) / np.pi\n",
    "        LTOA = LTOA_noIrrad * mod_factor  # [B, 3620, H, W]\n",
    "        return LTOA\n",
    "\n",
    "\n",
    "################################################################################\n",
    "# HyPlant Sensor Simulator (Downsampling to Sensor Domain)\n",
    "################################################################################\n",
    "class HyPlantSensorSimulator(nn.Module):\n",
    "    def __init__(self, sensor_wavelengths, high_res_range, high_res_steps):\n",
    "        \"\"\"\n",
    "        sensor_wavelengths: Tensor [sensor_channels] (e.g., 172 points over [750,770])\n",
    "        high_res_range: tuple, e.g., (750,770)\n",
    "        high_res_steps: number of high-res channels (e.g., 3620)\n",
    "        \"\"\"\n",
    "        super().__init__()\n",
    "        self.sensor_wavelengths = sensor_wavelengths  # [sensor_channels]\n",
    "        self.sensor_channels = sensor_wavelengths.shape[0]\n",
    "        self.high_res_range = high_res_range\n",
    "        self.high_res_steps = high_res_steps\n",
    "        self.register_buffer('wl_hr', torch.linspace(high_res_range[0], high_res_range[1], steps=high_res_steps))\n",
    "    \n",
    "    def forward(self, L_hr, delta_lambda, delta_sigma):\n",
    "        \"\"\"\n",
    "        L_hr: [B, high_res_steps, H, W] (e.g., [B,3620,H,W])\n",
    "        delta_lambda: [B, H, W]\n",
    "        delta_sigma: scalar\n",
    "        This module:\n",
    "         1. Applies a Gaussian blur along the spectral dimension.\n",
    "         2. Shifts the sensor wavelengths by avg(delta_lambda).\n",
    "         3. Uses grid_sample to re-sample L_hr to sensor space.\n",
    "        Returns:\n",
    "          L_sensor: [B, sensor_channels, H, W]\n",
    "        \"\"\"\n",
    "        B, C_hr, H, W = L_hr.shape\n",
    "        device = L_hr.device\n",
    "        \n",
    "        # Gaussian blur:\n",
    "        sigma = (0.27 + delta_sigma) * 2.3548  # FWHM->std\n",
    "        sigma = sigma if not torch.is_tensor(sigma) else sigma.item()\n",
    "        kernel_size = max(3, int(6 * sigma / ((self.high_res_range[1]-self.high_res_range[0])/self.high_res_steps)))\n",
    "        if kernel_size % 2 == 0:\n",
    "            kernel_size += 1\n",
    "        x = torch.linspace(-3*sigma, 3*sigma, kernel_size, device=device)\n",
    "        kernel = torch.exp(-0.5 * (x/sigma)**2)\n",
    "        kernel /= kernel.sum()\n",
    "        kernel = kernel.view(1,1,-1)\n",
    "    \n",
    "        L_hr_reshaped = L_hr.permute(0,2,3,1).reshape(B*H*W, 1, C_hr)\n",
    "        L_blur = F.conv1d(L_hr_reshaped, kernel, padding=kernel_size//2)\n",
    "        new_C_hr = L_blur.shape[-1]\n",
    "        L_blur = L_blur.view(B, H, W, new_C_hr).permute(0,3,1,2)\n",
    "    \n",
    "        # Wavelength shift:\n",
    "        avg_delta = delta_lambda.mean(dim=(1,2))  # [B]\n",
    "        shifted_sensor_wl = self.sensor_wavelengths.unsqueeze(0) + avg_delta.unsqueeze(1)  # [B, sensor_channels]\n",
    "        wl_min, wl_max = self.high_res_range\n",
    "        normalized_sensor_wl = 2 * (shifted_sensor_wl - wl_min) / (wl_max - wl_min) - 1  # [B, sensor_channels]\n",
    "    \n",
    "        # Grid sampling:\n",
    "        L_blur_2d = L_blur.permute(0,2,3,1).reshape(B*H*W, 1, new_C_hr, 1)\n",
    "        grid_y = normalized_sensor_wl.unsqueeze(1).expand(B, H*W, self.sensor_channels)\n",
    "        grid_x = torch.zeros_like(grid_y)\n",
    "        grid = torch.stack((grid_y, grid_x), dim=-1)\n",
    "        grid = grid.reshape(B*H*W, 1, self.sensor_channels, 2)\n",
    "    \n",
    "        L_sampled = F.grid_sample(L_blur_2d, grid, mode='bilinear', padding_mode='border', align_corners=True)\n",
    "        L_sampled = L_sampled.view(B, H, W, self.sensor_channels).permute(0,3,1,2)\n",
    "    \n",
    "        return L_sampled\n",
    "\n",
    "\n",
    "################################################################################\n",
    "# Full SFMNN Simulation (Combine Four-Stream and Sensor Simulation)\n",
    "################################################################################\n",
    "class SFMNNSimulation(nn.Module):\n",
    "    def __init__(self, sensor_wavelengths, high_res_range=(750,770), high_res_steps=3620):\n",
    "        super().__init__()\n",
    "        self.four_stream = FourStreamSimulator()\n",
    "        self.sensor_sim = HyPlantSensorSimulator(sensor_wavelengths, high_res_range, high_res_steps)\n",
    "    \n",
    "    def forward(self, t1, t2, t3, t4, t5, t6, R, F,\n",
    "                delta_lambda, delta_sigma,\n",
    "                E_s, cos_theta_s):\n",
    "        L_hr = self.four_stream(t1, t2, t3, t4, t5, t6, R, F, E_s, cos_theta_s)\n",
    "        L_sensor = self.sensor_sim(L_hr, delta_lambda, delta_sigma)\n",
    "        return L_sensor\n",
    "\n",
    "\n",
    "################################################################################\n",
    "# SFMNN Loss\n",
    "################################################################################\n",
    "class SFMNNLoss(nn.Module):\n",
    "    def __init__(self, gamma_f=5, gamma_N=10, gamma_a=1,\n",
    "                 ndvi_threshold=0.15, red_idx=30, nir_idx=60):\n",
    "        \"\"\"\n",
    "        red_idx and nir_idx are indices into the sensor domain (0..sensor_channels-1)\n",
    "        \"\"\"\n",
    "        super().__init__()\n",
    "        self.gamma_f = gamma_f\n",
    "        self.gamma_N = gamma_N\n",
    "        self.gamma_a = gamma_a\n",
    "        self.ndvi_threshold = ndvi_threshold\n",
    "        self.red_idx = red_idx\n",
    "        self.nir_idx = nir_idx\n",
    "    \n",
    "    def forward(self, pred, target, outputs, E_s, cos_theta_s, loss_indices):\n",
    "        # pred, target: [B, sensor_channels, H, W]\n",
    "        eps = 1e-6\n",
    "        recon_loss = torch.mean((pred - target)**2)\n",
    "    \n",
    "        # NDVI loss using simulated reflectance in sensor space.\n",
    "        reflectance = outputs['reflectance']  # expected shape: [B, sensor_channels, H, W]\n",
    "        B, C, H, W = reflectance.shape\n",
    "        if self.red_idx >= C or self.nir_idx >= C:\n",
    "            logger.warning(\"red_idx or nir_idx out of range; adjusting.\")\n",
    "            red_idx = min(self.red_idx, C-2)\n",
    "            nir_idx = min(self.nir_idx, C-1)\n",
    "        else:\n",
    "            red_idx, nir_idx = self.red_idx, self.nir_idx\n",
    "        red = reflectance[:, red_idx, :, :].clamp_min(eps)\n",
    "        nir = reflectance[:, nir_idx, :, :].clamp_min(eps)\n",
    "        ndvi = (nir - red) / (nir + red + eps)\n",
    "        sif_pred = outputs['sif']  # [B, H, W]\n",
    "        ndvi_loss = torch.mean(sif_pred * (ndvi <= self.ndvi_threshold).float())\n",
    "    \n",
    "        signal_loss = torch.mean((pred - target)**2)\n",
    "        atm_loss = torch.tensor(0.0, device=pred.device)\n",
    "    \n",
    "        total_loss = recon_loss + self.gamma_f * signal_loss + self.gamma_N * ndvi_loss + self.gamma_a * atm_loss\n",
    "        loss_dict = {\n",
    "            'total': total_loss,\n",
    "            'recon': recon_loss,\n",
    "            'signal': signal_loss,\n",
    "            'ndvi': ndvi_loss,\n",
    "            'atm': atm_loss\n",
    "        }\n",
    "        return total_loss, loss_dict\n",
    "\n",
    "\n",
    "################################################################################\n",
    "# SFMNN Encoder\n",
    "################################################################################\n",
    "class SFMNNEncoder(nn.Module):\n",
    "    \"\"\"\n",
    "    An MLP-based encoder that takes input [B, C, H, W] with C = n_spectral+3\n",
    "    and outputs latent representations per pixel of shape:\n",
    "       [B, H, W, 9, latent_dim]  where latent_dim = n_spectral (e.g., 3620)\n",
    "    \"\"\"\n",
    "    def __init__(self, input_channels=3623, num_variables=9, latent_dim=3620):\n",
    "        super().__init__()\n",
    "        self.latent_dim = latent_dim\n",
    "        self.num_variables = num_variables\n",
    "        self.input_norm = nn.BatchNorm1d(input_channels)\n",
    "        self.fc_layers = nn.Sequential(\n",
    "            nn.Linear(input_channels, 4096),\n",
    "            nn.BatchNorm1d(4096),\n",
    "            nn.ReLU(),\n",
    "            nn.Dropout(0.1),\n",
    "            nn.Linear(4096, 8192),\n",
    "            nn.BatchNorm1d(8192),\n",
    "            nn.ReLU(),\n",
    "            nn.Dropout(0.1),\n",
    "            nn.Linear(8192, 16384),\n",
    "            nn.BatchNorm1d(16384),\n",
    "            nn.ReLU(),\n",
    "            nn.Linear(16384, num_variables * latent_dim)\n",
    "        )\n",
    "    \n",
    "    def forward(self, x):\n",
    "        B, C, H, W = x.shape\n",
    "        x_flat = x.view(B*H*W, C)\n",
    "        x_norm = self.input_norm(x_flat)\n",
    "        x_fc = self.fc_layers(x_norm)\n",
    "        latent = x_fc.view(B, H, W, self.num_variables, self.latent_dim)\n",
    "        return latent\n",
    "\n",
    "\n",
    "################################################################################\n",
    "# Training Loop\n",
    "################################################################################\n",
    "def train_sfmnn(data_folder, lookup_table_path, patch_size=5,\n",
    "                num_epochs=20, lr=1e-4, batch_size=4,\n",
    "                n_spectral=3620, sensor_channels=172):\n",
    "    dataset = SFMNNDataset(lookup_table_path, data_folder, patch_size=patch_size, n_spectral=n_spectral)\n",
    "    dataloader = DataLoader(dataset, batch_size=batch_size, shuffle=True, drop_last=True)\n",
    "    \n",
    "    device = torch.device(\"cuda\" if torch.cuda.is_available() else \"cpu\")\n",
    "    logger.info(f\"Using device: {device}\")\n",
    "    total_input_channels = n_spectral + 3\n",
    "    logger.info(f\"Input channels: {total_input_channels}\")\n",
    "    \n",
    "    encoder = SFMNNEncoder(input_channels=total_input_channels, num_variables=9, latent_dim=n_spectral).to(device)\n",
    "    \n",
    "    sensor_wavelengths = torch.linspace(750, 770, steps=sensor_channels).to(device)\n",
    "    simulation = SFMNNSimulation(sensor_wavelengths, high_res_range=(750,770), high_res_steps=n_spectral).to(device)\n",
    "    \n",
    "    loss_fn = SFMNNLoss(gamma_f=5, gamma_N=10, gamma_a=1, ndvi_threshold=0.15,\n",
    "                        red_idx=30, nir_idx=60).to(device)\n",
    "    \n",
    "    optimizer = optim.Adam(encoder.parameters(), lr=lr, weight_decay=1e-5)\n",
    "    \n",
    "    # To simulate a sensor measurement target, we perform naive binning from the high-res LTOA.\n",
    "    # Since n_spectral might not be exactly divisible by sensor_channels, we slice off the extra channels.\n",
    "    factor = n_spectral // sensor_channels  # integer division\n",
    "    used_channels = sensor_channels * factor  # total channels to use\n",
    "    \n",
    "    for epoch in range(num_epochs):\n",
    "        encoder.train()\n",
    "        epoch_loss = 0.0\n",
    "        num_samples = 0\n",
    "        pbar = tqdm(dataloader, desc=f\"Epoch {epoch+1}/{num_epochs}\", leave=False)\n",
    "    \n",
    "        for batch in pbar:\n",
    "            batch = batch.to(device)  # shape: [B, total_input_channels, H, W]\n",
    "            B, C, H, W = batch.shape\n",
    "            \n",
    "            # Raw LTOA from first n_spectral channels\n",
    "            target_full = batch[:, :n_spectral, :, :]  # [B, n_spectral, H, W]\n",
    "            # Use only the first used_channels channels for binning\n",
    "            target_binned = target_full[:, :used_channels, :, :]\n",
    "            target = target_binned.reshape(B, sensor_channels, factor, H, W).mean(dim=2)  # [B, sensor_channels, H, W]\n",
    "    \n",
    "            # Build E_s and cos_theta_s in high-res domain.\n",
    "            E_s = dataset.fixed_esun * torch.ones(B, n_spectral, H, W, device=device)\n",
    "            sza = batch[:, n_spectral+1, :, :]  # SZA channel, shape: [B, H, W]\n",
    "            cos_theta_s = torch.cos(sza * np.pi/180.0).unsqueeze(1).expand(-1, n_spectral, -1, -1)  # [B, n_spectral, H, W]\n",
    "    \n",
    "            latent = encoder(batch)  # shape: [B, H, W, 9, n_spectral]\n",
    "            t1 = latent[:, :, :, 0, :].permute(0,3,1,2)  # [B, n_spectral, H, W]\n",
    "            t2 = latent[:, :, :, 1, :].permute(0,3,1,2)\n",
    "            t3 = latent[:, :, :, 2, :].permute(0,3,1,2)\n",
    "            t4 = latent[:, :, :, 3, :].permute(0,3,1,2)\n",
    "            t5 = latent[:, :, :, 4, :].permute(0,3,1,2)\n",
    "            t6 = latent[:, :, :, 5, :].permute(0,3,1,2)\n",
    "            R_param = latent[:, :, :, 6, :].permute(0,3,1,2)\n",
    "            F_param = latent[:, :, :, 7, :].permute(0,3,1,2)\n",
    "            delta_lambda_enc = latent[:, :, :, 8, :].permute(0,3,1,2)\n",
    "            delta_lambda = delta_lambda_enc.mean(dim=1)  # [B, H, W]\n",
    "            delta_sigma = torch.tensor(0.0, device=device)\n",
    "    \n",
    "            R_param = R_param.clamp(0.0, 0.98)\n",
    "            predicted_sif = F_param.mean(dim=1)  # [B, H, W]\n",
    "            outputs_dict = {'reflectance': R_param, 'sif': predicted_sif}\n",
    "    \n",
    "            pred = simulation(t1, t2, t3, t4, t5, t6, R_param, F_param,\n",
    "                              delta_lambda, delta_sigma, E_s, cos_theta_s)\n",
    "            # pred: [B, sensor_channels, H, W]\n",
    "    \n",
    "            loss, loss_dict = loss_fn(pred, target, outputs_dict, E_s, cos_theta_s, None)\n",
    "    \n",
    "            optimizer.zero_grad()\n",
    "            loss.backward()\n",
    "            torch.nn.utils.clip_grad_norm_(encoder.parameters(), max_norm=5.0)\n",
    "            optimizer.step()\n",
    "    \n",
    "            epoch_loss += loss.item() * B\n",
    "            num_samples += B\n",
    "            pbar.set_postfix({\n",
    "                \"loss\": loss.item(),\n",
    "                \"recon\": loss_dict['recon'].item(),\n",
    "                \"signal\": loss_dict['signal'].item(),\n",
    "                \"ndvi\": loss_dict['ndvi'].item(),\n",
    "                \"atm\": loss_dict['atm'].item()\n",
    "            })\n",
    "    \n",
    "        avg_epoch_loss = epoch_loss / num_samples\n",
    "        tqdm.write(f\"Epoch {epoch+1}/{num_epochs} - Avg Loss: {avg_epoch_loss:.4f}\")\n",
    "    \n",
    "    logger.info(\"Training complete!\")\n",
    "\n",
    "\n",
    "################################################################################\n",
    "# Main\n",
    "################################################################################\n",
    "if __name__ == \"__main__\":\n",
    "    # Set these paths to your real data.\n",
    "    data_folder = \"./output/\"  # folder containing simulation_sim_*.json files\n",
    "    lookup_table = \"./output/simulation_lookuptable.json\"\n",
    "    train_sfmnn(data_folder, lookup_table, patch_size=5, num_epochs=20, lr=1e-4, batch_size=4)\n"
   ]
  }
 ],
 "metadata": {
  "kernelspec": {
   "display_name": "matlab-env",
   "language": "python",
   "name": "python3"
  },
  "language_info": {
   "codemirror_mode": {
    "name": "ipython",
    "version": 3
   },
   "file_extension": ".py",
   "mimetype": "text/x-python",
   "name": "python",
   "nbconvert_exporter": "python",
   "pygments_lexer": "ipython3",
   "version": "3.11.11"
  }
 },
 "nbformat": 4,
 "nbformat_minor": 2
}
