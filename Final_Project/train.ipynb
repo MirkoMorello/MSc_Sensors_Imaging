{
 "cells": [
  {
   "cell_type": "code",
   "execution_count": 1,
   "metadata": {},
   "outputs": [],
   "source": [
    "from dataset import SFMNNDataset\n",
    "from network import SFMNNEncoder\n",
    "from simulate import SFMNNSimulation\n",
    "from loss import SFMNNLoss\n",
    "\n",
    "import torch\n",
    "import torch.optim as optim\n",
    "from torch.utils.data import DataLoader\n",
    "from tqdm import tqdm"
   ]
  },
  {
   "cell_type": "code",
   "execution_count": 2,
   "metadata": {},
   "outputs": [
    {
     "name": "stderr",
     "output_type": "stream",
     "text": [
      "Loading JSON files: 100%|██████████| 105/105 [00:00<00:00, 579.87it/s]"
     ]
    },
    {
     "name": "stdout",
     "output_type": "stream",
     "text": [
      "Reading file data\\simulation_sim_0_amb_0.json\n",
      "Reading file data\\simulation_sim_0_amb_1.json\n",
      "Reading file data\\simulation_sim_10_amb_0.json\n",
      "Reading file data\\simulation_sim_10_amb_1.json\n",
      "Reading file data\\simulation_sim_11_amb_0.json\n",
      "Reading file data\\simulation_sim_11_amb_1.json\n",
      "Reading file data\\simulation_sim_12_amb_0.json\n",
      "Reading file data\\simulation_sim_12_amb_1.json\n",
      "Reading file data\\simulation_sim_13_amb_0.json\n",
      "Reading file data\\simulation_sim_13_amb_1.json\n",
      "Reading file data\\simulation_sim_14_amb_0.json\n",
      "Reading file data\\simulation_sim_14_amb_1.json\n",
      "Reading file data\\simulation_sim_15_amb_0.json\n",
      "Reading file data\\simulation_sim_15_amb_1.json\n",
      "Reading file data\\simulation_sim_16_amb_0.json\n",
      "Reading file data\\simulation_sim_16_amb_1.json\n",
      "Reading file data\\simulation_sim_17_amb_0.json\n",
      "Reading file data\\simulation_sim_17_amb_1.json\n",
      "Reading file data\\simulation_sim_18_amb_0.json\n",
      "Reading file data\\simulation_sim_18_amb_1.json\n",
      "Reading file data\\simulation_sim_19_amb_0.json\n",
      "Reading file data\\simulation_sim_19_amb_1.json\n",
      "Reading file data\\simulation_sim_1_amb_0.json\n",
      "Reading file data\\simulation_sim_1_amb_1.json\n",
      "Reading file data\\simulation_sim_20_amb_0.json\n",
      "Reading file data\\simulation_sim_20_amb_1.json\n",
      "Reading file data\\simulation_sim_21_amb_0.json\n",
      "Reading file data\\simulation_sim_21_amb_1.json\n",
      "Reading file data\\simulation_sim_22_amb_0.json\n",
      "Reading file data\\simulation_sim_22_amb_1.json\n",
      "Reading file data\\simulation_sim_23_amb_0.json\n",
      "Reading file data\\simulation_sim_23_amb_1.json\n",
      "Reading file data\\simulation_sim_24_amb_0.json\n",
      "Reading file data\\simulation_sim_24_amb_1.json\n",
      "Reading file data\\simulation_sim_25_amb_0.json\n",
      "Reading file data\\simulation_sim_25_amb_1.json\n",
      "Reading file data\\simulation_sim_26_amb_0.json\n",
      "Reading file data\\simulation_sim_26_amb_1.json\n",
      "Reading file data\\simulation_sim_27_amb_0.json\n",
      "Reading file data\\simulation_sim_27_amb_1.json\n",
      "Reading file data\\simulation_sim_28_amb_0.json\n",
      "Reading file data\\simulation_sim_28_amb_1.json\n",
      "Reading file data\\simulation_sim_29_amb_0.json\n",
      "Reading file data\\simulation_sim_29_amb_1.json\n",
      "Reading file data\\simulation_sim_2_amb_0.json\n",
      "Reading file data\\simulation_sim_2_amb_1.json\n",
      "Reading file data\\simulation_sim_30_amb_0.json\n",
      "Reading file data\\simulation_sim_30_amb_1.json\n",
      "Reading file data\\simulation_sim_31_amb_0.json\n",
      "Reading file data\\simulation_sim_31_amb_1.json\n",
      "Reading file data\\simulation_sim_32_amb_0.json\n",
      "Reading file data\\simulation_sim_32_amb_1.json\n",
      "Reading file data\\simulation_sim_33_amb_0.json\n",
      "Reading file data\\simulation_sim_33_amb_1.json\n",
      "Reading file data\\simulation_sim_34_amb_0.json\n",
      "Reading file data\\simulation_sim_34_amb_1.json\n",
      "Reading file data\\simulation_sim_35_amb_0.json\n",
      "Reading file data\\simulation_sim_35_amb_1.json\n",
      "Reading file data\\simulation_sim_36_amb_0.json\n",
      "Reading file data\\simulation_sim_36_amb_1.json\n",
      "Reading file data\\simulation_sim_37_amb_0.json\n",
      "Reading file data\\simulation_sim_37_amb_1.json\n",
      "Reading file data\\simulation_sim_38_amb_0.json\n",
      "Reading file data\\simulation_sim_38_amb_1.json\n",
      "Reading file data\\simulation_sim_39_amb_0.json\n",
      "Reading file data\\simulation_sim_39_amb_1.json\n",
      "Reading file data\\simulation_sim_3_amb_0.json\n",
      "Reading file data\\simulation_sim_3_amb_1.json\n",
      "Reading file data\\simulation_sim_40_amb_0.json\n",
      "Reading file data\\simulation_sim_40_amb_1.json\n",
      "Reading file data\\simulation_sim_41_amb_0.json\n",
      "Reading file data\\simulation_sim_41_amb_1.json\n",
      "Reading file data\\simulation_sim_42_amb_0.json\n",
      "Reading file data\\simulation_sim_42_amb_1.json\n",
      "Reading file data\\simulation_sim_43_amb_0.json\n",
      "Reading file data\\simulation_sim_43_amb_1.json\n",
      "Reading file data\\simulation_sim_44_amb_0.json\n",
      "Reading file data\\simulation_sim_44_amb_1.json\n",
      "Reading file data\\simulation_sim_45_amb_0.json\n",
      "Reading file data\\simulation_sim_45_amb_1.json\n",
      "Reading file data\\simulation_sim_46_amb_0.json\n",
      "Reading file data\\simulation_sim_46_amb_1.json\n",
      "Reading file data\\simulation_sim_47_amb_0.json\n",
      "Reading file data\\simulation_sim_47_amb_1.json\n",
      "Reading file data\\simulation_sim_48_amb_0.json\n",
      "Reading file data\\simulation_sim_48_amb_1.json\n",
      "Reading file data\\simulation_sim_49_amb_0.json\n",
      "Reading file data\\simulation_sim_49_amb_1.json\n",
      "Reading file data\\simulation_sim_4_amb_0.json\n",
      "Reading file data\\simulation_sim_4_amb_1.json\n",
      "Reading file data\\simulation_sim_50_amb_0.json\n",
      "Reading file data\\simulation_sim_50_amb_1.json\n",
      "Reading file data\\simulation_sim_51_amb_0.json\n",
      "Reading file data\\simulation_sim_51_amb_1.json\n",
      "Reading file data\\simulation_sim_52_amb_0.json\n",
      "Reading file data\\simulation_sim_5_amb_0.json\n",
      "Reading file data\\simulation_sim_5_amb_1.json\n",
      "Reading file data\\simulation_sim_6_amb_0.json\n",
      "Reading file data\\simulation_sim_6_amb_1.json\n",
      "Reading file data\\simulation_sim_7_amb_0.json\n",
      "Reading file data\\simulation_sim_7_amb_1.json\n",
      "Reading file data\\simulation_sim_8_amb_0.json\n",
      "Reading file data\\simulation_sim_8_amb_1.json\n",
      "Reading file data\\simulation_sim_9_amb_0.json\n",
      "Reading file data\\simulation_sim_9_amb_1.json\n",
      "Total number of elements loaded: 105\n",
      "Total number of patches loaded: 6\n"
     ]
    },
    {
     "name": "stderr",
     "output_type": "stream",
     "text": [
      "\n"
     ]
    }
   ],
   "source": [
    "simulation_lookup = \"simulation_lookup.csv\"\n",
    "\n",
    "# Load the dataset\n",
    "dataset = SFMNNDataset('simulation_lookuptable.json', 'data/', patch_size=5)\n",
    "\n",
    "# Load the dataloader\n",
    "dataloader = DataLoader(dataset, batch_size=3, shuffle=True, drop_last=False)\n"
   ]
  },
  {
   "cell_type": "code",
   "execution_count": 3,
   "metadata": {},
   "outputs": [
    {
     "name": "stdout",
     "output_type": "stream",
     "text": [
      "cuda\n"
     ]
    }
   ],
   "source": [
    "device = torch.device(\"cuda\" if torch.cuda.is_available() else \"cpu\")\n",
    "print(device)"
   ]
  },
  {
   "cell_type": "code",
   "execution_count": 4,
   "metadata": {},
   "outputs": [],
   "source": [
    "# Number of spectral bands\n",
    "n_spectral_bands = len(dataset.get_wl())"
   ]
  },
  {
   "cell_type": "code",
   "execution_count": null,
   "metadata": {},
   "outputs": [
    {
     "data": {
      "text/plain": [
       "244"
      ]
     },
     "execution_count": 7,
     "metadata": {},
     "output_type": "execute_result"
    }
   ],
   "source": [
    "H, W, C = dataset[0].shape"
   ]
  },
  {
   "cell_type": "code",
   "execution_count": 16,
   "metadata": {},
   "outputs": [
    {
     "data": {
      "text/plain": [
       "torch.Size([5, 5, 244])"
      ]
     },
     "execution_count": 16,
     "metadata": {},
     "output_type": "execute_result"
    }
   ],
   "source": [
    "dataset[0].shape"
   ]
  },
  {
   "cell_type": "code",
   "execution_count": 8,
   "metadata": {},
   "outputs": [],
   "source": [
    "# Initialize the network\n",
    "encoder = SFMNNEncoder(input_channels=C).to(device)"
   ]
  },
  {
   "cell_type": "code",
   "execution_count": 9,
   "metadata": {},
   "outputs": [],
   "source": [
    "optimizer = optim.Adam(encoder.parameters(), lr=0.001, weight_decay=0.0001)\n",
    "criterion = SFMNNLoss(torch.tensor(n_spectral_bands))"
   ]
  },
  {
   "cell_type": "code",
   "execution_count": 14,
   "metadata": {},
   "outputs": [
    {
     "ename": "TypeError",
     "evalue": "SFMNNSimulation.__init__() missing 1 required positional argument: 'sensor_wavelengths'",
     "output_type": "error",
     "traceback": [
      "\u001b[1;31m---------------------------------------------------------------------------\u001b[0m",
      "\u001b[1;31mTypeError\u001b[0m                                 Traceback (most recent call last)",
      "Cell \u001b[1;32mIn[14], line 1\u001b[0m\n\u001b[1;32m----> 1\u001b[0m simulation \u001b[38;5;241m=\u001b[39m \u001b[43mSFMNNSimulation\u001b[49m\u001b[43m(\u001b[49m\u001b[43m)\u001b[49m\n",
      "\u001b[1;31mTypeError\u001b[0m: SFMNNSimulation.__init__() missing 1 required positional argument: 'sensor_wavelengths'"
     ]
    }
   ],
   "source": [
    "simulation = SFMNNSimulation()"
   ]
  },
  {
   "cell_type": "code",
   "execution_count": 17,
   "metadata": {},
   "outputs": [
    {
     "name": "stderr",
     "output_type": "stream",
     "text": [
      "  0%|          | 0/2 [00:00<?, ?it/s]"
     ]
    },
    {
     "name": "stdout",
     "output_type": "stream",
     "text": [
      "torch.Size([3, 5, 5, 9, 64])\n",
      "simulation\n",
      "<class 'simulate.SFMNNSimulation'>\n"
     ]
    },
    {
     "name": "stderr",
     "output_type": "stream",
     "text": [
      "\n"
     ]
    },
    {
     "ename": "TypeError",
     "evalue": "SFMNNLoss.forward() missing 3 required positional arguments: 'outputs', 'E_s', and 'cos_theta_s'",
     "output_type": "error",
     "traceback": [
      "\u001b[1;31m---------------------------------------------------------------------------\u001b[0m",
      "\u001b[1;31mTypeError\u001b[0m                                 Traceback (most recent call last)",
      "Cell \u001b[1;32mIn[17], line 17\u001b[0m\n\u001b[0;32m     15\u001b[0m \u001b[38;5;28mprint\u001b[39m(\u001b[38;5;28mtype\u001b[39m(simulation))\n\u001b[0;32m     16\u001b[0m \u001b[38;5;66;03m# LOSS COMPUTATION\u001b[39;00m\n\u001b[1;32m---> 17\u001b[0m loss \u001b[38;5;241m=\u001b[39m \u001b[43mcriterion\u001b[49m\u001b[43m(\u001b[49m\u001b[43msimulation\u001b[49m\u001b[43m,\u001b[49m\u001b[43m \u001b[49m\u001b[43mdata\u001b[49m\u001b[43m)\u001b[49m\n\u001b[0;32m     18\u001b[0m \u001b[38;5;28mprint\u001b[39m(loss)\n\u001b[0;32m     20\u001b[0m \u001b[38;5;66;03m# BACKPROPAGATION\u001b[39;00m\n",
      "File \u001b[1;32mc:\\Users\\Andrea\\AppData\\Local\\Programs\\Python\\Python311\\Lib\\site-packages\\torch\\nn\\modules\\module.py:1739\u001b[0m, in \u001b[0;36mModule._wrapped_call_impl\u001b[1;34m(self, *args, **kwargs)\u001b[0m\n\u001b[0;32m   1737\u001b[0m     \u001b[38;5;28;01mreturn\u001b[39;00m \u001b[38;5;28mself\u001b[39m\u001b[38;5;241m.\u001b[39m_compiled_call_impl(\u001b[38;5;241m*\u001b[39margs, \u001b[38;5;241m*\u001b[39m\u001b[38;5;241m*\u001b[39mkwargs)  \u001b[38;5;66;03m# type: ignore[misc]\u001b[39;00m\n\u001b[0;32m   1738\u001b[0m \u001b[38;5;28;01melse\u001b[39;00m:\n\u001b[1;32m-> 1739\u001b[0m     \u001b[38;5;28;01mreturn\u001b[39;00m \u001b[38;5;28;43mself\u001b[39;49m\u001b[38;5;241;43m.\u001b[39;49m\u001b[43m_call_impl\u001b[49m\u001b[43m(\u001b[49m\u001b[38;5;241;43m*\u001b[39;49m\u001b[43margs\u001b[49m\u001b[43m,\u001b[49m\u001b[43m \u001b[49m\u001b[38;5;241;43m*\u001b[39;49m\u001b[38;5;241;43m*\u001b[39;49m\u001b[43mkwargs\u001b[49m\u001b[43m)\u001b[49m\n",
      "File \u001b[1;32mc:\\Users\\Andrea\\AppData\\Local\\Programs\\Python\\Python311\\Lib\\site-packages\\torch\\nn\\modules\\module.py:1750\u001b[0m, in \u001b[0;36mModule._call_impl\u001b[1;34m(self, *args, **kwargs)\u001b[0m\n\u001b[0;32m   1745\u001b[0m \u001b[38;5;66;03m# If we don't have any hooks, we want to skip the rest of the logic in\u001b[39;00m\n\u001b[0;32m   1746\u001b[0m \u001b[38;5;66;03m# this function, and just call forward.\u001b[39;00m\n\u001b[0;32m   1747\u001b[0m \u001b[38;5;28;01mif\u001b[39;00m \u001b[38;5;129;01mnot\u001b[39;00m (\u001b[38;5;28mself\u001b[39m\u001b[38;5;241m.\u001b[39m_backward_hooks \u001b[38;5;129;01mor\u001b[39;00m \u001b[38;5;28mself\u001b[39m\u001b[38;5;241m.\u001b[39m_backward_pre_hooks \u001b[38;5;129;01mor\u001b[39;00m \u001b[38;5;28mself\u001b[39m\u001b[38;5;241m.\u001b[39m_forward_hooks \u001b[38;5;129;01mor\u001b[39;00m \u001b[38;5;28mself\u001b[39m\u001b[38;5;241m.\u001b[39m_forward_pre_hooks\n\u001b[0;32m   1748\u001b[0m         \u001b[38;5;129;01mor\u001b[39;00m _global_backward_pre_hooks \u001b[38;5;129;01mor\u001b[39;00m _global_backward_hooks\n\u001b[0;32m   1749\u001b[0m         \u001b[38;5;129;01mor\u001b[39;00m _global_forward_hooks \u001b[38;5;129;01mor\u001b[39;00m _global_forward_pre_hooks):\n\u001b[1;32m-> 1750\u001b[0m     \u001b[38;5;28;01mreturn\u001b[39;00m \u001b[43mforward_call\u001b[49m\u001b[43m(\u001b[49m\u001b[38;5;241;43m*\u001b[39;49m\u001b[43margs\u001b[49m\u001b[43m,\u001b[49m\u001b[43m \u001b[49m\u001b[38;5;241;43m*\u001b[39;49m\u001b[38;5;241;43m*\u001b[39;49m\u001b[43mkwargs\u001b[49m\u001b[43m)\u001b[49m\n\u001b[0;32m   1752\u001b[0m result \u001b[38;5;241m=\u001b[39m \u001b[38;5;28;01mNone\u001b[39;00m\n\u001b[0;32m   1753\u001b[0m called_always_called_hooks \u001b[38;5;241m=\u001b[39m \u001b[38;5;28mset\u001b[39m()\n",
      "\u001b[1;31mTypeError\u001b[0m: SFMNNLoss.forward() missing 3 required positional arguments: 'outputs', 'E_s', and 'cos_theta_s'"
     ]
    }
   ],
   "source": [
    "encoder.train()\n",
    "for data in tqdm(dataloader):\n",
    "\n",
    "    # MEASUREMENT STEP\n",
    "    data = data.to(device)\n",
    "\n",
    "    # ENCODING STEP\n",
    "    encoded = encoder(data)\n",
    "\n",
    "    print(encoded.shape)\n",
    "    # SIMULATION STEP\n",
    "    simulation = SFMNNSimulation(encoded)\n",
    "\n",
    "    print(\"simulation\")\n",
    "    print(type(simulation))\n",
    "    # LOSS COMPUTATION\n",
    "    loss = criterion(simulation, data)\n",
    "    print(loss)\n",
    "\n",
    "    # BACKPROPAGATION\n",
    "    optimizer.zero_grad()\n",
    "    loss.backward()\n",
    "    optimizer.step()\n",
    "    "
   ]
  }
 ],
 "metadata": {
  "kernelspec": {
   "display_name": "Python 3",
   "language": "python",
   "name": "python3"
  },
  "language_info": {
   "codemirror_mode": {
    "name": "ipython",
    "version": 3
   },
   "file_extension": ".py",
   "mimetype": "text/x-python",
   "name": "python",
   "nbconvert_exporter": "python",
   "pygments_lexer": "ipython3",
   "version": "3.11.0"
  }
 },
 "nbformat": 4,
 "nbformat_minor": 2
}
