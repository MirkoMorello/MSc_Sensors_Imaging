{
 "cells": [
  {
   "cell_type": "code",
   "execution_count": 1,
   "metadata": {},
   "outputs": [],
   "source": [
    "from dataset import SFMNNDataset\n",
    "from dataset_supervised import SFMNNDatasetSupervised\n",
    "from dataset import SFMNNDataset\n",
    "from network import SFMNNEncoder\n",
    "from simulate import SFMNNSimulation\n",
    "from loss import SFMNNLoss\n",
    "\n",
    "\n",
    "import torch\n",
    "import torch.optim as optim\n",
    "from torch.utils.data import DataLoader\n",
    "from tqdm import tqdm\n",
    "import os\n",
    "import json\n",
    "from dotenv import load_dotenv\n",
    "import logging\n",
    "import numpy as np"
   ]
  },
  {
   "cell_type": "code",
   "execution_count": 8,
   "metadata": {},
   "outputs": [
    {
     "name": "stderr",
     "output_type": "stream",
     "text": [
      "Loading JSON files: 100%|██████████| 105/105 [00:00<00:00, 605.23it/s]\n"
     ]
    },
    {
     "name": "stdout",
     "output_type": "stream",
     "text": [
      "Reading file output\\simulation_sim_0_amb_0.json\n",
      "Reading file output\\simulation_sim_0_amb_1.json\n",
      "Reading file output\\simulation_sim_10_amb_0.json\n",
      "Reading file output\\simulation_sim_10_amb_1.json\n",
      "Reading file output\\simulation_sim_11_amb_0.json\n",
      "Reading file output\\simulation_sim_11_amb_1.json\n",
      "Reading file output\\simulation_sim_12_amb_0.json\n",
      "Reading file output\\simulation_sim_12_amb_1.json\n",
      "Reading file output\\simulation_sim_13_amb_0.json\n",
      "Reading file output\\simulation_sim_13_amb_1.json\n",
      "Reading file output\\simulation_sim_14_amb_0.json\n",
      "Reading file output\\simulation_sim_14_amb_1.json\n",
      "Reading file output\\simulation_sim_15_amb_0.json\n",
      "Reading file output\\simulation_sim_15_amb_1.json\n",
      "Reading file output\\simulation_sim_16_amb_0.json\n",
      "Reading file output\\simulation_sim_16_amb_1.json\n",
      "Reading file output\\simulation_sim_17_amb_0.json\n",
      "Reading file output\\simulation_sim_17_amb_1.json\n",
      "Reading file output\\simulation_sim_18_amb_0.json\n",
      "Reading file output\\simulation_sim_18_amb_1.json\n",
      "Reading file output\\simulation_sim_19_amb_0.json\n",
      "Reading file output\\simulation_sim_19_amb_1.json\n",
      "Reading file output\\simulation_sim_1_amb_0.json\n",
      "Reading file output\\simulation_sim_1_amb_1.json\n",
      "Reading file output\\simulation_sim_20_amb_0.json\n",
      "Reading file output\\simulation_sim_20_amb_1.json\n",
      "Reading file output\\simulation_sim_21_amb_0.json\n",
      "Reading file output\\simulation_sim_21_amb_1.json\n",
      "Reading file output\\simulation_sim_22_amb_0.json\n",
      "Reading file output\\simulation_sim_22_amb_1.json\n",
      "Reading file output\\simulation_sim_23_amb_0.json\n",
      "Reading file output\\simulation_sim_23_amb_1.json\n",
      "Reading file output\\simulation_sim_24_amb_0.json\n",
      "Reading file output\\simulation_sim_24_amb_1.json\n",
      "Reading file output\\simulation_sim_25_amb_0.json\n",
      "Reading file output\\simulation_sim_25_amb_1.json\n",
      "Reading file output\\simulation_sim_26_amb_0.json\n",
      "Reading file output\\simulation_sim_26_amb_1.json\n",
      "Reading file output\\simulation_sim_27_amb_0.json\n",
      "Reading file output\\simulation_sim_27_amb_1.json\n",
      "Reading file output\\simulation_sim_28_amb_0.json\n",
      "Reading file output\\simulation_sim_28_amb_1.json\n",
      "Reading file output\\simulation_sim_29_amb_0.json\n",
      "Reading file output\\simulation_sim_29_amb_1.json\n",
      "Reading file output\\simulation_sim_2_amb_0.json\n",
      "Reading file output\\simulation_sim_2_amb_1.json\n",
      "Reading file output\\simulation_sim_30_amb_0.json\n",
      "Reading file output\\simulation_sim_30_amb_1.json\n",
      "Reading file output\\simulation_sim_31_amb_0.json\n",
      "Reading file output\\simulation_sim_31_amb_1.json\n",
      "Reading file output\\simulation_sim_32_amb_0.json\n",
      "Reading file output\\simulation_sim_32_amb_1.json\n",
      "Reading file output\\simulation_sim_33_amb_0.json\n",
      "Reading file output\\simulation_sim_33_amb_1.json\n",
      "Reading file output\\simulation_sim_34_amb_0.json\n",
      "Reading file output\\simulation_sim_34_amb_1.json\n",
      "Reading file output\\simulation_sim_35_amb_0.json\n",
      "Reading file output\\simulation_sim_35_amb_1.json\n",
      "Reading file output\\simulation_sim_36_amb_0.json\n",
      "Reading file output\\simulation_sim_36_amb_1.json\n",
      "Reading file output\\simulation_sim_37_amb_0.json\n",
      "Reading file output\\simulation_sim_37_amb_1.json\n",
      "Reading file output\\simulation_sim_38_amb_0.json\n",
      "Reading file output\\simulation_sim_38_amb_1.json\n",
      "Reading file output\\simulation_sim_39_amb_0.json\n",
      "Reading file output\\simulation_sim_39_amb_1.json\n",
      "Reading file output\\simulation_sim_3_amb_0.json\n",
      "Reading file output\\simulation_sim_3_amb_1.json\n",
      "Reading file output\\simulation_sim_40_amb_0.json\n",
      "Reading file output\\simulation_sim_40_amb_1.json\n",
      "Reading file output\\simulation_sim_41_amb_0.json\n",
      "Reading file output\\simulation_sim_41_amb_1.json\n",
      "Reading file output\\simulation_sim_42_amb_0.json\n",
      "Reading file output\\simulation_sim_42_amb_1.json\n",
      "Reading file output\\simulation_sim_43_amb_0.json\n",
      "Reading file output\\simulation_sim_43_amb_1.json\n",
      "Reading file output\\simulation_sim_44_amb_0.json\n",
      "Reading file output\\simulation_sim_44_amb_1.json\n",
      "Reading file output\\simulation_sim_45_amb_0.json\n",
      "Reading file output\\simulation_sim_45_amb_1.json\n",
      "Reading file output\\simulation_sim_46_amb_0.json\n",
      "Reading file output\\simulation_sim_46_amb_1.json\n",
      "Reading file output\\simulation_sim_47_amb_0.json\n",
      "Reading file output\\simulation_sim_47_amb_1.json\n",
      "Reading file output\\simulation_sim_48_amb_0.json\n",
      "Reading file output\\simulation_sim_48_amb_1.json\n",
      "Reading file output\\simulation_sim_49_amb_0.json\n",
      "Reading file output\\simulation_sim_49_amb_1.json\n",
      "Reading file output\\simulation_sim_4_amb_0.json\n",
      "Reading file output\\simulation_sim_4_amb_1.json\n",
      "Reading file output\\simulation_sim_50_amb_0.json\n",
      "Reading file output\\simulation_sim_50_amb_1.json\n",
      "Reading file output\\simulation_sim_51_amb_0.json\n",
      "Reading file output\\simulation_sim_51_amb_1.json\n",
      "Reading file output\\simulation_sim_52_amb_0.json\n",
      "Reading file output\\simulation_sim_5_amb_0.json\n",
      "Reading file output\\simulation_sim_5_amb_1.json\n",
      "Reading file output\\simulation_sim_6_amb_0.json\n",
      "Reading file output\\simulation_sim_6_amb_1.json\n",
      "Reading file output\\simulation_sim_7_amb_0.json\n",
      "Reading file output\\simulation_sim_7_amb_1.json\n",
      "Reading file output\\simulation_sim_8_amb_0.json\n",
      "Reading file output\\simulation_sim_8_amb_1.json\n",
      "Reading file output\\simulation_sim_9_amb_0.json\n",
      "Reading file output\\simulation_sim_9_amb_1.json\n",
      "Total number of elements loaded: 105\n",
      "Total number of patches loaded: 6\n"
     ]
    }
   ],
   "source": [
    "load_dotenv()\n",
    "data_folder = os.getenv(\"DATA_FOLDER\")\n",
    "\n",
    "logging.basicConfig(level=logging.INFO,\n",
    "                    format=\"%(asctime)s [%(levelname)s] %(message)s\",\n",
    "                    handlers=[logging.StreamHandler()])\n",
    "logger = logging.getLogger(__name__)\n",
    "\n",
    "# Load the dataset\n",
    "dataset = SFMNNDatasetSupervised(data_folder + 'simulation_lookuptable.json', data_folder + 'output/', patch_size=5)\n",
    "\n",
    "# Load the dataloader\n",
    "dataloader = DataLoader(dataset, batch_size=3, shuffle=True, drop_last=False)\n"
   ]
  },
  {
   "cell_type": "code",
   "execution_count": 60,
   "metadata": {},
   "outputs": [
    {
     "name": "stdout",
     "output_type": "stream",
     "text": [
      "cuda\n"
     ]
    }
   ],
   "source": [
    "device = torch.device(\"cuda\" if torch.cuda.is_available() else \"cpu\")\n",
    "print(device)"
   ]
  },
  {
   "cell_type": "code",
   "execution_count": 61,
   "metadata": {},
   "outputs": [
    {
     "data": {
      "text/plain": [
       "241"
      ]
     },
     "execution_count": 61,
     "metadata": {},
     "output_type": "execute_result"
    }
   ],
   "source": [
    "# Number of spectral bands\n",
    "n_spectral_bands = len(dataset.get_wl())\n",
    "n_spectral_bands"
   ]
  },
  {
   "cell_type": "code",
   "execution_count": 77,
   "metadata": {},
   "outputs": [
    {
     "data": {
      "text/plain": [
       "torch.Size([5, 5, 244])"
      ]
     },
     "execution_count": 77,
     "metadata": {},
     "output_type": "execute_result"
    }
   ],
   "source": [
    "x, y = dataset[0]\n",
    "H, W, C = x.shape\n",
    "x.shape"
   ]
  },
  {
   "cell_type": "code",
   "execution_count": 78,
   "metadata": {},
   "outputs": [],
   "source": [
    "# Initialize the network\n",
    "encoder = SFMNNEncoder(input_channels=C, latent_dim=n_spectral_bands, num_variables=11).to(device)\n",
    "\n",
    "optimizer = optim.Adam(encoder.parameters(), lr=0.001, weight_decay=0.0001)"
   ]
  },
  {
   "cell_type": "code",
   "execution_count": 80,
   "metadata": {},
   "outputs": [
    {
     "name": "stdout",
     "output_type": "stream",
     "text": [
      "input: torch.Size([3, 5, 5, 244])\n",
      "output: torch.Size([3, 5, 5, 11, 241])\n",
      "input: torch.Size([3, 5, 5, 244])\n",
      "output: torch.Size([3, 5, 5, 11, 241])\n"
     ]
    }
   ],
   "source": [
    "# test the network\n",
    "for i, (data, label) in enumerate(dataloader):\n",
    "    data = data.to(device)\n",
    "    print('input:', data.shape)\n",
    "    out = encoder(data)\n",
    "    print('output:', out.shape)"
   ]
  },
  {
   "cell_type": "code",
   "execution_count": 81,
   "metadata": {},
   "outputs": [
    {
     "data": {
      "text/plain": [
       "torch.Size([241])"
      ]
     },
     "execution_count": 81,
     "metadata": {},
     "output_type": "execute_result"
    }
   ],
   "source": [
    "torch.tensor(dataset.get_wl()).shape"
   ]
  },
  {
   "cell_type": "code",
   "execution_count": null,
   "metadata": {},
   "outputs": [],
   "source": [
    "import torch\n",
    "import torch.nn as nn\n",
    "import torch.nn.functional as F\n",
    "from tqdm import tqdm\n",
    "\n",
    "# --- FourStreamSimulator ---\n",
    "class FourStreamSimulator(nn.Module):\n",
    "    def __init__(self):\n",
    "        super().__init__()\n",
    "\n",
    "    def forward(self, t1, t2, t3, t6, t7, t8, t9, t10, t11, R, F):\n",
    "        \n",
    "        # t1, t2, t3, t6, t7, t8, t9, t10, t11, R, F\n",
    "        LTOA = t1 * t2 + (t1 * t8 * R + t9 * R + t10 * R + t11 * R + t6 * F + t7 * F) / (1 - t3 * R)\n",
    "        return LTOA\n",
    "\n",
    "# --- HyPlantSensorSimulator ---\n",
    "class HyPlantSensorSimulator(nn.Module):\n",
    "    def __init__(self, sensor_wavelengths):\n",
    "        super().__init__()\n",
    "        self.register_buffer('sensor_wavelengths', sensor_wavelengths)\n",
    "        self.high_res = (sensor_wavelengths.max() - sensor_wavelengths.min()) / len(sensor_wavelengths)\n",
    "        self.register_buffer('wl_range', torch.tensor([sensor_wavelengths.min(), sensor_wavelengths.max()]))\n",
    "\n",
    "    def forward(self, L_hr, delta_lambda, delta_sigma):\n",
    "        # L_hr is assumed of shape [B, H, W, spec] where spec ~241\n",
    "        B, H, W, spec = L_hr.shape\n",
    "        # First, bring spectral axis to channel dimension: [B, spec, H, W]\n",
    "        L_hr = L_hr.permute(0, 3, 1, 2)\n",
    "        \n",
    "        # --- 1. Convolve high-res spectrum with Gaussian SRF ---\n",
    "        # Compute effective sigma (convert FWHM to sigma using factor 2.3548)\n",
    "        # (Assuming delta_sigma is broadcastable to a scalar per sample)\n",
    "        sigma = (0.27 + delta_sigma) * 2.3548  # scalar or tensor broadcastable to [B, H, W] but here used as common value\n",
    "        # For simplicity we assume sigma is the same for all pixels (if delta_sigma is scalar)\n",
    "        sigma_val = sigma if isinstance(sigma, float) or sigma.numel() == 1 else sigma.view(-1)[0]\n",
    "        \n",
    "        # Determine kernel size (make it odd so that padding is symmetric)\n",
    "        kernel_size = int(6 * sigma_val / self.high_res)\n",
    "        if kernel_size % 2 == 0:\n",
    "            kernel_size += 1\n",
    "        # Create a 1D grid for the kernel (centered at 0)\n",
    "        x = torch.linspace(-3 * sigma_val, 3 * sigma_val, kernel_size, device=L_hr.device)\n",
    "        kernel = torch.exp(-0.5 * (x / sigma_val)**2)\n",
    "        kernel = kernel / kernel.sum()\n",
    "        # Convolve along the spectral (channel) dimension.\n",
    "        # Reshape L_hr to [B*H*W, 1, spec] so that conv1d applies along spec axis.\n",
    "        L_hr_reshaped = L_hr.permute(0, 2, 3, 1).reshape(B*H*W, 1, spec)\n",
    "        L_blur = F.conv1d(L_hr_reshaped, kernel.view(1,1,kernel_size), padding=kernel_size//2)\n",
    "        # Reshape back to [B, H, W, spec] then permute to [B, spec, H, W]\n",
    "        L_blur = L_blur.reshape(B, H, W, spec).permute(0, 3, 1, 2)\n",
    "        \n",
    "        # --- 2. Integrate (sample) the blurred spectrum at sensor wavelengths ---\n",
    "        # For each pixel, the effective sensor wavelengths are shifted by delta_lambda.\n",
    "        # sensor_wavelengths is 1D of shape [num_sensor_channels]\n",
    "        # We want effective_sensor_wl of shape [B, H, W, num_sensor_channels]:\n",
    "        effective_sensor_wl = self.sensor_wavelengths.unsqueeze(0).unsqueeze(0).unsqueeze(0) + delta_lambda.unsqueeze(-1)\n",
    "        \n",
    "        # In the high-res domain, wavelengths run linearly from wl_range[0] to wl_range[1] \n",
    "        # with spacing self.high_res. Thus, the spectral index corresponding to a wavelength is:\n",
    "        #    index = (wavelength - wl_range[0]) / high_res.\n",
    "        spec_indices = (effective_sensor_wl - self.wl_range[0]) / self.high_res  # shape: [B, H, W, num_sensor_channels]\n",
    "        \n",
    "        # We now perform linear interpolation of L_blur along its spectral axis.\n",
    "        # First, bring L_blur to shape [B, H, W, spec]:\n",
    "        L_blur_perm = L_blur.permute(0, 2, 3, 1)\n",
    "        # Get the indices for interpolation:\n",
    "        idx_lower = spec_indices.floor().clamp(0, spec - 1)\n",
    "        idx_upper = (idx_lower + 1).clamp(0, spec - 1)\n",
    "        idx_lower_long = idx_lower.long()\n",
    "        idx_upper_long = idx_upper.long()\n",
    "        # Gather the values at the lower and upper indFices.\n",
    "\n",
    "        L_lower = torch.gather(L_blur_perm, 3, idx_lower_long)\n",
    "        L_upper = torch.gather(L_blur_perm, 3, idx_upper_long)\n",
    "        # Compute the weights for interpolation.\n",
    "        weight = spec_indices - idx_lower\n",
    "        L_hyp = L_lower * (1 - weight) + L_upper * weight  # shape: [B, H, W, num_sensor_channels]\n",
    "        \n",
    "        return L_hyp\n",
    "\n",
    "\n",
    "# --- SFMNNSimulation ---\n",
    "class SFMNNSimulation(nn.Module):\n",
    "    def __init__(self, sensor_wavelengths):\n",
    "        super().__init__()\n",
    "        self.four_stream = FourStreamSimulator()\n",
    "        self.sensor_sim = HyPlantSensorSimulator(sensor_wavelengths)\n",
    "\n",
    "    def forward(self, t1, t2, t3, t6, t7, t8, t9, t10, t11, R, F, delta_lambda, delta_sigma):\n",
    "        # Four-stream radiance calculation\n",
    "        L_hr = self.four_stream(t1, t2, t3, t6, t7, t8, t9, t10, t11, R, F)\n",
    "        \n",
    "        # Apply sensor simulation\n",
    "        L_hyp = self.sensor_sim(L_hr, delta_lambda, delta_sigma)\n",
    "        return L_hyp\n"
   ]
  },
  {
   "cell_type": "code",
   "execution_count": 83,
   "metadata": {},
   "outputs": [],
   "source": [
    "import torch\n",
    "import torch.nn as nn\n",
    "import torch.nn.functional as F\n",
    "\n",
    "class SFMNNLoss(nn.Module):\n",
    "    def __init__(self, sensor_wl, red_idx=680, nir_idx=800, \n",
    "                 gamma_f=5, gamma_N=10, gamma_a=1, tau_NDVI=0.15):\n",
    "        super().__init__()\n",
    "        \n",
    "        # Convert to tensor and register buffers\n",
    "        self.register_buffer('sensor_wl', torch.as_tensor(sensor_wl))\n",
    "        self.register_buffer('w_mask', (self.sensor_wl >= 750) & (self.sensor_wl <= 770))\n",
    "        \n",
    "        # Find indices using PyTorch operations\n",
    "        self.register_buffer('red_idx', torch.argmin(torch.abs(self.sensor_wl - red_idx)))\n",
    "        self.register_buffer('nir_idx', torch.argmin(torch.abs(self.sensor_wl - nir_idx)))\n",
    "        \n",
    "        # Loss parameters\n",
    "        self.gamma_f = gamma_f\n",
    "        self.gamma_N = gamma_N\n",
    "        self.gamma_a = gamma_a\n",
    "        self.tau_NDVI = tau_NDVI\n",
    "\n",
    "    def forward(self, L_hyp, L_hyp_hat, reflectance, sif):\n",
    "        # Ensure mask is boolean tensor\n",
    "        w_mask = self.w_mask.bool()\n",
    "        \n",
    "        # 1. Spectral Reconstruction Loss\n",
    "        L_hyp_w = L_hyp[..., w_mask]\n",
    "        L_hyp_hat_w = L_hyp_hat[..., w_mask]\n",
    "        \n",
    "        # Calculate MSE loss\n",
    "        l_w = F.mse_loss(L_hyp_hat_w, L_hyp_w, reduction='none')\n",
    "\n",
    "        l_w = l_w.mean(dim=(-1, -2))  # Reduce spatial and spectral dimensions\n",
    "        \n",
    "        # 2. NDVI Constraint\n",
    "        red = reflectance[..., self.red_idx]\n",
    "        nir = reflectance[..., self.nir_idx]\n",
    "        ndvi = (nir - red) / (nir + red + 1e-8)\n",
    "        \n",
    "   \n",
    "        # Vegetation mask and SIF penalty\n",
    "        veg_mask = (ndvi < self.tau_NDVI).float()\n",
    "        veg_mask = veg_mask.unsqueeze(-1)\n",
    "\n",
    "        l_ndvi = (sif * veg_mask).mean(dim=(-1, -2))\n",
    "\n",
    "        # Combine losses\n",
    "        total_loss = l_w + self.gamma_N * l_ndvi\n",
    "        return total_loss.mean()"
   ]
  },
  {
   "cell_type": "code",
   "execution_count": 2,
   "metadata": {},
   "outputs": [
    {
     "data": {
      "text/plain": [
       "'cuda'"
      ]
     },
     "execution_count": 2,
     "metadata": {},
     "output_type": "execute_result"
    }
   ],
   "source": [
    "device = \"cuda\" if torch.cuda.is_available() else \"cpu\"\n",
    "device"
   ]
  },
  {
   "cell_type": "code",
   "execution_count": 3,
   "metadata": {},
   "outputs": [
    {
     "ename": "NameError",
     "evalue": "name 'encoder' is not defined",
     "output_type": "error",
     "traceback": [
      "\u001b[1;31m---------------------------------------------------------------------------\u001b[0m",
      "\u001b[1;31mNameError\u001b[0m                                 Traceback (most recent call last)",
      "Cell \u001b[1;32mIn[3], line 1\u001b[0m\n\u001b[1;32m----> 1\u001b[0m optimizer \u001b[38;5;241m=\u001b[39m optim\u001b[38;5;241m.\u001b[39mAdam(\u001b[43mencoder\u001b[49m\u001b[38;5;241m.\u001b[39mparameters(), lr\u001b[38;5;241m=\u001b[39m\u001b[38;5;241m1e-6\u001b[39m)\n\u001b[0;32m      4\u001b[0m sensor_wl \u001b[38;5;241m=\u001b[39m torch\u001b[38;5;241m.\u001b[39mtensor(dataset\u001b[38;5;241m.\u001b[39mget_wl(), dtype\u001b[38;5;241m=\u001b[39mtorch\u001b[38;5;241m.\u001b[39mfloat, device\u001b[38;5;241m=\u001b[39mdevice)\n\u001b[0;32m      5\u001b[0m simulation \u001b[38;5;241m=\u001b[39m SFMNNSimulation(sensor_wl)\u001b[38;5;241m.\u001b[39mto(device)\n",
      "\u001b[1;31mNameError\u001b[0m: name 'encoder' is not defined"
     ]
    }
   ],
   "source": [
    "optimizer = optim.Adam(encoder.parameters(), lr=1e-6)\n",
    "\n",
    "\n",
    "sensor_wl = torch.tensor(dataset.get_wl(), dtype=torch.float, device=device)\n",
    "simulation = SFMNNSimulation(sensor_wl).to(device)"
   ]
  },
  {
   "cell_type": "code",
   "execution_count": 86,
   "metadata": {},
   "outputs": [],
   "source": [
    "criterion = nn.MSELoss()"
   ]
  },
  {
   "cell_type": "code",
   "execution_count": 92,
   "metadata": {},
   "outputs": [
    {
     "name": "stderr",
     "output_type": "stream",
     "text": [
      "2025-03-22 12:58:04,310 [INFO] Using fixed Esun: 10.0000\n",
      "                                                         \r"
     ]
    },
    {
     "name": "stdout",
     "output_type": "stream",
     "text": [
      "Epoch 1/10 - Avg Loss: 21.6834\n"
     ]
    },
    {
     "name": "stderr",
     "output_type": "stream",
     "text": [
      "                                                         \r"
     ]
    },
    {
     "name": "stdout",
     "output_type": "stream",
     "text": [
      "Epoch 2/10 - Avg Loss: 27.6312\n"
     ]
    },
    {
     "name": "stderr",
     "output_type": "stream",
     "text": [
      "                                                         \r"
     ]
    },
    {
     "name": "stdout",
     "output_type": "stream",
     "text": [
      "Epoch 3/10 - Avg Loss: 19.9561\n"
     ]
    },
    {
     "name": "stderr",
     "output_type": "stream",
     "text": [
      "                                                         \r"
     ]
    },
    {
     "name": "stdout",
     "output_type": "stream",
     "text": [
      "Epoch 4/10 - Avg Loss: 43.0373\n"
     ]
    },
    {
     "name": "stderr",
     "output_type": "stream",
     "text": [
      "                                                         \r"
     ]
    },
    {
     "name": "stdout",
     "output_type": "stream",
     "text": [
      "Epoch 5/10 - Avg Loss: 36.9899\n"
     ]
    },
    {
     "name": "stderr",
     "output_type": "stream",
     "text": [
      "                                                         \r"
     ]
    },
    {
     "name": "stdout",
     "output_type": "stream",
     "text": [
      "Epoch 6/10 - Avg Loss: 19.3345\n"
     ]
    },
    {
     "name": "stderr",
     "output_type": "stream",
     "text": [
      "                                                         \r"
     ]
    },
    {
     "name": "stdout",
     "output_type": "stream",
     "text": [
      "Epoch 7/10 - Avg Loss: 23.2387\n"
     ]
    },
    {
     "name": "stderr",
     "output_type": "stream",
     "text": [
      "                                                         \r"
     ]
    },
    {
     "name": "stdout",
     "output_type": "stream",
     "text": [
      "Epoch 8/10 - Avg Loss: 28.9673\n"
     ]
    },
    {
     "name": "stderr",
     "output_type": "stream",
     "text": [
      "                                                         \r"
     ]
    },
    {
     "name": "stdout",
     "output_type": "stream",
     "text": [
      "Epoch 9/10 - Avg Loss: 35.7267\n"
     ]
    },
    {
     "name": "stderr",
     "output_type": "stream",
     "text": [
      "                                                          "
     ]
    },
    {
     "name": "stdout",
     "output_type": "stream",
     "text": [
      "Epoch 10/10 - Avg Loss: 20.3438\n"
     ]
    },
    {
     "name": "stderr",
     "output_type": "stream",
     "text": [
      "\r"
     ]
    }
   ],
   "source": [
    "import numpy as np\n",
    "\n",
    "fixed_esun = 10\n",
    "logger.info(f\"Using fixed Esun: {fixed_esun:.4f}\")\n",
    "\n",
    "num_epochs = 10\n",
    "encoder.train()\n",
    "\n",
    "for epoch in range(num_epochs):\n",
    "    epoch_losses = []\n",
    "\n",
    "    for batch, label in tqdm(dataloader, desc=f\"Epoch {epoch+1}/{num_epochs}\", leave=False):\n",
    "\n",
    "        optimizer.zero_grad()\n",
    "    \n",
    "        # batch: [B, 3623, H, W]\n",
    "        batch = batch.to(device)\n",
    "        label = label.to(device)\n",
    "\n",
    "        output = encoder(batch)  \n",
    "\n",
    "        var_indices = [0, 1, 2, 5, 6, 7, 8, 9, 10, 12, 13]\n",
    "        label = label[:, :, :, var_indices, :]\n",
    "\n",
    "\n",
    "        output_sup = output\n",
    "\n",
    "\n",
    "        loss = criterion(label, output_sup)\n",
    "        loss.backward()\n",
    "        optimizer.step()\n",
    "\n",
    "        epoch_losses.append(loss.detach().cpu().numpy())\n",
    "        \n",
    "\n",
    "    tqdm.write(f\"Epoch {epoch+1}/{num_epochs} - Avg Loss: {np.mean(epoch_losses):.4f}\")"
   ]
  },
  {
   "cell_type": "code",
   "execution_count": 100,
   "metadata": {},
   "outputs": [
    {
     "data": {
      "text/plain": [
       "[<matplotlib.lines.Line2D at 0x1bb2f14a790>]"
      ]
     },
     "execution_count": 100,
     "metadata": {},
     "output_type": "execute_result"
    },
    {
     "data": {
      "image/png": "[encoded data removed]",
      "text/plain": [
       "<Figure size 640x480 with 1 Axes>"
      ]
     },
     "metadata": {},
     "output_type": "display_data"
    }
   ],
   "source": [
    "import matplotlib.pyplot as plt\n",
    "\n",
    "t1      = output[:, :, :, 0, :]\n",
    "t2      = output[:, :, :, 1, :]\n",
    "t3      = output[:, :, :, 2, :]\n",
    "t6      = output[:, :, :, 3, :]\n",
    "t7      = output[:, :, :, 4, :]\n",
    "t8      = output[:, :, :, 5, :]\n",
    "t9      = output[:, :, :, 6, :]\n",
    "t10     = output[:, :, :, 7, :]\n",
    "t11     = output[:, :, :, 8, :]\n",
    "R_param = output[:, :, :, 9, :]\n",
    "F_param = output[:, :, :, 10, :]\n",
    "\n",
    "L_Hat_Hyp = simulation(\n",
    "    t1, t2, t3, t6, t7, t8, t9, t10, t11, R_param, F_param,\n",
    "    torch.tensor(([0] * 5 * 5 * 3), device=device).view(3, 5, 5), torch.tensor(0.01, device=device)\n",
    ")\n",
    "\n",
    "x = sensor_wl.detach().cpu().numpy()\n",
    "y = L_Hat_Hyp[0][0][0].detach().cpu().numpy()\n",
    "\n",
    "plt.plot(x, y)\n"
   ]
  },
  {
   "cell_type": "code",
   "execution_count": 11,
   "metadata": {},
   "outputs": [
    {
     "name": "stderr",
     "output_type": "stream",
     "text": [
      "Loading JSON files: 100%|██████████| 105/105 [00:00<00:00, 606.31it/s]\n"
     ]
    },
    {
     "name": "stdout",
     "output_type": "stream",
     "text": [
      "Reading file output\\simulation_sim_0_amb_0.json\n",
      "Reading file output\\simulation_sim_0_amb_1.json\n",
      "Reading file output\\simulation_sim_10_amb_0.json\n",
      "Reading file output\\simulation_sim_10_amb_1.json\n",
      "Reading file output\\simulation_sim_11_amb_0.json\n",
      "Reading file output\\simulation_sim_11_amb_1.json\n",
      "Reading file output\\simulation_sim_12_amb_0.json\n",
      "Reading file output\\simulation_sim_12_amb_1.json\n",
      "Reading file output\\simulation_sim_13_amb_0.json\n",
      "Reading file output\\simulation_sim_13_amb_1.json\n",
      "Reading file output\\simulation_sim_14_amb_0.json\n",
      "Reading file output\\simulation_sim_14_amb_1.json\n",
      "Reading file output\\simulation_sim_15_amb_0.json\n",
      "Reading file output\\simulation_sim_15_amb_1.json\n",
      "Reading file output\\simulation_sim_16_amb_0.json\n",
      "Reading file output\\simulation_sim_16_amb_1.json\n",
      "Reading file output\\simulation_sim_17_amb_0.json\n",
      "Reading file output\\simulation_sim_17_amb_1.json\n",
      "Reading file output\\simulation_sim_18_amb_0.json\n",
      "Reading file output\\simulation_sim_18_amb_1.json\n",
      "Reading file output\\simulation_sim_19_amb_0.json\n",
      "Reading file output\\simulation_sim_19_amb_1.json\n",
      "Reading file output\\simulation_sim_1_amb_0.json\n",
      "Reading file output\\simulation_sim_1_amb_1.json\n",
      "Reading file output\\simulation_sim_20_amb_0.json\n",
      "Reading file output\\simulation_sim_20_amb_1.json\n",
      "Reading file output\\simulation_sim_21_amb_0.json\n",
      "Reading file output\\simulation_sim_21_amb_1.json\n",
      "Reading file output\\simulation_sim_22_amb_0.json\n",
      "Reading file output\\simulation_sim_22_amb_1.json\n",
      "Reading file output\\simulation_sim_23_amb_0.json\n",
      "Reading file output\\simulation_sim_23_amb_1.json\n",
      "Reading file output\\simulation_sim_24_amb_0.json\n",
      "Reading file output\\simulation_sim_24_amb_1.json\n",
      "Reading file output\\simulation_sim_25_amb_0.json\n",
      "Reading file output\\simulation_sim_25_amb_1.json\n",
      "Reading file output\\simulation_sim_26_amb_0.json\n",
      "Reading file output\\simulation_sim_26_amb_1.json\n",
      "Reading file output\\simulation_sim_27_amb_0.json\n",
      "Reading file output\\simulation_sim_27_amb_1.json\n",
      "Reading file output\\simulation_sim_28_amb_0.json\n",
      "Reading file output\\simulation_sim_28_amb_1.json\n",
      "Reading file output\\simulation_sim_29_amb_0.json\n",
      "Reading file output\\simulation_sim_29_amb_1.json\n",
      "Reading file output\\simulation_sim_2_amb_0.json\n",
      "Reading file output\\simulation_sim_2_amb_1.json\n",
      "Reading file output\\simulation_sim_30_amb_0.json\n",
      "Reading file output\\simulation_sim_30_amb_1.json\n",
      "Reading file output\\simulation_sim_31_amb_0.json\n",
      "Reading file output\\simulation_sim_31_amb_1.json\n",
      "Reading file output\\simulation_sim_32_amb_0.json\n",
      "Reading file output\\simulation_sim_32_amb_1.json\n",
      "Reading file output\\simulation_sim_33_amb_0.json\n",
      "Reading file output\\simulation_sim_33_amb_1.json\n",
      "Reading file output\\simulation_sim_34_amb_0.json\n",
      "Reading file output\\simulation_sim_34_amb_1.json\n",
      "Reading file output\\simulation_sim_35_amb_0.json\n",
      "Reading file output\\simulation_sim_35_amb_1.json\n",
      "Reading file output\\simulation_sim_36_amb_0.json\n",
      "Reading file output\\simulation_sim_36_amb_1.json\n",
      "Reading file output\\simulation_sim_37_amb_0.json\n",
      "Reading file output\\simulation_sim_37_amb_1.json\n",
      "Reading file output\\simulation_sim_38_amb_0.json\n",
      "Reading file output\\simulation_sim_38_amb_1.json\n",
      "Reading file output\\simulation_sim_39_amb_0.json\n",
      "Reading file output\\simulation_sim_39_amb_1.json\n",
      "Reading file output\\simulation_sim_3_amb_0.json\n",
      "Reading file output\\simulation_sim_3_amb_1.json\n",
      "Reading file output\\simulation_sim_40_amb_0.json\n",
      "Reading file output\\simulation_sim_40_amb_1.json\n",
      "Reading file output\\simulation_sim_41_amb_0.json\n",
      "Reading file output\\simulation_sim_41_amb_1.json\n",
      "Reading file output\\simulation_sim_42_amb_0.json\n",
      "Reading file output\\simulation_sim_42_amb_1.json\n",
      "Reading file output\\simulation_sim_43_amb_0.json\n",
      "Reading file output\\simulation_sim_43_amb_1.json\n",
      "Reading file output\\simulation_sim_44_amb_0.json\n",
      "Reading file output\\simulation_sim_44_amb_1.json\n",
      "Reading file output\\simulation_sim_45_amb_0.json\n",
      "Reading file output\\simulation_sim_45_amb_1.json\n",
      "Reading file output\\simulation_sim_46_amb_0.json\n",
      "Reading file output\\simulation_sim_46_amb_1.json\n",
      "Reading file output\\simulation_sim_47_amb_0.json\n",
      "Reading file output\\simulation_sim_47_amb_1.json\n",
      "Reading file output\\simulation_sim_48_amb_0.json\n",
      "Reading file output\\simulation_sim_48_amb_1.json\n",
      "Reading file output\\simulation_sim_49_amb_0.json\n",
      "Reading file output\\simulation_sim_49_amb_1.json\n",
      "Reading file output\\simulation_sim_4_amb_0.json\n",
      "Reading file output\\simulation_sim_4_amb_1.json\n",
      "Reading file output\\simulation_sim_50_amb_0.json\n",
      "Reading file output\\simulation_sim_50_amb_1.json\n",
      "Reading file output\\simulation_sim_51_amb_0.json\n",
      "Reading file output\\simulation_sim_51_amb_1.json\n",
      "Reading file output\\simulation_sim_52_amb_0.json\n",
      "Reading file output\\simulation_sim_5_amb_0.json\n",
      "Reading file output\\simulation_sim_5_amb_1.json\n",
      "Reading file output\\simulation_sim_6_amb_0.json\n",
      "Reading file output\\simulation_sim_6_amb_1.json\n",
      "Reading file output\\simulation_sim_7_amb_0.json\n",
      "Reading file output\\simulation_sim_7_amb_1.json\n",
      "Reading file output\\simulation_sim_8_amb_0.json\n",
      "Reading file output\\simulation_sim_8_amb_1.json\n",
      "Reading file output\\simulation_sim_9_amb_0.json\n",
      "Reading file output\\simulation_sim_9_amb_1.json\n",
      "Total number of elements loaded: 105\n",
      "Total number of patches loaded: 6\n"
     ]
    }
   ],
   "source": [
    "dataset = SFMNNDataset(data_folder + 'simulation_lookuptable.json', data_folder + 'output/', patch_size=5)\n",
    "H, W, C = dataset[0].shape # [5, 5, 245]\n",
    "\n",
    "# Load the dataloader\n",
    "dataloader = DataLoader(dataset, batch_size=3, shuffle=True, drop_last=False)"
   ]
  },
  {
   "cell_type": "code",
   "execution_count": 12,
   "metadata": {},
   "outputs": [],
   "source": [
    "sensor_wl = torch.tensor(dataset.get_wl(), device=device)\n",
    "n_spectral_bands = sensor_wl.shape[0]\n",
    "\n",
    "\n",
    "encoder = SFMNNEncoder(input_channels=C-1, latent_dim=n_spectral_bands, num_variables=12).to(device)\n",
    "simulation = SFMNNSimulation(sensor_wl).to(device)\n",
    "criterion = SFMNNLoss(sensor_wl).to(device)"
   ]
  },
  {
   "cell_type": "code",
   "execution_count": 14,
   "metadata": {},
   "outputs": [],
   "source": [
    "import torch.nn as nn"
   ]
  },
  {
   "cell_type": "code",
   "execution_count": 15,
   "metadata": {},
   "outputs": [],
   "source": [
    "optimizer = optim.Adam(encoder.parameters(), lr=1e-4)\n",
    "criterion = nn.MSELoss()"
   ]
  },
  {
   "cell_type": "code",
   "execution_count": 17,
   "metadata": {},
   "outputs": [
    {
     "name": "stderr",
     "output_type": "stream",
     "text": [
      "2025-03-22 15:34:11,660 [INFO] Using fixed Esun: 10.0000\n",
      "                                                         \r"
     ]
    },
    {
     "name": "stdout",
     "output_type": "stream",
     "text": [
      "Epoch 1/50 - Avg Loss: 226590277632.0000\n"
     ]
    },
    {
     "name": "stderr",
     "output_type": "stream",
     "text": [
      "                                                         \r"
     ]
    },
    {
     "name": "stdout",
     "output_type": "stream",
     "text": [
      "Epoch 2/50 - Avg Loss: 225778794496.0000\n"
     ]
    },
    {
     "name": "stderr",
     "output_type": "stream",
     "text": [
      "                                                         \r"
     ]
    },
    {
     "name": "stdout",
     "output_type": "stream",
     "text": [
      "Epoch 3/50 - Avg Loss: 226141880320.0000\n"
     ]
    },
    {
     "name": "stderr",
     "output_type": "stream",
     "text": [
      "                                                         \r"
     ]
    },
    {
     "name": "stdout",
     "output_type": "stream",
     "text": [
      "Epoch 4/50 - Avg Loss: 443276099584.0000\n"
     ]
    },
    {
     "name": "stderr",
     "output_type": "stream",
     "text": [
      "                                                         \r"
     ]
    },
    {
     "name": "stdout",
     "output_type": "stream",
     "text": [
      "Epoch 5/50 - Avg Loss: 442176634880.0000\n"
     ]
    },
    {
     "name": "stderr",
     "output_type": "stream",
     "text": [
      "                                                         \r"
     ]
    },
    {
     "name": "stdout",
     "output_type": "stream",
     "text": [
      "Epoch 6/50 - Avg Loss: 441336594432.0000\n"
     ]
    },
    {
     "name": "stderr",
     "output_type": "stream",
     "text": [
      "                                                         \r"
     ]
    },
    {
     "name": "stdout",
     "output_type": "stream",
     "text": [
      "Epoch 7/50 - Avg Loss: 226926444544.0000\n"
     ]
    },
    {
     "name": "stderr",
     "output_type": "stream",
     "text": [
      "                                                         \r"
     ]
    },
    {
     "name": "stdout",
     "output_type": "stream",
     "text": [
      "Epoch 8/50 - Avg Loss: 441292947456.0000\n"
     ]
    },
    {
     "name": "stderr",
     "output_type": "stream",
     "text": [
      "                                                         \r"
     ]
    },
    {
     "name": "stdout",
     "output_type": "stream",
     "text": [
      "Epoch 9/50 - Avg Loss: 442611269632.0000\n"
     ]
    },
    {
     "name": "stderr",
     "output_type": "stream",
     "text": [
      "                                                          \r"
     ]
    },
    {
     "name": "stdout",
     "output_type": "stream",
     "text": [
      "Epoch 10/50 - Avg Loss: 229390237696.0000\n"
     ]
    },
    {
     "name": "stderr",
     "output_type": "stream",
     "text": [
      "                                                          \r"
     ]
    },
    {
     "name": "stdout",
     "output_type": "stream",
     "text": [
      "Epoch 11/50 - Avg Loss: 442718322688.0000\n"
     ]
    },
    {
     "name": "stderr",
     "output_type": "stream",
     "text": [
      "                                                          \r"
     ]
    },
    {
     "name": "stdout",
     "output_type": "stream",
     "text": [
      "Epoch 12/50 - Avg Loss: 225861664768.0000\n"
     ]
    },
    {
     "name": "stderr",
     "output_type": "stream",
     "text": [
      "                                                          \r"
     ]
    },
    {
     "name": "stdout",
     "output_type": "stream",
     "text": [
      "Epoch 13/50 - Avg Loss: 443214135296.0000\n"
     ]
    },
    {
     "name": "stderr",
     "output_type": "stream",
     "text": [
      "                                                          \r"
     ]
    },
    {
     "name": "stdout",
     "output_type": "stream",
     "text": [
      "Epoch 14/50 - Avg Loss: 226767781888.0000\n"
     ]
    },
    {
     "name": "stderr",
     "output_type": "stream",
     "text": [
      "                                                          \r"
     ]
    },
    {
     "name": "stdout",
     "output_type": "stream",
     "text": [
      "Epoch 15/50 - Avg Loss: 224501301248.0000\n"
     ]
    },
    {
     "name": "stderr",
     "output_type": "stream",
     "text": [
      "                                                          \r"
     ]
    },
    {
     "name": "stdout",
     "output_type": "stream",
     "text": [
      "Epoch 16/50 - Avg Loss: 233251733504.0000\n"
     ]
    },
    {
     "name": "stderr",
     "output_type": "stream",
     "text": [
      "                                                          \r"
     ]
    },
    {
     "name": "stdout",
     "output_type": "stream",
     "text": [
      "Epoch 17/50 - Avg Loss: 226679816192.0000\n"
     ]
    },
    {
     "name": "stderr",
     "output_type": "stream",
     "text": [
      "                                                          \r"
     ]
    },
    {
     "name": "stdout",
     "output_type": "stream",
     "text": [
      "Epoch 18/50 - Avg Loss: 225880866816.0000\n"
     ]
    },
    {
     "name": "stderr",
     "output_type": "stream",
     "text": [
      "                                                          \r"
     ]
    },
    {
     "name": "stdout",
     "output_type": "stream",
     "text": [
      "Epoch 19/50 - Avg Loss: 443374469120.0000\n"
     ]
    },
    {
     "name": "stderr",
     "output_type": "stream",
     "text": [
      "                                                          \r"
     ]
    },
    {
     "name": "stdout",
     "output_type": "stream",
     "text": [
      "Epoch 20/50 - Avg Loss: 442768916480.0000\n"
     ]
    },
    {
     "name": "stderr",
     "output_type": "stream",
     "text": [
      "                                                          \r"
     ]
    },
    {
     "name": "stdout",
     "output_type": "stream",
     "text": [
      "Epoch 21/50 - Avg Loss: 444390408192.0000\n"
     ]
    },
    {
     "name": "stderr",
     "output_type": "stream",
     "text": [
      "                                                          \r"
     ]
    },
    {
     "name": "stdout",
     "output_type": "stream",
     "text": [
      "Epoch 22/50 - Avg Loss: 440349065216.0000\n"
     ]
    },
    {
     "name": "stderr",
     "output_type": "stream",
     "text": [
      "                                                          \r"
     ]
    },
    {
     "name": "stdout",
     "output_type": "stream",
     "text": [
      "Epoch 23/50 - Avg Loss: 226245967872.0000\n"
     ]
    },
    {
     "name": "stderr",
     "output_type": "stream",
     "text": [
      "                                                          \r"
     ]
    },
    {
     "name": "stdout",
     "output_type": "stream",
     "text": [
      "Epoch 24/50 - Avg Loss: 226394161152.0000\n"
     ]
    },
    {
     "name": "stderr",
     "output_type": "stream",
     "text": [
      "                                                          \r"
     ]
    },
    {
     "name": "stdout",
     "output_type": "stream",
     "text": [
      "Epoch 25/50 - Avg Loss: 576901939200.0000\n"
     ]
    },
    {
     "name": "stderr",
     "output_type": "stream",
     "text": [
      "                                                          \r"
     ]
    },
    {
     "name": "stdout",
     "output_type": "stream",
     "text": [
      "Epoch 26/50 - Avg Loss: 441474318336.0000\n"
     ]
    },
    {
     "name": "stderr",
     "output_type": "stream",
     "text": [
      "                                                          \r"
     ]
    },
    {
     "name": "stdout",
     "output_type": "stream",
     "text": [
      "Epoch 27/50 - Avg Loss: 443500101632.0000\n"
     ]
    },
    {
     "name": "stderr",
     "output_type": "stream",
     "text": [
      "                                                          \r"
     ]
    },
    {
     "name": "stdout",
     "output_type": "stream",
     "text": [
      "Epoch 28/50 - Avg Loss: 226708586496.0000\n"
     ]
    },
    {
     "name": "stderr",
     "output_type": "stream",
     "text": [
      "                                                          \r"
     ]
    },
    {
     "name": "stdout",
     "output_type": "stream",
     "text": [
      "Epoch 29/50 - Avg Loss: 443684388864.0000\n"
     ]
    },
    {
     "name": "stderr",
     "output_type": "stream",
     "text": [
      "                                                          \r"
     ]
    },
    {
     "name": "stdout",
     "output_type": "stream",
     "text": [
      "Epoch 30/50 - Avg Loss: 225677164544.0000\n"
     ]
    },
    {
     "name": "stderr",
     "output_type": "stream",
     "text": [
      "                                                          \r"
     ]
    },
    {
     "name": "stdout",
     "output_type": "stream",
     "text": [
      "Epoch 31/50 - Avg Loss: 440981848064.0000\n"
     ]
    },
    {
     "name": "stderr",
     "output_type": "stream",
     "text": [
      "                                                          \r"
     ]
    },
    {
     "name": "stdout",
     "output_type": "stream",
     "text": [
      "Epoch 32/50 - Avg Loss: 442074660864.0000\n"
     ]
    },
    {
     "name": "stderr",
     "output_type": "stream",
     "text": [
      "                                                          \r"
     ]
    },
    {
     "name": "stdout",
     "output_type": "stream",
     "text": [
      "Epoch 33/50 - Avg Loss: 224954368000.0000\n"
     ]
    },
    {
     "name": "stderr",
     "output_type": "stream",
     "text": [
      "                                                          \r"
     ]
    },
    {
     "name": "stdout",
     "output_type": "stream",
     "text": [
      "Epoch 34/50 - Avg Loss: 226416852992.0000\n"
     ]
    },
    {
     "name": "stderr",
     "output_type": "stream",
     "text": [
      "                                                          \r"
     ]
    },
    {
     "name": "stdout",
     "output_type": "stream",
     "text": [
      "Epoch 35/50 - Avg Loss: 226609004544.0000\n"
     ]
    },
    {
     "name": "stderr",
     "output_type": "stream",
     "text": [
      "                                                          \r"
     ]
    },
    {
     "name": "stdout",
     "output_type": "stream",
     "text": [
      "Epoch 36/50 - Avg Loss: 443553480704.0000\n"
     ]
    },
    {
     "name": "stderr",
     "output_type": "stream",
     "text": [
      "                                                          \r"
     ]
    },
    {
     "name": "stdout",
     "output_type": "stream",
     "text": [
      "Epoch 37/50 - Avg Loss: 443349958656.0000\n"
     ]
    },
    {
     "name": "stderr",
     "output_type": "stream",
     "text": [
      "                                                          \r"
     ]
    },
    {
     "name": "stdout",
     "output_type": "stream",
     "text": [
      "Epoch 38/50 - Avg Loss: 442248527872.0000\n"
     ]
    },
    {
     "name": "stderr",
     "output_type": "stream",
     "text": [
      "                                                          \r"
     ]
    },
    {
     "name": "stdout",
     "output_type": "stream",
     "text": [
      "Epoch 39/50 - Avg Loss: 226958393344.0000\n"
     ]
    },
    {
     "name": "stderr",
     "output_type": "stream",
     "text": [
      "                                                          \r"
     ]
    },
    {
     "name": "stdout",
     "output_type": "stream",
     "text": [
      "Epoch 40/50 - Avg Loss: 442414268416.0000\n"
     ]
    },
    {
     "name": "stderr",
     "output_type": "stream",
     "text": [
      "                                                          \r"
     ]
    },
    {
     "name": "stdout",
     "output_type": "stream",
     "text": [
      "Epoch 41/50 - Avg Loss: 227176710144.0000\n"
     ]
    },
    {
     "name": "stderr",
     "output_type": "stream",
     "text": [
      "                                                          \r"
     ]
    },
    {
     "name": "stdout",
     "output_type": "stream",
     "text": [
      "Epoch 42/50 - Avg Loss: 441747701760.0000\n"
     ]
    },
    {
     "name": "stderr",
     "output_type": "stream",
     "text": [
      "                                                          \r"
     ]
    },
    {
     "name": "stdout",
     "output_type": "stream",
     "text": [
      "Epoch 43/50 - Avg Loss: 444767076352.0000\n"
     ]
    },
    {
     "name": "stderr",
     "output_type": "stream",
     "text": [
      "                                                          \r"
     ]
    },
    {
     "name": "stdout",
     "output_type": "stream",
     "text": [
      "Epoch 44/50 - Avg Loss: 225204125696.0000\n"
     ]
    },
    {
     "name": "stderr",
     "output_type": "stream",
     "text": [
      "                                                          \r"
     ]
    },
    {
     "name": "stdout",
     "output_type": "stream",
     "text": [
      "Epoch 45/50 - Avg Loss: 225785724928.0000\n"
     ]
    },
    {
     "name": "stderr",
     "output_type": "stream",
     "text": [
      "                                                          \r"
     ]
    },
    {
     "name": "stdout",
     "output_type": "stream",
     "text": [
      "Epoch 46/50 - Avg Loss: 227602972672.0000\n"
     ]
    },
    {
     "name": "stderr",
     "output_type": "stream",
     "text": [
      "                                                          \r"
     ]
    },
    {
     "name": "stdout",
     "output_type": "stream",
     "text": [
      "Epoch 47/50 - Avg Loss: 226253799424.0000\n"
     ]
    },
    {
     "name": "stderr",
     "output_type": "stream",
     "text": [
      "                                                          \r"
     ]
    },
    {
     "name": "stdout",
     "output_type": "stream",
     "text": [
      "Epoch 48/50 - Avg Loss: 226516221952.0000\n"
     ]
    },
    {
     "name": "stderr",
     "output_type": "stream",
     "text": [
      "                                                          \r"
     ]
    },
    {
     "name": "stdout",
     "output_type": "stream",
     "text": [
      "Epoch 49/50 - Avg Loss: 225599488000.0000\n"
     ]
    },
    {
     "name": "stderr",
     "output_type": "stream",
     "text": [
      "                                                          "
     ]
    },
    {
     "name": "stdout",
     "output_type": "stream",
     "text": [
      "Epoch 50/50 - Avg Loss: 226026340352.0000\n"
     ]
    },
    {
     "name": "stderr",
     "output_type": "stream",
     "text": [
      "\r"
     ]
    }
   ],
   "source": [
    "import numpy as np\n",
    "\n",
    "fixed_esun = 10\n",
    "logger.info(f\"Using fixed Esun: {fixed_esun:.4f}\")\n",
    "\n",
    "num_epochs = 50\n",
    "encoder.train()\n",
    "\n",
    "for epoch in range(num_epochs):\n",
    "    epoch_losses = []\n",
    "\n",
    "    for batch in tqdm(dataloader, desc=f\"Epoch {epoch+1}/{num_epochs}\", leave=False):\n",
    "\n",
    "        optimizer.zero_grad()\n",
    "\n",
    "        # MEASUREMENT\n",
    "        batch = batch.to(device)\n",
    "\n",
    "        # ENCODER\n",
    "        output = encoder(batch[:, :, :, :-1])  # Removes FWHM before computing the data\n",
    "\n",
    "        t1      = output[:, :, :, 0, :]\n",
    "        t2      = output[:, :, :, 1, :]\n",
    "        t3      = output[:, :, :, 2, :]\n",
    "        t6      = output[:, :, :, 3, :]\n",
    "        t7      = output[:, :, :, 4, :]\n",
    "        t8      = output[:, :, :, 5, :]\n",
    "        t9      = output[:, :, :, 6, :]\n",
    "        t10     = output[:, :, :, 7, :]\n",
    "        t11     = output[:, :, :, 8, :]\n",
    "        R_param = output[:, :, :, 9, :]\n",
    "        F_param = output[:, :, :, 10, :]\n",
    "        d_lamb  = output[:, :, :, 11, :].mean(dim=-1)\n",
    "\n",
    "        # SIMULATION\n",
    "\n",
    "        FWHM = batch[:, :, :, -1]\n",
    "        \n",
    "        LTOA = t1 * t2 + (t1 * t8 * R_param + t9 * R_param + t10 * R_param + t11 * R_param + t6 * F_param + t7 * F_param) / (1 - t3 * R_param)\n",
    "\n",
    "        \"\"\"\n",
    "        L_Hat_Hyp = simulation(\n",
    "            t1, t2, t3, t6, t7, t8, t9, t10, t11, R_param, F_param,\n",
    "            d_lamb, FWHM\n",
    "        )\n",
    "        \"\"\"\n",
    "\n",
    "        \n",
    "        # LOSS\n",
    "        \"\"\"\n",
    "        L_Hyp = batch[:, :, :, :241]\n",
    "        loss = criterion(L_Hyp, L_Hat_Hyp, R_param, F_param)\n",
    "        \"\"\"\n",
    "        loss = criterion(batch[:, :, : , :241], LTOA)\n",
    "\n",
    "        \n",
    "        loss.backward()\n",
    "        optimizer.step()\n",
    "\n",
    "        epoch_losses.append(loss.detach().cpu().numpy())\n",
    "        \n",
    "\n",
    "    tqdm.write(f\"Epoch {epoch+1}/{num_epochs} - Avg Loss: {np.mean(epoch_losses):.4f}\")\n",
    "\n"
   ]
  },
  {
   "cell_type": "code",
   "execution_count": 23,
   "metadata": {},
   "outputs": [],
   "source": [
    "FWHM = batch[:, :, :, -1]"
   ]
  },
  {
   "cell_type": "code",
   "execution_count": 27,
   "metadata": {},
   "outputs": [
    {
     "data": {
      "text/plain": [
       "tensor([[[4.2463, 4.2463, 4.2463, 4.2463, 4.2463],\n",
       "         [4.2463, 4.2463, 4.2463, 4.2463, 4.2463],\n",
       "         [4.2463, 4.2463, 4.2463, 4.2463, 4.2463],\n",
       "         [4.2463, 4.2463, 4.2463, 4.2463, 4.2463],\n",
       "         [4.2463, 4.2463, 4.2463, 4.2463, 4.2463]],\n",
       "\n",
       "        [[4.2463, 4.2463, 4.2463, 4.2463, 4.2463],\n",
       "         [4.2463, 4.2463, 4.2463, 4.2463, 4.2463],\n",
       "         [4.2463, 4.2463, 4.2463, 4.2463, 4.2463],\n",
       "         [4.2463, 4.2463, 4.2463, 4.2463, 4.2463],\n",
       "         [4.2463, 4.2463, 4.2463, 4.2463, 4.2463]],\n",
       "\n",
       "        [[4.2463, 4.2463, 4.2463, 4.2463, 4.2463],\n",
       "         [4.2463, 4.2463, 4.2463, 4.2463, 4.2463],\n",
       "         [4.2463, 4.2463, 4.2463, 4.2463, 4.2463],\n",
       "         [4.2463, 4.2463, 4.2463, 4.2463, 4.2463],\n",
       "         [4.2463, 4.2463, 4.2463, 4.2463, 4.2463]]])"
      ]
     },
     "execution_count": 27,
     "metadata": {},
     "output_type": "execute_result"
    }
   ],
   "source": [
    "FWHM / 2.355"
   ]
  },
  {
   "cell_type": "code",
   "execution_count": 36,
   "metadata": {},
   "outputs": [],
   "source": [
    "d_lamb = torch.tensor([0.0] * 5 * 5 * 3).view(3, 5, 5).to(device)"
   ]
  },
  {
   "cell_type": "code",
   "execution_count": 37,
   "metadata": {},
   "outputs": [
    {
     "name": "stdout",
     "output_type": "stream",
     "text": [
      "L_hr shape: torch.Size([3, 5, 5, 241])\n",
      "torch.Size([3, 5, 5, 241])\n",
      "torch.Size([3, 5, 5, 241])\n"
     ]
    }
   ],
   "source": [
    "t1      = output_sup[:, :, :, 0, :]\n",
    "t2      = output_sup[:, :, :, 1, :]\n",
    "t3      = output_sup[:, :, :, 2, :]\n",
    "t6      = output_sup[:, :, :, 3, :]\n",
    "t7      = output_sup[:, :, :, 4, :]\n",
    "t8      = output_sup[:, :, :, 5, :]\n",
    "t9      = output_sup[:, :, :, 6, :]\n",
    "t10     = output_sup[:, :, :, 7, :]\n",
    "t11     = output_sup[:, :, :, 8, :]\n",
    "R_param = output_sup[:, :, :, 9, :]\n",
    "F_param = output_sup[:, :, :, 10, :]\n",
    "\n",
    "\n",
    "# t1, t2, t3, t4, t5, t6, R, F, delta_lambda, delta_sigma, E_s, cos_theta_s\n",
    "# Use a realistic delta_sigma (set to 0.0 here to preserve spectral resolution).\n",
    "sim_output_full = simulation(\n",
    "    t1, t2, t3, t6, t7, t8, t9, t10, t11, R_param, F_param,\n",
    "    d_lamb, torch.tensor(0.1 / 2.355)\n",
    ")"
   ]
  },
  {
   "cell_type": "code",
   "execution_count": 40,
   "metadata": {},
   "outputs": [],
   "source": [
    "import matplotlib.pyplot as plt\n",
    "\n",
    "obs = sim_output_full[0][0][0].detach().cpu().numpy()"
   ]
  },
  {
   "cell_type": "code",
   "execution_count": 42,
   "metadata": {},
   "outputs": [
    {
     "data": {
      "image/png": "[encoded data removed]",
      "text/plain": [
       "<Figure size 640x480 with 1 Axes>"
      ]
     },
     "metadata": {},
     "output_type": "display_data"
    }
   ],
   "source": [
    "plt.plot(sensor_wl.detach().cpu().numpy(), obs)\n",
    "plt.show()\n"
   ]
  },
  {
   "cell_type": "code",
   "execution_count": 43,
   "metadata": {},
   "outputs": [
    {
     "data": {
      "text/plain": [
       "tensor(0.8270, device='cuda:0')"
      ]
     },
     "execution_count": 43,
     "metadata": {},
     "output_type": "execute_result"
    }
   ],
   "source": [
    "(sensor_wl.max() - sensor_wl.min()) / len(sensor_wl)"
   ]
  },
  {
   "cell_type": "code",
   "execution_count": 44,
   "metadata": {},
   "outputs": [],
   "source": [
    "d_lamb = torch.tensor([0.0] * 5 * 5 * 3).view(3, 5, 5).to(device)"
   ]
  },
  {
   "cell_type": "code",
   "execution_count": 45,
   "metadata": {},
   "outputs": [
    {
     "data": {
      "text/plain": [
       "torch.Size([3, 5, 5])"
      ]
     },
     "execution_count": 45,
     "metadata": {},
     "output_type": "execute_result"
    }
   ],
   "source": [
    "d_lamb.shape"
   ]
  },
  {
   "cell_type": "code",
   "execution_count": 46,
   "metadata": {},
   "outputs": [],
   "source": [
    "FWHM = 10\n",
    "sigma = FWHM / 2.355"
   ]
  },
  {
   "cell_type": "code",
   "execution_count": 47,
   "metadata": {},
   "outputs": [
    {
     "name": "stdout",
     "output_type": "stream",
     "text": [
      "L_hr shape: torch.Size([3, 5, 5, 241])\n",
      "torch.Size([3, 5, 5, 241])\n",
      "torch.Size([3, 5, 5, 241])\n"
     ]
    }
   ],
   "source": [
    "sim_output_full = simulation(\n",
    "    t1, t2, t3, t6, t7, t8, t9, t10, t11, R_param, F_param,\n",
    "    d_lamb, torch.tensor(0.1 / 2.355)\n",
    ")"
   ]
  },
  {
   "cell_type": "code",
   "execution_count": 48,
   "metadata": {},
   "outputs": [],
   "source": [
    "predicted = sim_output_full[0][0][0].detach().cpu().numpy()"
   ]
  },
  {
   "cell_type": "code",
   "execution_count": 49,
   "metadata": {},
   "outputs": [
    {
     "data": {
      "image/png": "[encoded data removed]",
      "text/plain": [
       "<Figure size 640x480 with 1 Axes>"
      ]
     },
     "metadata": {},
     "output_type": "display_data"
    }
   ],
   "source": [
    "plt.plot(sensor_wl.detach().cpu().numpy(), obs)\n",
    "plt.show()\n"
   ]
  },
  {
   "cell_type": "code",
   "execution_count": 50,
   "metadata": {},
   "outputs": [],
   "source": [
    "real = batch[0][0][0][:241].detach().cpu().numpy()"
   ]
  },
  {
   "cell_type": "code",
   "execution_count": 51,
   "metadata": {},
   "outputs": [
    {
     "data": {
      "image/png": "[encoded data removed]",
      "text/plain": [
       "<Figure size 640x480 with 1 Axes>"
      ]
     },
     "metadata": {},
     "output_type": "display_data"
    }
   ],
   "source": [
    "plt.plot(sensor_wl.detach().cpu().numpy(), real)\n",
    "plt.show()\n"
   ]
  }
 ],
 "metadata": {
  "kernelspec": {
   "display_name": "Python 3",
   "language": "python",
   "name": "python3"
  },
  "language_info": {
   "codemirror_mode": {
    "name": "ipython",
    "version": 3
   },
   "file_extension": ".py",
   "mimetype": "text/x-python",
   "name": "python",
   "nbconvert_exporter": "python",
   "pygments_lexer": "ipython3",
   "version": "3.11.0"
  }
 },
 "nbformat": 4,
 "nbformat_minor": 2
}
