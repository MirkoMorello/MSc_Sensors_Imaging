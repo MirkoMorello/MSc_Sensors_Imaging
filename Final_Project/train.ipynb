{
 "cells": [
  {
   "cell_type": "code",
   "execution_count": 1,
   "metadata": {},
   "outputs": [
    {
     "name": "stderr",
     "output_type": "stream",
     "text": [
      "/home/omirako/.local/lib/python3.11/site-packages/torch/utils/_pytree.py:185: FutureWarning: optree is installed but the version is too old to support PyTorch Dynamo in C++ pytree. C++ pytree support is disabled. Please consider upgrading optree using `python3 -m pip install --upgrade 'optree>=0.13.0'`.\n",
      "  warnings.warn(\n"
     ]
    }
   ],
   "source": [
    "from dataset import SFMNNDataset\n",
    "from network import SFMNNEncoder\n",
    "from simulate import SFMNNSimulation\n",
    "from loss import SFMNNLoss\n",
    "\n",
    "import torch\n",
    "import torch.optim as optim\n",
    "from torch.utils.data import DataLoader\n",
    "from tqdm import tqdm\n",
    "import os\n",
    "import json\n",
    "\n",
    "from dotenv import load_dotenv"
   ]
  },
  {
   "cell_type": "code",
   "execution_count": 2,
   "metadata": {},
   "outputs": [
    {
     "name": "stderr",
     "output_type": "stream",
     "text": [
      "Loading JSON files:   0%|          | 0/1350 [00:00<?, ?it/s]"
     ]
    },
    {
     "name": "stderr",
     "output_type": "stream",
     "text": [
      "Loading JSON files: 100%|██████████| 1350/1350 [00:15<00:00, 85.81it/s]\n"
     ]
    },
    {
     "name": "stdout",
     "output_type": "stream",
     "text": [
      "Total number of elements loaded: 1350\n",
      "Total number of patches loaded: 60\n"
     ]
    }
   ],
   "source": [
    "load_dotenv()\n",
    "data_folder = os.getenv(\"DATA_FOLDER\")\n",
    "\n",
    "with open(data_folder + \"simulation_sim_0_amb_0.json\") as f:\n",
    "    data = json.load(f)\n",
    "with open(data_folder + \"simulation_lookuptable.json\") as f:\n",
    "    lookup = json.load(f)\n",
    "\n",
    "# Load the dataset\n",
    "dataset = SFMNNDataset(data_folder + 'simulation_lookuptable.json', 'output/', patch_size=5)\n",
    "\n",
    "# Load the dataloader\n",
    "dataloader = DataLoader(dataset, batch_size=3, shuffle=True, drop_last=False)\n"
   ]
  },
  {
   "cell_type": "code",
   "execution_count": 3,
   "metadata": {},
   "outputs": [
    {
     "name": "stdout",
     "output_type": "stream",
     "text": [
      "cuda\n"
     ]
    }
   ],
   "source": [
    "device = torch.device(\"cuda\" if torch.cuda.is_available() else \"cpu\")\n",
    "print(device)"
   ]
  },
  {
   "cell_type": "code",
   "execution_count": 4,
   "metadata": {},
   "outputs": [
    {
     "data": {
      "text/plain": [
       "3620"
      ]
     },
     "execution_count": 4,
     "metadata": {},
     "output_type": "execute_result"
    }
   ],
   "source": [
    "# Number of spectral bands\n",
    "n_spectral_bands = len(dataset.get_wl())\n",
    "n_spectral_bands"
   ]
  },
  {
   "cell_type": "code",
   "execution_count": 5,
   "metadata": {},
   "outputs": [
    {
     "data": {
      "text/plain": [
       "(5, 5, 3623)"
      ]
     },
     "execution_count": 5,
     "metadata": {},
     "output_type": "execute_result"
    }
   ],
   "source": [
    "C,H,W = dataset[0].shape\n",
    "H, W, C"
   ]
  },
  {
   "cell_type": "code",
   "execution_count": 6,
   "metadata": {},
   "outputs": [
    {
     "name": "stdout",
     "output_type": "stream",
     "text": [
      "SFMNNEncoder(\n",
      "  (input_norm): BatchNorm1d(3623, eps=1e-05, momentum=0.1, affine=True, track_running_stats=True)\n",
      "  (fc_layers): Sequential(\n",
      "    (0): Linear(in_features=3623, out_features=4096, bias=True)\n",
      "    (1): BatchNorm1d(4096, eps=1e-05, momentum=0.1, affine=True, track_running_stats=True)\n",
      "    (2): ReLU()\n",
      "    (3): Dropout(p=0.1, inplace=False)\n",
      "    (4): Linear(in_features=4096, out_features=8192, bias=True)\n",
      "    (5): BatchNorm1d(8192, eps=1e-05, momentum=0.1, affine=True, track_running_stats=True)\n",
      "    (6): ReLU()\n",
      "    (7): Dropout(p=0.1, inplace=False)\n",
      "    (8): Linear(in_features=8192, out_features=16384, bias=True)\n",
      "    (9): BatchNorm1d(16384, eps=1e-05, momentum=0.1, affine=True, track_running_stats=True)\n",
      "    (10): ReLU()\n",
      "    (11): Linear(in_features=16384, out_features=16384, bias=True)\n",
      "    (12): BatchNorm1d(16384, eps=1e-05, momentum=0.1, affine=True, track_running_stats=True)\n",
      "    (13): ReLU()\n",
      "  )\n",
      "  (latent_proj): Linear(in_features=16384, out_features=32607, bias=True)\n",
      ")\n"
     ]
    }
   ],
   "source": [
    "# Initialize the network\n",
    "encoder = SFMNNEncoder(input_channels=C, latent_dim=C).to(device)\n",
    "\n",
    "print(encoder)"
   ]
  },
  {
   "cell_type": "code",
   "execution_count": 7,
   "metadata": {},
   "outputs": [],
   "source": [
    "optimizer = optim.Adam(encoder.parameters(), lr=0.001, weight_decay=0.0001)\n",
    "criterion = SFMNNLoss(torch.tensor(n_spectral_bands))"
   ]
  },
  {
   "cell_type": "code",
   "execution_count": 8,
   "metadata": {},
   "outputs": [
    {
     "name": "stdout",
     "output_type": "stream",
     "text": [
      "input: torch.Size([3, 3623, 5, 5])\n",
      "output: torch.Size([3, 5, 5, 9, 3623])\n",
      "input: torch.Size([3, 3623, 5, 5])\n",
      "output: torch.Size([3, 5, 5, 9, 3623])\n",
      "input: torch.Size([3, 3623, 5, 5])\n",
      "output: torch.Size([3, 5, 5, 9, 3623])\n",
      "input: torch.Size([3, 3623, 5, 5])\n",
      "output: torch.Size([3, 5, 5, 9, 3623])\n",
      "input: torch.Size([3, 3623, 5, 5])\n",
      "output: torch.Size([3, 5, 5, 9, 3623])\n",
      "input: torch.Size([3, 3623, 5, 5])\n",
      "output: torch.Size([3, 5, 5, 9, 3623])\n",
      "input: torch.Size([3, 3623, 5, 5])\n",
      "output: torch.Size([3, 5, 5, 9, 3623])\n",
      "input: torch.Size([3, 3623, 5, 5])\n",
      "output: torch.Size([3, 5, 5, 9, 3623])\n",
      "input: torch.Size([3, 3623, 5, 5])\n",
      "output: torch.Size([3, 5, 5, 9, 3623])\n",
      "input: torch.Size([3, 3623, 5, 5])\n",
      "output: torch.Size([3, 5, 5, 9, 3623])\n",
      "input: torch.Size([3, 3623, 5, 5])\n",
      "output: torch.Size([3, 5, 5, 9, 3623])\n",
      "input: torch.Size([3, 3623, 5, 5])\n",
      "output: torch.Size([3, 5, 5, 9, 3623])\n",
      "input: torch.Size([3, 3623, 5, 5])\n",
      "output: torch.Size([3, 5, 5, 9, 3623])\n",
      "input: torch.Size([3, 3623, 5, 5])\n",
      "output: torch.Size([3, 5, 5, 9, 3623])\n",
      "input: torch.Size([3, 3623, 5, 5])\n",
      "output: torch.Size([3, 5, 5, 9, 3623])\n",
      "input: torch.Size([3, 3623, 5, 5])\n",
      "output: torch.Size([3, 5, 5, 9, 3623])\n",
      "input: torch.Size([3, 3623, 5, 5])\n",
      "output: torch.Size([3, 5, 5, 9, 3623])\n",
      "input: torch.Size([3, 3623, 5, 5])\n",
      "output: torch.Size([3, 5, 5, 9, 3623])\n",
      "input: torch.Size([3, 3623, 5, 5])\n",
      "output: torch.Size([3, 5, 5, 9, 3623])\n",
      "input: torch.Size([3, 3623, 5, 5])\n",
      "output: torch.Size([3, 5, 5, 9, 3623])\n"
     ]
    }
   ],
   "source": [
    "# test the network\n",
    "for i, data in enumerate(dataloader):\n",
    "    data = data.to(device)\n",
    "    print('input:', data.shape)\n",
    "    out = encoder(data)\n",
    "    print('output:', out.shape)"
   ]
  },
  {
   "cell_type": "code",
   "execution_count": 9,
   "metadata": {},
   "outputs": [
    {
     "data": {
      "text/plain": [
       "torch.Size([3620])"
      ]
     },
     "execution_count": 9,
     "metadata": {},
     "output_type": "execute_result"
    }
   ],
   "source": [
    "torch.tensor(dataset.get_wl()).shape"
   ]
  },
  {
   "cell_type": "code",
   "execution_count": 10,
   "metadata": {},
   "outputs": [],
   "source": [
    "import torch\n",
    "import torch.nn as nn\n",
    "import torch.nn.functional as F_func  # renamed to avoid shadowing\n",
    "from tqdm import tqdm\n",
    "\n",
    "# --- FourStreamSimulator ---\n",
    "class FourStreamSimulator(nn.Module):\n",
    "    def __init__(self, spectral_window=(750, 770), high_res=0.0055):\n",
    "        super().__init__()\n",
    "        self.register_buffer('lambda_hr', torch.arange(*spectral_window, high_res))\n",
    "        self.mu_f = 737.0  # Fluorescence peak wavelength\n",
    "\n",
    "    def forward(self, t1, t2, t3, t4, t5, t6, R, F, E_s, cos_theta_s):\n",
    "#        print(f\"t1: {t1.shape}\")\n",
    "#        print(f\"t2: {t2.shape}\")\n",
    "#        print(f\"t3: {t3.shape}\")\n",
    "#        print(f\"t4: {t4.shape}\")\n",
    "#        print(f\"t5: {t5.shape}\")\n",
    "#        print(f\"t6: {t6.shape}\")\n",
    "#        print(f\"R: {R.shape}\")\n",
    "#        print(f\"F: {F.shape}\")\n",
    "\n",
    "        # Compute product terms (following Table 3 from the paper)\n",
    "        t7 = t3 * t4\n",
    "        t8 = t3 * t6\n",
    "        t9 = t4 * t5\n",
    "        t10 = t4 * t2\n",
    "        t11 = t3 * t2\n",
    "\n",
    "        LTOA = t1 * t2 + (t1 * t8 * R + t9 * R + t10 * R + t11 * R + t6 * F + t7 * F) / (1 - t3 * R)\n",
    "        return LTOA\n",
    "\n",
    "class HyPlantSensorSimulator(nn.Module):\n",
    "    def __init__(self, sensor_wavelengths, high_res=0.0055):\n",
    "        super().__init__()\n",
    "        # sensor_wavelengths: expected shape [n_sensor] (e.g. 3620)\n",
    "        self.register_buffer('sensor_wavelengths', sensor_wavelengths)\n",
    "        self.high_res = high_res\n",
    "        self.register_buffer('wl_range', torch.tensor([sensor_wavelengths.min(), sensor_wavelengths.max()]))\n",
    "\n",
    "    def forward(self, L_hr, delta_lambda, delta_sigma):\n",
    "        \"\"\"\n",
    "        Args:\n",
    "            L_hr: [B, C_hr, H, W] where C_hr is the high-resolution spectral dimension.\n",
    "            delta_lambda: [B, H, W] (per-patch shift; will be averaged to [B,1])\n",
    "            delta_sigma: scalar tensor\n",
    "        Returns:\n",
    "            L_hyp: [B, n_sensor, H, W] simulated sensor output.\n",
    "        \"\"\"\n",
    "        B, C_hr, H, W = L_hr.shape\n",
    "\n",
    "        # 1. Create Gaussian SRF kernel.\n",
    "        sigma = (0.27 + delta_sigma) * 2.3548  # Convert FWHM to sigma.\n",
    "        kernel_size = int(6 * sigma / self.high_res)\n",
    "        x = torch.linspace(-3 * sigma, 3 * sigma, kernel_size, device=L_hr.device)\n",
    "        kernel = torch.exp(-0.5 * (x / sigma) ** 2)\n",
    "        kernel /= kernel.sum()\n",
    "\n",
    "        # 2. Spectral convolution along the spectral dimension.\n",
    "        # Reshape L_hr: [B, C_hr, H, W] -> [B, H, W, C_hr] then flatten to [B*H*W, 1, C_hr].\n",
    "        L_hr_reshaped = L_hr.permute(0, 2, 3, 1).reshape(B * H * W, 1, C_hr)\n",
    "        L_blur = F_func.conv1d(L_hr_reshaped, kernel.view(1, 1, -1), padding=kernel_size // 2)\n",
    "        new_C_hr = L_blur.shape[-1]\n",
    "        # Reshape back to [B, H, W, new_C_hr] and then to [B, new_C_hr, H, W].\n",
    "        L_blur = L_blur.view(B, H, W, new_C_hr).permute(0, 3, 1, 2)\n",
    "\n",
    "        # 3. Wavelength shift and interpolation.\n",
    "        # Average delta_lambda over H and W: [B, H, W] -> [B, 1].\n",
    "        avg_delta = delta_lambda.mean(dim=(1, 2)).view(B, 1)\n",
    "        # Add this shift to sensor wavelengths.\n",
    "        # sensor_wavelengths: [n_sensor] -> [1, n_sensor] then add -> [B, n_sensor].\n",
    "        shifted_wl = self.sensor_wavelengths.unsqueeze(0) + avg_delta  # [B, n_sensor]\n",
    "        normalized_wl = 2 * (shifted_wl - self.wl_range[0]) / (self.wl_range[1] - self.wl_range[0]) - 1  # [B, n_sensor]\n",
    "\n",
    "        # Build grid for grid_sample.\n",
    "        # We want to sample from L_blur along its spectral dimension.\n",
    "        # For each pixel, we treat its spectrum as a 1-pixel–high image of width = new_C_hr.\n",
    "        # Reshape L_blur to [B, new_C_hr, H, W] -> then to [B*H*W, 1, 1, new_C_hr].\n",
    "        L_blur_reshaped = L_blur.permute(0, 2, 3, 1).reshape(B * H * W, 1, 1, new_C_hr)\n",
    "\n",
    "        # Build a grid for each pixel:\n",
    "        # normalized_wl is [B, n_sensor]. We need to replicate it for each pixel.\n",
    "        # First, expand to [B, 1, n_sensor] and then repeat for H*W pixels: [B, H*W, n_sensor].\n",
    "        grid_x = normalized_wl.unsqueeze(1).expand(B, H * W, -1)  # [B, H*W, n_sensor]\n",
    "        grid_y = torch.zeros_like(grid_x)  # y-coordinates are 0.\n",
    "        # Stack them to form grid: [B, H*W, n_sensor, 2]\n",
    "        grid = torch.stack((grid_y, grid_x), dim=-1)\n",
    "        # Reshape grid to [B*H*W, 1, n_sensor, 2] for grid_sample.\n",
    "        grid = grid.view(B * H * W, 1, normalized_wl.shape[-1], 2)\n",
    "\n",
    "        # Now, sample using grid_sample.\n",
    "        # This returns a tensor of shape [B*H*W, 1, 1, n_sensor].\n",
    "        L_sampled = F_func.grid_sample(L_blur_reshaped, grid, mode='bilinear', align_corners=False)\n",
    "        # Reshape to [B, H, W, n_sensor]\n",
    "        L_sampled = L_sampled.view(B, H, W, normalized_wl.shape[-1])\n",
    "        # Permute to [B, n_sensor, H, W] (the desired output shape).\n",
    "        L_hyp = L_sampled.permute(0, 3, 1, 2)\n",
    "        return L_hyp\n",
    "\n",
    "\n",
    "# --- SFMNNSimulation ---\n",
    "class SFMNNSimulation(nn.Module):\n",
    "    def __init__(self, sensor_wavelengths):\n",
    "        super().__init__()\n",
    "        self.four_stream = FourStreamSimulator()\n",
    "        self.sensor_sim = HyPlantSensorSimulator(sensor_wavelengths)\n",
    "\n",
    "    def forward(self, t1, t2, t3, t4, t5, t6, R, F, delta_lambda, delta_sigma, E_s, cos_theta_s):\n",
    "        # 1. Compute high-resolution radiance.\n",
    "        L_hr = self.four_stream(t1, t2, t3, t4, t5, t6, R, F, E_s, cos_theta_s)\n",
    "        # 2. Apply sensor simulation.\n",
    "        L_hyp = self.sensor_sim(L_hr, delta_lambda, delta_sigma)\n",
    "        return L_hyp\n"
   ]
  },
  {
   "cell_type": "code",
   "execution_count": 11,
   "metadata": {},
   "outputs": [],
   "source": [
    "class SFMNNLoss(nn.Module):\n",
    "    def __init__(self, \n",
    "                 gamma_f=5, \n",
    "                 gamma_N=10, \n",
    "                 gamma_a=1,\n",
    "                 ndvi_threshold=0.15,\n",
    "                 red_idx=680,    # These indices refer to wavelengths (0-indexed) in a 3620-channel spectrum.\n",
    "                 nir_idx=800\n",
    "                ):\n",
    "        super().__init__()\n",
    "        self.gamma_f = gamma_f\n",
    "        self.gamma_N = gamma_N\n",
    "        self.gamma_a = gamma_a\n",
    "        self.ndvi_threshold = ndvi_threshold\n",
    "        self.red_idx = red_idx\n",
    "        self.nir_idx = nir_idx\n",
    "\n",
    "    def forward(self, pred, target, outputs, E_s, cos_theta_s):\n",
    "        # Compute NDVI from reflectance.\n",
    "        red = outputs['reflectance'][:, self.red_idx]  # [B, H, W]\n",
    "        nir = outputs['reflectance'][:, self.nir_idx]    # [B, H, W]\n",
    "        ndvi = (nir - red) / (nir + red + 1e-6)\n",
    "        \n",
    "        R_mean = outputs['reflectance'].mean(dim=(2,3), keepdim=True)  # [B, 3620, 1, 1]\n",
    "        L_atm_R = pred - outputs['sif'].unsqueeze(1)  # [B, 3620, H, W]\n",
    "        \n",
    "        B = E_s.size(0)\n",
    "        # Explicitly reshape E_s to [B, 3620, 1, 1] and cos_theta_s to [B, 1, 1, 1]\n",
    "        denom = E_s.view(B, E_s.size(1), 1, 1) * cos_theta_s.view(B, 1, 1, 1) + 1e-6\n",
    "        t_tot = (L_atm_R * R_mean) / denom\n",
    "\n",
    "        w_f = self.compute_w_f(target, outputs['sif'])\n",
    "        recon_loss = torch.mean((pred - target)**2)\n",
    "        weighted_diff = (pred - target)**2 * w_f.view(1, -1, 1, 1)\n",
    "        signal_loss = torch.mean(weighted_diff)\n",
    "        veg_mask = (ndvi <= self.ndvi_threshold).float()\n",
    "        ndvi_loss = torch.mean(outputs['sif'] * veg_mask)\n",
    "        atm_loss = torch.mean(torch.relu(t_tot - 1))\n",
    "        \n",
    "        total_loss = recon_loss + self.gamma_f * signal_loss + self.gamma_N * ndvi_loss + self.gamma_a * atm_loss\n",
    "        \n",
    "        loss_dict = {\n",
    "            'total': total_loss,\n",
    "            'recon': recon_loss,\n",
    "            'signal': signal_loss,\n",
    "            'ndvi': ndvi_loss,\n",
    "            'atm': atm_loss\n",
    "        }\n",
    "        return total_loss, loss_dict\n",
    "\n",
    "    def compute_w_f(self, L_HyP, sif_pred, epsilon=1e-6):\n",
    "        f_sq = sif_pred.unsqueeze(1)**2  # [B, 1, H, W]\n",
    "        sum_f_sq = torch.mean(f_sq, dim=(0, 2, 3))\n",
    "        sigma_L2 = torch.var(L_HyP, dim=(0, 2, 3), unbiased=False)\n",
    "        numerator = sum_f_sq\n",
    "        denominator = sum_f_sq / (sigma_L2 + epsilon)\n",
    "        w_f = (1.0 / (sigma_L2 + epsilon)) * (numerator / (denominator.sum() + epsilon))\n",
    "        return w_f\n",
    "\n"
   ]
  },
  {
   "cell_type": "code",
   "execution_count": 12,
   "metadata": {},
   "outputs": [
    {
     "name": "stderr",
     "output_type": "stream",
     "text": [
      "                                                                                                                        \r"
     ]
    },
    {
     "name": "stdout",
     "output_type": "stream",
     "text": [
      "Epoch 1/100 - Avg Loss: 8766.1209\n"
     ]
    },
    {
     "name": "stderr",
     "output_type": "stream",
     "text": [
      "                                                                                                                        \r"
     ]
    },
    {
     "name": "stdout",
     "output_type": "stream",
     "text": [
      "Epoch 2/100 - Avg Loss: 6045.8451\n"
     ]
    },
    {
     "name": "stderr",
     "output_type": "stream",
     "text": [
      "                                                                                                                        \r"
     ]
    },
    {
     "name": "stdout",
     "output_type": "stream",
     "text": [
      "Epoch 3/100 - Avg Loss: 6186.9835\n"
     ]
    },
    {
     "name": "stderr",
     "output_type": "stream",
     "text": [
      "                                                                                                                        \r"
     ]
    },
    {
     "name": "stdout",
     "output_type": "stream",
     "text": [
      "Epoch 4/100 - Avg Loss: 5371.8877\n"
     ]
    },
    {
     "name": "stderr",
     "output_type": "stream",
     "text": [
      "                                                                                                                        \r"
     ]
    },
    {
     "name": "stdout",
     "output_type": "stream",
     "text": [
      "Epoch 5/100 - Avg Loss: 5341.3303\n"
     ]
    },
    {
     "name": "stderr",
     "output_type": "stream",
     "text": [
      "                                                                                                                        \r"
     ]
    },
    {
     "name": "stdout",
     "output_type": "stream",
     "text": [
      "Epoch 6/100 - Avg Loss: 5436.6222\n"
     ]
    },
    {
     "name": "stderr",
     "output_type": "stream",
     "text": [
      "                                                                                                                        \r"
     ]
    },
    {
     "name": "stdout",
     "output_type": "stream",
     "text": [
      "Epoch 7/100 - Avg Loss: 5282.0490\n"
     ]
    },
    {
     "name": "stderr",
     "output_type": "stream",
     "text": [
      "                                                                                                                        \r"
     ]
    },
    {
     "name": "stdout",
     "output_type": "stream",
     "text": [
      "Epoch 8/100 - Avg Loss: 5334.7576\n"
     ]
    },
    {
     "name": "stderr",
     "output_type": "stream",
     "text": [
      "                                                                                                                        \r"
     ]
    },
    {
     "name": "stdout",
     "output_type": "stream",
     "text": [
      "Epoch 9/100 - Avg Loss: 5318.2627\n"
     ]
    },
    {
     "name": "stderr",
     "output_type": "stream",
     "text": [
      "                                                                                                                         \r"
     ]
    },
    {
     "name": "stdout",
     "output_type": "stream",
     "text": [
      "Epoch 10/100 - Avg Loss: 18833.0563\n"
     ]
    },
    {
     "name": "stderr",
     "output_type": "stream",
     "text": [
      "                                                                                                                         \r"
     ]
    },
    {
     "name": "stdout",
     "output_type": "stream",
     "text": [
      "Epoch 11/100 - Avg Loss: 6378.9813\n"
     ]
    },
    {
     "name": "stderr",
     "output_type": "stream",
     "text": [
      "                                                                                                                         \r"
     ]
    },
    {
     "name": "stdout",
     "output_type": "stream",
     "text": [
      "Epoch 12/100 - Avg Loss: 6606.9066\n"
     ]
    },
    {
     "name": "stderr",
     "output_type": "stream",
     "text": [
      "                                                                                                                         \r"
     ]
    },
    {
     "name": "stdout",
     "output_type": "stream",
     "text": [
      "Epoch 13/100 - Avg Loss: 5373.3280\n"
     ]
    },
    {
     "name": "stderr",
     "output_type": "stream",
     "text": [
      "                                                                                                                         \r"
     ]
    },
    {
     "name": "stdout",
     "output_type": "stream",
     "text": [
      "Epoch 14/100 - Avg Loss: 55329.7345\n"
     ]
    },
    {
     "name": "stderr",
     "output_type": "stream",
     "text": [
      "                                                                                                                         \r"
     ]
    },
    {
     "name": "stdout",
     "output_type": "stream",
     "text": [
      "Epoch 15/100 - Avg Loss: 6107.8471\n"
     ]
    },
    {
     "name": "stderr",
     "output_type": "stream",
     "text": [
      "                                                                                                                        \r"
     ]
    },
    {
     "name": "stdout",
     "output_type": "stream",
     "text": [
      "Epoch 16/100 - Avg Loss: 162503.4302\n"
     ]
    },
    {
     "name": "stderr",
     "output_type": "stream",
     "text": [
      "                                                                                                                         \r"
     ]
    },
    {
     "name": "stdout",
     "output_type": "stream",
     "text": [
      "Epoch 17/100 - Avg Loss: 6649.9386\n"
     ]
    },
    {
     "name": "stderr",
     "output_type": "stream",
     "text": [
      "                                                                                                                         \r"
     ]
    },
    {
     "name": "stdout",
     "output_type": "stream",
     "text": [
      "Epoch 18/100 - Avg Loss: 7125.0957\n"
     ]
    },
    {
     "name": "stderr",
     "output_type": "stream",
     "text": [
      "                                                                                                                         \r"
     ]
    },
    {
     "name": "stdout",
     "output_type": "stream",
     "text": [
      "Epoch 19/100 - Avg Loss: 6199.6214\n"
     ]
    },
    {
     "name": "stderr",
     "output_type": "stream",
     "text": [
      "                                                                                                                         \r"
     ]
    },
    {
     "name": "stdout",
     "output_type": "stream",
     "text": [
      "Epoch 20/100 - Avg Loss: 13219.2276\n"
     ]
    },
    {
     "name": "stderr",
     "output_type": "stream",
     "text": [
      "                                                                                                                         \r"
     ]
    },
    {
     "name": "stdout",
     "output_type": "stream",
     "text": [
      "Epoch 21/100 - Avg Loss: 63628.9952\n"
     ]
    },
    {
     "name": "stderr",
     "output_type": "stream",
     "text": [
      "                                                                                                                         \r"
     ]
    },
    {
     "name": "stdout",
     "output_type": "stream",
     "text": [
      "Epoch 22/100 - Avg Loss: 9539.5830\n"
     ]
    },
    {
     "name": "stderr",
     "output_type": "stream",
     "text": [
      "                                                                                                                         \r"
     ]
    },
    {
     "name": "stdout",
     "output_type": "stream",
     "text": [
      "Epoch 23/100 - Avg Loss: 55167.8180\n"
     ]
    },
    {
     "name": "stderr",
     "output_type": "stream",
     "text": [
      "                                                                                                                         \r"
     ]
    },
    {
     "name": "stdout",
     "output_type": "stream",
     "text": [
      "Epoch 24/100 - Avg Loss: 180378.6260\n"
     ]
    },
    {
     "name": "stderr",
     "output_type": "stream",
     "text": [
      "                                                                                                                         \r"
     ]
    },
    {
     "name": "stdout",
     "output_type": "stream",
     "text": [
      "Epoch 25/100 - Avg Loss: 9318.7515\n"
     ]
    },
    {
     "name": "stderr",
     "output_type": "stream",
     "text": [
      "                                                                                                                         \r"
     ]
    },
    {
     "name": "stdout",
     "output_type": "stream",
     "text": [
      "Epoch 26/100 - Avg Loss: 70033.7484\n"
     ]
    },
    {
     "name": "stderr",
     "output_type": "stream",
     "text": [
      "                                                                                                                         \r"
     ]
    },
    {
     "name": "stdout",
     "output_type": "stream",
     "text": [
      "Epoch 27/100 - Avg Loss: 82718.3908\n"
     ]
    },
    {
     "name": "stderr",
     "output_type": "stream",
     "text": [
      "                                                                                                                         \r"
     ]
    },
    {
     "name": "stdout",
     "output_type": "stream",
     "text": [
      "Epoch 28/100 - Avg Loss: 6168.6345\n"
     ]
    },
    {
     "name": "stderr",
     "output_type": "stream",
     "text": [
      "                                                                                                                         \r"
     ]
    },
    {
     "name": "stdout",
     "output_type": "stream",
     "text": [
      "Epoch 29/100 - Avg Loss: 7595.0602\n"
     ]
    },
    {
     "name": "stderr",
     "output_type": "stream",
     "text": [
      "                                                                                                                         \r"
     ]
    },
    {
     "name": "stdout",
     "output_type": "stream",
     "text": [
      "Epoch 30/100 - Avg Loss: 6259.7436\n"
     ]
    },
    {
     "name": "stderr",
     "output_type": "stream",
     "text": [
      "                                                                                                                         \r"
     ]
    },
    {
     "name": "stdout",
     "output_type": "stream",
     "text": [
      "Epoch 31/100 - Avg Loss: 17943.5112\n"
     ]
    },
    {
     "name": "stderr",
     "output_type": "stream",
     "text": [
      "                                                                                                                         \r"
     ]
    },
    {
     "name": "stdout",
     "output_type": "stream",
     "text": [
      "Epoch 32/100 - Avg Loss: 7632.4000\n"
     ]
    },
    {
     "name": "stderr",
     "output_type": "stream",
     "text": [
      "                                                                                                                         \r"
     ]
    },
    {
     "name": "stdout",
     "output_type": "stream",
     "text": [
      "Epoch 33/100 - Avg Loss: 15366.9581\n"
     ]
    },
    {
     "name": "stderr",
     "output_type": "stream",
     "text": [
      "                                                                                                                         \r"
     ]
    },
    {
     "name": "stdout",
     "output_type": "stream",
     "text": [
      "Epoch 34/100 - Avg Loss: 93839.6703\n"
     ]
    },
    {
     "name": "stderr",
     "output_type": "stream",
     "text": [
      "                                                                                                                         \r"
     ]
    },
    {
     "name": "stdout",
     "output_type": "stream",
     "text": [
      "Epoch 35/100 - Avg Loss: 6338.5682\n"
     ]
    },
    {
     "name": "stderr",
     "output_type": "stream",
     "text": [
      "                                                                                                                         \r"
     ]
    },
    {
     "name": "stdout",
     "output_type": "stream",
     "text": [
      "Epoch 36/100 - Avg Loss: 13603.7472\n"
     ]
    },
    {
     "name": "stderr",
     "output_type": "stream",
     "text": [
      "                                                                                                                         \r"
     ]
    },
    {
     "name": "stdout",
     "output_type": "stream",
     "text": [
      "Epoch 37/100 - Avg Loss: 6744.3843\n"
     ]
    },
    {
     "name": "stderr",
     "output_type": "stream",
     "text": [
      "                                                                                                                         \r"
     ]
    },
    {
     "name": "stdout",
     "output_type": "stream",
     "text": [
      "Epoch 38/100 - Avg Loss: 9503.6179\n"
     ]
    },
    {
     "name": "stderr",
     "output_type": "stream",
     "text": [
      "                                                                                                                         \r"
     ]
    },
    {
     "name": "stdout",
     "output_type": "stream",
     "text": [
      "Epoch 39/100 - Avg Loss: 9712.2737\n"
     ]
    },
    {
     "name": "stderr",
     "output_type": "stream",
     "text": [
      "                                                                                                                         \r"
     ]
    },
    {
     "name": "stdout",
     "output_type": "stream",
     "text": [
      "Epoch 40/100 - Avg Loss: 68589.7063\n"
     ]
    },
    {
     "name": "stderr",
     "output_type": "stream",
     "text": [
      "                                                                                                                         \r"
     ]
    },
    {
     "name": "stdout",
     "output_type": "stream",
     "text": [
      "Epoch 41/100 - Avg Loss: 6766.5846\n"
     ]
    },
    {
     "name": "stderr",
     "output_type": "stream",
     "text": [
      "                                                                                                                         \r"
     ]
    },
    {
     "name": "stdout",
     "output_type": "stream",
     "text": [
      "Epoch 42/100 - Avg Loss: 11559.3245\n"
     ]
    },
    {
     "name": "stderr",
     "output_type": "stream",
     "text": [
      "                                                                                                                         \r"
     ]
    },
    {
     "name": "stdout",
     "output_type": "stream",
     "text": [
      "Epoch 43/100 - Avg Loss: 10508.1364\n"
     ]
    },
    {
     "name": "stderr",
     "output_type": "stream",
     "text": [
      "                                                                                                                         \r"
     ]
    },
    {
     "name": "stdout",
     "output_type": "stream",
     "text": [
      "Epoch 44/100 - Avg Loss: 28073.1562\n"
     ]
    },
    {
     "name": "stderr",
     "output_type": "stream",
     "text": [
      "                                                                                                                         \r"
     ]
    },
    {
     "name": "stdout",
     "output_type": "stream",
     "text": [
      "Epoch 45/100 - Avg Loss: 7638.7697\n"
     ]
    },
    {
     "name": "stderr",
     "output_type": "stream",
     "text": [
      "                                                                                                                         \r"
     ]
    },
    {
     "name": "stdout",
     "output_type": "stream",
     "text": [
      "Epoch 46/100 - Avg Loss: 8209.1349\n"
     ]
    },
    {
     "name": "stderr",
     "output_type": "stream",
     "text": [
      "                                                                                                                         \r"
     ]
    },
    {
     "name": "stdout",
     "output_type": "stream",
     "text": [
      "Epoch 47/100 - Avg Loss: 23983.9841\n"
     ]
    },
    {
     "name": "stderr",
     "output_type": "stream",
     "text": [
      "                                                                                                                         \r"
     ]
    },
    {
     "name": "stdout",
     "output_type": "stream",
     "text": [
      "Epoch 48/100 - Avg Loss: 87897.0730\n"
     ]
    },
    {
     "name": "stderr",
     "output_type": "stream",
     "text": [
      "                                                                                                                         \r"
     ]
    },
    {
     "name": "stdout",
     "output_type": "stream",
     "text": [
      "Epoch 49/100 - Avg Loss: 11624.0000\n"
     ]
    },
    {
     "name": "stderr",
     "output_type": "stream",
     "text": [
      "                                                                                                                         \r"
     ]
    },
    {
     "name": "stdout",
     "output_type": "stream",
     "text": [
      "Epoch 50/100 - Avg Loss: 8888.9192\n"
     ]
    },
    {
     "name": "stderr",
     "output_type": "stream",
     "text": [
      "                                                                                                                         \r"
     ]
    },
    {
     "name": "stdout",
     "output_type": "stream",
     "text": [
      "Epoch 51/100 - Avg Loss: 26003.9465\n"
     ]
    },
    {
     "name": "stderr",
     "output_type": "stream",
     "text": [
      "                                                                                                                         \r"
     ]
    },
    {
     "name": "stdout",
     "output_type": "stream",
     "text": [
      "Epoch 52/100 - Avg Loss: 26786.1424\n"
     ]
    },
    {
     "name": "stderr",
     "output_type": "stream",
     "text": [
      "                                                                                                                         \r"
     ]
    },
    {
     "name": "stdout",
     "output_type": "stream",
     "text": [
      "Epoch 53/100 - Avg Loss: 6591.8589\n"
     ]
    },
    {
     "name": "stderr",
     "output_type": "stream",
     "text": [
      "                                                                                                                         \r"
     ]
    },
    {
     "name": "stdout",
     "output_type": "stream",
     "text": [
      "Epoch 54/100 - Avg Loss: 7471.5094\n"
     ]
    },
    {
     "name": "stderr",
     "output_type": "stream",
     "text": [
      "                                                                                                                         \r"
     ]
    },
    {
     "name": "stdout",
     "output_type": "stream",
     "text": [
      "Epoch 55/100 - Avg Loss: 7930.1074\n"
     ]
    },
    {
     "name": "stderr",
     "output_type": "stream",
     "text": [
      "                                                                                                                         \r"
     ]
    },
    {
     "name": "stdout",
     "output_type": "stream",
     "text": [
      "Epoch 56/100 - Avg Loss: 6535.0717\n"
     ]
    },
    {
     "name": "stderr",
     "output_type": "stream",
     "text": [
      "                                                                                                                         \r"
     ]
    },
    {
     "name": "stdout",
     "output_type": "stream",
     "text": [
      "Epoch 57/100 - Avg Loss: 6505.7379\n"
     ]
    },
    {
     "name": "stderr",
     "output_type": "stream",
     "text": [
      "                                                                                                                       \r"
     ]
    },
    {
     "name": "stdout",
     "output_type": "stream",
     "text": [
      "Epoch 58/100 - Avg Loss: 210526.1093\n"
     ]
    },
    {
     "name": "stderr",
     "output_type": "stream",
     "text": [
      "                                                                                                                         \r"
     ]
    },
    {
     "name": "stdout",
     "output_type": "stream",
     "text": [
      "Epoch 59/100 - Avg Loss: 7688.0644\n"
     ]
    },
    {
     "name": "stderr",
     "output_type": "stream",
     "text": [
      "                                                                                                                         \r"
     ]
    },
    {
     "name": "stdout",
     "output_type": "stream",
     "text": [
      "Epoch 60/100 - Avg Loss: 16633.1651\n"
     ]
    },
    {
     "name": "stderr",
     "output_type": "stream",
     "text": [
      "                                                                                                                         \r"
     ]
    },
    {
     "name": "stdout",
     "output_type": "stream",
     "text": [
      "Epoch 61/100 - Avg Loss: 7585.7059\n"
     ]
    },
    {
     "name": "stderr",
     "output_type": "stream",
     "text": [
      "                                                                                                                         \r"
     ]
    },
    {
     "name": "stdout",
     "output_type": "stream",
     "text": [
      "Epoch 62/100 - Avg Loss: 9444.0372\n"
     ]
    },
    {
     "name": "stderr",
     "output_type": "stream",
     "text": [
      "                                                                                                                         \r"
     ]
    },
    {
     "name": "stdout",
     "output_type": "stream",
     "text": [
      "Epoch 63/100 - Avg Loss: 9954.5854\n"
     ]
    },
    {
     "name": "stderr",
     "output_type": "stream",
     "text": [
      "                                                                                                                         \r"
     ]
    },
    {
     "name": "stdout",
     "output_type": "stream",
     "text": [
      "Epoch 64/100 - Avg Loss: 7050.0126\n"
     ]
    },
    {
     "name": "stderr",
     "output_type": "stream",
     "text": [
      "                                                                                                                         \r"
     ]
    },
    {
     "name": "stdout",
     "output_type": "stream",
     "text": [
      "Epoch 65/100 - Avg Loss: 7229.4710\n"
     ]
    },
    {
     "name": "stderr",
     "output_type": "stream",
     "text": [
      "                                                                                                                         \r"
     ]
    },
    {
     "name": "stdout",
     "output_type": "stream",
     "text": [
      "Epoch 66/100 - Avg Loss: 10988.0254\n"
     ]
    },
    {
     "name": "stderr",
     "output_type": "stream",
     "text": [
      "                                                                                                                         \r"
     ]
    },
    {
     "name": "stdout",
     "output_type": "stream",
     "text": [
      "Epoch 67/100 - Avg Loss: 8613.6683\n"
     ]
    },
    {
     "name": "stderr",
     "output_type": "stream",
     "text": [
      "                                                                                                                         \r"
     ]
    },
    {
     "name": "stdout",
     "output_type": "stream",
     "text": [
      "Epoch 68/100 - Avg Loss: 17224.4323\n"
     ]
    },
    {
     "name": "stderr",
     "output_type": "stream",
     "text": [
      "                                                                                                                         \r"
     ]
    },
    {
     "name": "stdout",
     "output_type": "stream",
     "text": [
      "Epoch 69/100 - Avg Loss: 256502.3083\n"
     ]
    },
    {
     "name": "stderr",
     "output_type": "stream",
     "text": [
      "                                                                                                                         \r"
     ]
    },
    {
     "name": "stdout",
     "output_type": "stream",
     "text": [
      "Epoch 70/100 - Avg Loss: 21580.7296\n"
     ]
    },
    {
     "name": "stderr",
     "output_type": "stream",
     "text": [
      "                                                                                                                         \r"
     ]
    },
    {
     "name": "stdout",
     "output_type": "stream",
     "text": [
      "Epoch 71/100 - Avg Loss: 20353.2290\n"
     ]
    },
    {
     "name": "stderr",
     "output_type": "stream",
     "text": [
      "                                                                                                                        \r"
     ]
    },
    {
     "name": "stdout",
     "output_type": "stream",
     "text": [
      "Epoch 72/100 - Avg Loss: 10506.0188\n"
     ]
    },
    {
     "name": "stderr",
     "output_type": "stream",
     "text": [
      "                                                                                                                         \r"
     ]
    },
    {
     "name": "stdout",
     "output_type": "stream",
     "text": [
      "Epoch 73/100 - Avg Loss: 7645.1701\n"
     ]
    },
    {
     "name": "stderr",
     "output_type": "stream",
     "text": [
      "                                                                                                                        \r"
     ]
    },
    {
     "name": "stdout",
     "output_type": "stream",
     "text": [
      "Epoch 74/100 - Avg Loss: 1068837.8295\n"
     ]
    },
    {
     "name": "stderr",
     "output_type": "stream",
     "text": [
      "                                                                                                                         \r"
     ]
    },
    {
     "name": "stdout",
     "output_type": "stream",
     "text": [
      "Epoch 75/100 - Avg Loss: 13418.6103\n"
     ]
    },
    {
     "name": "stderr",
     "output_type": "stream",
     "text": [
      "                                                                                                                     \r"
     ]
    },
    {
     "name": "stdout",
     "output_type": "stream",
     "text": [
      "Epoch 76/100 - Avg Loss: 8190.7766\n"
     ]
    },
    {
     "name": "stderr",
     "output_type": "stream",
     "text": [
      "                                                                                                                     \r"
     ]
    },
    {
     "name": "stdout",
     "output_type": "stream",
     "text": [
      "Epoch 77/100 - Avg Loss: 8007.5644\n"
     ]
    },
    {
     "name": "stderr",
     "output_type": "stream",
     "text": [
      "                                                                                                                     \r"
     ]
    },
    {
     "name": "stdout",
     "output_type": "stream",
     "text": [
      "Epoch 78/100 - Avg Loss: 8004.7275\n"
     ]
    },
    {
     "name": "stderr",
     "output_type": "stream",
     "text": [
      "                                                                                                                        \r"
     ]
    },
    {
     "name": "stdout",
     "output_type": "stream",
     "text": [
      "Epoch 79/100 - Avg Loss: 9746.1312\n"
     ]
    },
    {
     "name": "stderr",
     "output_type": "stream",
     "text": [
      "                                                                                                                        \r"
     ]
    },
    {
     "name": "stdout",
     "output_type": "stream",
     "text": [
      "Epoch 80/100 - Avg Loss: 8151.0406\n"
     ]
    },
    {
     "name": "stderr",
     "output_type": "stream",
     "text": [
      "                                                                                                                     \r"
     ]
    },
    {
     "name": "stdout",
     "output_type": "stream",
     "text": [
      "Epoch 81/100 - Avg Loss: 8041.9730\n"
     ]
    },
    {
     "name": "stderr",
     "output_type": "stream",
     "text": [
      "                                                                                                                     \r"
     ]
    },
    {
     "name": "stdout",
     "output_type": "stream",
     "text": [
      "Epoch 82/100 - Avg Loss: 7980.9208\n"
     ]
    },
    {
     "name": "stderr",
     "output_type": "stream",
     "text": [
      "                                                                                                                     \r"
     ]
    },
    {
     "name": "stdout",
     "output_type": "stream",
     "text": [
      "Epoch 83/100 - Avg Loss: 7922.7757\n"
     ]
    },
    {
     "name": "stderr",
     "output_type": "stream",
     "text": [
      "                                                                                                                         \r"
     ]
    },
    {
     "name": "stdout",
     "output_type": "stream",
     "text": [
      "Epoch 84/100 - Avg Loss: 8120.0075\n"
     ]
    },
    {
     "name": "stderr",
     "output_type": "stream",
     "text": [
      "                                                                                                                     \r"
     ]
    },
    {
     "name": "stdout",
     "output_type": "stream",
     "text": [
      "Epoch 85/100 - Avg Loss: 7992.2336\n"
     ]
    },
    {
     "name": "stderr",
     "output_type": "stream",
     "text": [
      "                                                                                                                         \r"
     ]
    },
    {
     "name": "stdout",
     "output_type": "stream",
     "text": [
      "Epoch 86/100 - Avg Loss: 9651.0188\n"
     ]
    },
    {
     "name": "stderr",
     "output_type": "stream",
     "text": [
      "                                                                                                                        \r"
     ]
    },
    {
     "name": "stdout",
     "output_type": "stream",
     "text": [
      "Epoch 87/100 - Avg Loss: 10041.0111\n"
     ]
    },
    {
     "name": "stderr",
     "output_type": "stream",
     "text": [
      "                                                                                                                     \r"
     ]
    },
    {
     "name": "stdout",
     "output_type": "stream",
     "text": [
      "Epoch 88/100 - Avg Loss: 7985.4359\n"
     ]
    },
    {
     "name": "stderr",
     "output_type": "stream",
     "text": [
      "                                                                                                                        \r"
     ]
    },
    {
     "name": "stdout",
     "output_type": "stream",
     "text": [
      "Epoch 89/100 - Avg Loss: 8534.2090\n"
     ]
    },
    {
     "name": "stderr",
     "output_type": "stream",
     "text": [
      "                                                                                                                     \r"
     ]
    },
    {
     "name": "stdout",
     "output_type": "stream",
     "text": [
      "Epoch 90/100 - Avg Loss: 8054.9540\n"
     ]
    },
    {
     "name": "stderr",
     "output_type": "stream",
     "text": [
      "                                                                                                                     \r"
     ]
    },
    {
     "name": "stdout",
     "output_type": "stream",
     "text": [
      "Epoch 91/100 - Avg Loss: 8236.5187\n"
     ]
    },
    {
     "name": "stderr",
     "output_type": "stream",
     "text": [
      "                                                                                                                     \r"
     ]
    },
    {
     "name": "stdout",
     "output_type": "stream",
     "text": [
      "Epoch 92/100 - Avg Loss: 8644.0862\n"
     ]
    },
    {
     "name": "stderr",
     "output_type": "stream",
     "text": [
      "                                                                                                                     \r"
     ]
    },
    {
     "name": "stdout",
     "output_type": "stream",
     "text": [
      "Epoch 93/100 - Avg Loss: 7861.2237\n"
     ]
    },
    {
     "name": "stderr",
     "output_type": "stream",
     "text": [
      "                                                                                                                     \r"
     ]
    },
    {
     "name": "stdout",
     "output_type": "stream",
     "text": [
      "Epoch 94/100 - Avg Loss: 7886.3225\n"
     ]
    },
    {
     "name": "stderr",
     "output_type": "stream",
     "text": [
      "                                                                                                                     \r"
     ]
    },
    {
     "name": "stdout",
     "output_type": "stream",
     "text": [
      "Epoch 95/100 - Avg Loss: 7904.7618\n"
     ]
    },
    {
     "name": "stderr",
     "output_type": "stream",
     "text": [
      "                                                                                                                     \r"
     ]
    },
    {
     "name": "stdout",
     "output_type": "stream",
     "text": [
      "Epoch 96/100 - Avg Loss: 7899.3754\n"
     ]
    },
    {
     "name": "stderr",
     "output_type": "stream",
     "text": [
      "                                                                                                                        \r"
     ]
    },
    {
     "name": "stdout",
     "output_type": "stream",
     "text": [
      "Epoch 97/100 - Avg Loss: 8054.8906\n"
     ]
    },
    {
     "name": "stderr",
     "output_type": "stream",
     "text": [
      "                                                                                                                     \r"
     ]
    },
    {
     "name": "stdout",
     "output_type": "stream",
     "text": [
      "Epoch 98/100 - Avg Loss: 7851.5599\n"
     ]
    },
    {
     "name": "stderr",
     "output_type": "stream",
     "text": [
      "                                                                                                                     \r"
     ]
    },
    {
     "name": "stdout",
     "output_type": "stream",
     "text": [
      "Epoch 99/100 - Avg Loss: 7861.9074\n"
     ]
    },
    {
     "name": "stderr",
     "output_type": "stream",
     "text": [
      "                                                                                                                      "
     ]
    },
    {
     "name": "stdout",
     "output_type": "stream",
     "text": [
      "Epoch 100/100 - Avg Loss: 7990.9692\n"
     ]
    },
    {
     "name": "stderr",
     "output_type": "stream",
     "text": [
      "\r"
     ]
    }
   ],
   "source": [
    "import torch\n",
    "from torch.utils.data import DataLoader\n",
    "from tqdm import tqdm\n",
    "\n",
    "# -------------------------\n",
    "# Data Loading\n",
    "# -------------------------\n",
    "data_folder = \"output/\"  # Adjust to your folder path\n",
    "lookup_table_path = data_folder + 'simulation_lookuptable.json'\n",
    "#dataset = SFMNNDataset(lookup_table_path, data_folder, patch_size=5)\n",
    "#dataloader = DataLoader(dataset, batch_size=3, shuffle=True, drop_last=False)\n",
    "\n",
    "# Number of input channels: spectral (3620) + metadata (3) = 3623.\n",
    "C = 3623\n",
    "\n",
    "# -------------------------\n",
    "# Model Initialization\n",
    "# -------------------------\n",
    "device = torch.device(\"cuda\" if torch.cuda.is_available() else \"cpu\")\n",
    "# Create encoder with latent_dim set to 3620 (full spectral resolution)\n",
    "encoder = SFMNNEncoder(input_channels=C, num_variables=9, latent_dim=3620).to(device)\n",
    "# Get sensor wavelengths from the dataset (length 3620) and create simulation module.\n",
    "sensor_wl = torch.tensor(dataset.get_wl(), dtype=torch.float, device=device)  # shape: [3620]\n",
    "simulation = SFMNNSimulation(sensor_wl).to(device)\n",
    "# Create loss function.\n",
    "loss_fn = SFMNNLoss(red_idx=680, nir_idx=800).to(device)\n",
    "# Create an optimizer for the encoder.\n",
    "optimizer = torch.optim.Adam(encoder.parameters(), lr=1e-4)\n",
    "\n",
    "# -------------------------\n",
    "# Training Loop with tqdm\n",
    "# -------------------------\n",
    "num_epochs = 100  # Adjust as needed\n",
    "\n",
    "for epoch in range(num_epochs):\n",
    "    encoder.train()\n",
    "    epoch_loss = 0.0\n",
    "    num_samples = 0\n",
    "    pbar = tqdm(dataloader, desc=f\"Epoch {epoch+1}/{num_epochs}\", leave=False)\n",
    "    for batch in pbar:\n",
    "        # batch: [B, 3623, H, W]\n",
    "        batch = batch.to(device)\n",
    "        B, _, H, W = batch.shape\n",
    "        \n",
    "        # Extract target reflectance: first 3620 channels.\n",
    "        target = batch[:, :3620, :, :]\n",
    "        \n",
    "        # Forward pass through the encoder.\n",
    "        # Encoder output shape: [B, H, W, 9, 3620]\n",
    "        latent = encoder(batch)\n",
    "        \n",
    "        # Extract simulation variables (each of shape [B, 3620, H, W]).\n",
    "        t1 = latent[:, :, :, 0, :].permute(0, 3, 1, 2)\n",
    "        t2 = latent[:, :, :, 1, :].permute(0, 3, 1, 2)\n",
    "        t3 = latent[:, :, :, 2, :].permute(0, 3, 1, 2)\n",
    "        t4 = latent[:, :, :, 3, :].permute(0, 3, 1, 2)\n",
    "        t5 = latent[:, :, :, 4, :].permute(0, 3, 1, 2)\n",
    "        t6 = latent[:, :, :, 5, :].permute(0, 3, 1, 2)\n",
    "        R_param = latent[:, :, :, 6, :].permute(0, 3, 1, 2)\n",
    "        F_param = latent[:, :, :, 7, :].permute(0, 3, 1, 2)\n",
    "        # For delta_lambda, average the 9th variable over the spectral dimension.\n",
    "        delta_lambda_enc = latent[:, :, :, 8, :].permute(0, 3, 1, 2)  # [B, 3620, H, W]\n",
    "        delta_lambda = delta_lambda_enc.mean(dim=1)  # now [B, H, W]\n",
    "        \n",
    "        # Define dummy constants.\n",
    "        delta_sigma = torch.tensor(10.0, device=device)\n",
    "        E_s = torch.ones(B, 3620, device=device)  # Dummy solar irradiance per wavelength.\n",
    "        cos_theta_s = torch.ones(B, device=device)  # Dummy cosine of solar zenith angle.\n",
    "        \n",
    "        # Run simulation.\n",
    "        sim_output = simulation(\n",
    "            t1, t2, t3, t4, t5, t6,\n",
    "            R_param, F_param,\n",
    "            delta_lambda, delta_sigma, E_s, cos_theta_s\n",
    "        )  # Expected shape: [B, 3620, H, W]\n",
    "        \n",
    "        # Prepare outputs dictionary for the loss.\n",
    "        outputs_dict = {\n",
    "            'reflectance': sim_output,  # [B, 3620, H, W]\n",
    "            'sif': torch.zeros(B, H, W, device=device)  # Dummy SIF of shape [B, H, W]\n",
    "        }\n",
    "        \n",
    "        # Compute loss.\n",
    "        total_loss, loss_dict = loss_fn(sim_output, target, outputs_dict, E_s, cos_theta_s)\n",
    "        \n",
    "        optimizer.zero_grad()\n",
    "        total_loss.backward()\n",
    "        optimizer.step()\n",
    "        \n",
    "        epoch_loss += total_loss.item() * B\n",
    "        num_samples += B\n",
    "        \n",
    "        # Update tqdm progress bar with current losses.\n",
    "        pbar.set_postfix({\n",
    "            \"loss\": total_loss.item(),\n",
    "            \"recon\": loss_dict['recon'].item(),\n",
    "            \"signal\": loss_dict['signal'].item(),\n",
    "            \"ndvi\": loss_dict['ndvi'].item(),\n",
    "            \"atm\": loss_dict['atm'].item()\n",
    "        })\n",
    "    avg_epoch_loss = epoch_loss / num_samples\n",
    "    tqdm.write(f\"Epoch {epoch+1}/{num_epochs} - Avg Loss: {avg_epoch_loss:.4f}\")\n"
   ]
  },
  {
   "cell_type": "code",
   "execution_count": 32,
   "metadata": {},
   "outputs": [
    {
     "data": {
      "text/plain": [
       "tensor([[[[21.1743, 31.0297, 31.6702, 21.6009, 14.5829],\n",
       "          [27.5794, 21.4330,  9.3060,  6.9462, 12.0458],\n",
       "          [30.9652, 25.2095, 16.1870, 24.0032, 21.7875],\n",
       "          [34.9073, 27.7118,  6.8875, 13.0000, 17.1390],\n",
       "          [21.0902, 18.2317, 12.2784, 32.9221, 20.6535]],\n",
       "\n",
       "         [[18.8350, 27.5896, 28.1637, 19.2150, 12.9594],\n",
       "          [24.5103, 19.0460,  8.2999,  6.1863, 10.7044],\n",
       "          [27.5246, 22.4230, 14.4291, 21.3467, 19.4029],\n",
       "          [31.0228, 24.6435,  6.1272, 11.5801, 15.2537],\n",
       "          [18.7504, 16.2006, 10.9387, 29.2957, 18.3957]],\n",
       "\n",
       "         [[20.9347, 30.6883, 31.3307, 21.3647, 14.4198],\n",
       "          [27.2699, 21.1943,  9.2079,  6.8713, 11.9143],\n",
       "          [30.6228, 24.9348, 16.0129, 23.7354, 21.5541],\n",
       "          [34.5216, 27.4042,  6.8117, 12.8625, 16.9533],\n",
       "          [20.8494, 18.0254, 12.1505, 32.5705, 20.4355]],\n",
       "\n",
       "         ...,\n",
       "\n",
       "         [[ 0.0000,  0.0000,  0.0000,  0.0000,  0.0000],\n",
       "          [ 0.0000,  0.0000,  0.0000,  0.0000,  0.0000],\n",
       "          [ 0.0000,  0.0000,  0.0000,  0.0000,  0.0000],\n",
       "          [ 0.0000,  0.0000,  0.0000,  0.0000,  0.0000],\n",
       "          [ 0.0000,  0.0000,  0.0000,  0.0000,  0.0000]],\n",
       "\n",
       "         [[ 0.0000,  0.6000,  0.0000,  0.6000,  0.6000],\n",
       "          [ 0.0000,  0.6000, 35.0000, 35.0000, 35.0000],\n",
       "          [ 0.6000,  0.0000,  0.6000,  0.6000,  0.6000],\n",
       "          [ 0.0000,  0.0000, 35.0000, 35.0000,  0.0000],\n",
       "          [ 0.0000,  0.0000, 35.0000,  0.0000,  0.6000]],\n",
       "\n",
       "         [[ 1.0000,  1.0000,  1.0000,  1.0000,  1.0000],\n",
       "          [ 1.0000,  1.0000,  1.0000,  1.0000,  1.0000],\n",
       "          [ 1.0000,  1.0000,  1.0000,  1.0000,  1.0000],\n",
       "          [ 1.0000,  1.0000,  1.0000,  1.0000,  1.0000],\n",
       "          [ 1.0000,  1.0000,  1.0000,  1.0000,  1.0000]]]], device='cuda:0')"
      ]
     },
     "execution_count": 32,
     "metadata": {},
     "output_type": "execute_result"
    }
   ],
   "source": [
    "sample = dataset[0].unsqueeze(0).to(device)\n",
    "sample"
   ]
  },
  {
   "cell_type": "code",
   "execution_count": null,
   "metadata": {},
   "outputs": [
    {
     "data": {
      "text/plain": [
       "torch.Size([1, 5, 5, 9, 3620])"
      ]
     },
     "execution_count": 13,
     "metadata": {},
     "output_type": "execute_result"
    }
   ],
   "source": [
    "# take a sample from the dataset\n",
    "sample = dataset[0].unsqueeze(0).to(device)\n",
    "encoder.eval()\n",
    "encoder_output = encoder(sample)\n",
    "encoder_output.shape\n",
    "sim_output = simulation(\n",
    "            t1, t2, t3, t4, t5, t6,\n",
    "            R_param, F_param,\n",
    "            delta_lambda, delta_sigma, E_s, cos_theta_s\n",
    "        )"
   ]
  },
  {
   "cell_type": "code",
   "execution_count": 16,
   "metadata": {},
   "outputs": [
    {
     "data": {
      "text/plain": [
       "torch.Size([3, 3620, 5, 5])"
      ]
     },
     "execution_count": 16,
     "metadata": {},
     "output_type": "execute_result"
    }
   ],
   "source": [
    "sim_output.shape"
   ]
  },
  {
   "cell_type": "code",
   "execution_count": 18,
   "metadata": {},
   "outputs": [
    {
     "data": {
      "text/plain": [
       "torch.Size([3, 5, 5, 3620])"
      ]
     },
     "execution_count": 18,
     "metadata": {},
     "output_type": "execute_result"
    }
   ],
   "source": [
    "# permutate back to [B, H, W, C]\n",
    "sim_output = sim_output.permute(0, 2, 3, 1)\n",
    "sim_output.shape"
   ]
  },
  {
   "cell_type": "code",
   "execution_count": 28,
   "metadata": {},
   "outputs": [],
   "source": [
    "# convert to numpy\n",
    "value = sim_output[0, 0, 0, :].detach().cpu().numpy()"
   ]
  },
  {
   "cell_type": "code",
   "execution_count": 30,
   "metadata": {},
   "outputs": [
    {
     "data": {
      "image/png": "[encoded data removed]",
      "text/plain": [
       "<Figure size 640x480 with 1 Axes>"
      ]
     },
     "metadata": {},
     "output_type": "display_data"
    }
   ],
   "source": [
    "import matplotlib.pyplot as plt\n",
    "\n",
    "plt.plot(value)\n",
    "plt.show()"
   ]
  },
  {
   "cell_type": "code",
   "execution_count": null,
   "metadata": {},
   "outputs": [],
   "source": []
  }
 ],
 "metadata": {
  "kernelspec": {
   "display_name": "matlab-env",
   "language": "python",
   "name": "python3"
  },
  "language_info": {
   "codemirror_mode": {
    "name": "ipython",
    "version": 3
   },
   "file_extension": ".py",
   "mimetype": "text/x-python",
   "name": "python",
   "nbconvert_exporter": "python",
   "pygments_lexer": "ipython3",
   "version": "3.11.11"
  }
 },
 "nbformat": 4,
 "nbformat_minor": 2
}
