{
 "cells": [
  {
   "cell_type": "code",
   "execution_count": 1,
   "metadata": {},
   "outputs": [
    {
     "name": "stderr",
     "output_type": "stream",
     "text": [
      "/home/omirako/.local/lib/python3.11/site-packages/torch/utils/_pytree.py:185: FutureWarning: optree is installed but the version is too old to support PyTorch Dynamo in C++ pytree. C++ pytree support is disabled. Please consider upgrading optree using `python3 -m pip install --upgrade 'optree>=0.13.0'`.\n",
      "  warnings.warn(\n"
     ]
    }
   ],
   "source": [
    "from dataset import SFMNNDataset\n",
    "from network import SFMNNEncoder\n",
    "from simulate import SFMNNSimulation\n",
    "from loss import SFMNNLoss\n",
    "import torch\n",
    "import torch.optim as optim\n",
    "from torch.utils.data import DataLoader\n",
    "from tqdm import tqdm\n",
    "import os\n",
    "import json\n",
    "from dotenv import load_dotenv\n",
    "import logging\n",
    "import numpy as np"
   ]
  },
  {
   "cell_type": "code",
   "execution_count": 2,
   "metadata": {},
   "outputs": [
    {
     "name": "stderr",
     "output_type": "stream",
     "text": [
      "2025-03-21 17:41:44,441 [INFO] Using 3620 wavelength channels.\n",
      "2025-03-21 17:41:44,443 [INFO] Found 1350 simulation JSON files.\n",
      "Loading JSON files:   0%|          | 0/1350 [00:00<?, ?it/s]"
     ]
    },
    {
     "name": "stderr",
     "output_type": "stream",
     "text": [
      "Loading JSON files: 100%|██████████| 1350/1350 [00:16<00:00, 84.10it/s]\n",
      "2025-03-21 17:42:00,873 [INFO] Fixed Esun computed as: 268.4315\n",
      "2025-03-21 17:42:00,955 [INFO] Total simulations loaded: 1350\n",
      "2025-03-21 17:42:00,955 [INFO] Total patches loaded: 60\n"
     ]
    }
   ],
   "source": [
    "load_dotenv()\n",
    "data_folder = os.getenv(\"DATA_FOLDER\")\n",
    "\n",
    "logging.basicConfig(level=logging.INFO,\n",
    "                    format=\"%(asctime)s [%(levelname)s] %(message)s\",\n",
    "                    handlers=[logging.StreamHandler()])\n",
    "logger = logging.getLogger(__name__)\n",
    "\n",
    "with open(data_folder + \"simulation_sim_0_amb_0.json\") as f:\n",
    "    data = json.load(f)\n",
    "with open(data_folder + \"simulation_lookuptable.json\") as f:\n",
    "    lookup = json.load(f)\n",
    "\n",
    "# Load the dataset\n",
    "dataset = SFMNNDataset(data_folder + 'simulation_lookuptable.json', 'output/', patch_size=5)\n",
    "\n",
    "# Load the dataloader\n",
    "dataloader = DataLoader(dataset, batch_size=3, shuffle=True, drop_last=False)\n"
   ]
  },
  {
   "cell_type": "code",
   "execution_count": 3,
   "metadata": {},
   "outputs": [
    {
     "name": "stdout",
     "output_type": "stream",
     "text": [
      "cuda\n"
     ]
    }
   ],
   "source": [
    "device = torch.device(\"cuda\" if torch.cuda.is_available() else \"cpu\")\n",
    "print(device)"
   ]
  },
  {
   "cell_type": "code",
   "execution_count": 4,
   "metadata": {},
   "outputs": [
    {
     "data": {
      "text/plain": [
       "3620"
      ]
     },
     "execution_count": 4,
     "metadata": {},
     "output_type": "execute_result"
    }
   ],
   "source": [
    "# Number of spectral bands\n",
    "n_spectral_bands = len(dataset.get_wl())\n",
    "n_spectral_bands"
   ]
  },
  {
   "cell_type": "code",
   "execution_count": 5,
   "metadata": {},
   "outputs": [
    {
     "data": {
      "text/plain": [
       "(5, 5, 3623)"
      ]
     },
     "execution_count": 5,
     "metadata": {},
     "output_type": "execute_result"
    }
   ],
   "source": [
    "C,H,W = dataset[0].shape\n",
    "H, W, C"
   ]
  },
  {
   "cell_type": "code",
   "execution_count": null,
   "metadata": {},
   "outputs": [
    {
     "name": "stdout",
     "output_type": "stream",
     "text": [
      "SFMNNEncoder(\n",
      "  (input_norm): BatchNorm1d(3623, eps=1e-05, momentum=0.1, affine=True, track_running_stats=True)\n",
      "  (fc_layers): Sequential(\n",
      "    (0): Linear(in_features=3623, out_features=4096, bias=True)\n",
      "    (1): BatchNorm1d(4096, eps=1e-05, momentum=0.1, affine=True, track_running_stats=True)\n",
      "    (2): ReLU()\n",
      "    (3): Dropout(p=0.1, inplace=False)\n",
      "    (4): Linear(in_features=4096, out_features=8192, bias=True)\n",
      "    (5): BatchNorm1d(8192, eps=1e-05, momentum=0.1, affine=True, track_running_stats=True)\n",
      "    (6): ReLU()\n",
      "    (7): Dropout(p=0.1, inplace=False)\n",
      "    (8): Linear(in_features=8192, out_features=16384, bias=True)\n",
      "    (9): BatchNorm1d(16384, eps=1e-05, momentum=0.1, affine=True, track_running_stats=True)\n",
      "    (10): ReLU()\n",
      "    (11): Linear(in_features=16384, out_features=16384, bias=True)\n",
      "    (12): BatchNorm1d(16384, eps=1e-05, momentum=0.1, affine=True, track_running_stats=True)\n",
      "    (13): ReLU()\n",
      "  )\n",
      "  (latent_proj): Linear(in_features=16384, out_features=32607, bias=True)\n",
      ")\n"
     ]
    }
   ],
   "source": [
    "# Initialize the network\n",
    "encoder = SFMNNEncoder(input_channels=C,num_variables = 9 ,latent_dim=C).to(device)\n",
    "\n",
    "print(encoder)"
   ]
  },
  {
   "cell_type": "code",
   "execution_count": 7,
   "metadata": {},
   "outputs": [],
   "source": [
    "optimizer = optim.Adam(encoder.parameters(), lr=0.001, weight_decay=0.0001)\n",
    "criterion = SFMNNLoss(torch.tensor(n_spectral_bands))"
   ]
  },
  {
   "cell_type": "code",
   "execution_count": 8,
   "metadata": {},
   "outputs": [
    {
     "name": "stdout",
     "output_type": "stream",
     "text": [
      "input: torch.Size([3, 3623, 5, 5])\n",
      "output: torch.Size([3, 5, 5, 9, 3623])\n",
      "input: torch.Size([3, 3623, 5, 5])\n",
      "output: torch.Size([3, 5, 5, 9, 3623])\n",
      "input: torch.Size([3, 3623, 5, 5])\n",
      "output: torch.Size([3, 5, 5, 9, 3623])\n",
      "input: torch.Size([3, 3623, 5, 5])\n",
      "output: torch.Size([3, 5, 5, 9, 3623])\n",
      "input: torch.Size([3, 3623, 5, 5])\n",
      "output: torch.Size([3, 5, 5, 9, 3623])\n",
      "input: torch.Size([3, 3623, 5, 5])\n",
      "output: torch.Size([3, 5, 5, 9, 3623])\n",
      "input: torch.Size([3, 3623, 5, 5])\n",
      "output: torch.Size([3, 5, 5, 9, 3623])\n",
      "input: torch.Size([3, 3623, 5, 5])\n",
      "output: torch.Size([3, 5, 5, 9, 3623])\n",
      "input: torch.Size([3, 3623, 5, 5])\n",
      "output: torch.Size([3, 5, 5, 9, 3623])\n",
      "input: torch.Size([3, 3623, 5, 5])\n",
      "output: torch.Size([3, 5, 5, 9, 3623])\n",
      "input: torch.Size([3, 3623, 5, 5])\n",
      "output: torch.Size([3, 5, 5, 9, 3623])\n",
      "input: torch.Size([3, 3623, 5, 5])\n",
      "output: torch.Size([3, 5, 5, 9, 3623])\n",
      "input: torch.Size([3, 3623, 5, 5])\n",
      "output: torch.Size([3, 5, 5, 9, 3623])\n",
      "input: torch.Size([3, 3623, 5, 5])\n",
      "output: torch.Size([3, 5, 5, 9, 3623])\n",
      "input: torch.Size([3, 3623, 5, 5])\n",
      "output: torch.Size([3, 5, 5, 9, 3623])\n",
      "input: torch.Size([3, 3623, 5, 5])\n",
      "output: torch.Size([3, 5, 5, 9, 3623])\n",
      "input: torch.Size([3, 3623, 5, 5])\n",
      "output: torch.Size([3, 5, 5, 9, 3623])\n",
      "input: torch.Size([3, 3623, 5, 5])\n",
      "output: torch.Size([3, 5, 5, 9, 3623])\n",
      "input: torch.Size([3, 3623, 5, 5])\n",
      "output: torch.Size([3, 5, 5, 9, 3623])\n",
      "input: torch.Size([3, 3623, 5, 5])\n",
      "output: torch.Size([3, 5, 5, 9, 3623])\n"
     ]
    }
   ],
   "source": [
    "# test the network\n",
    "for i, data in enumerate(dataloader):\n",
    "    data = data.to(device)\n",
    "    print('input:', data.shape)\n",
    "    out = encoder(data)\n",
    "    print('output:', out.shape)"
   ]
  },
  {
   "cell_type": "code",
   "execution_count": 9,
   "metadata": {},
   "outputs": [
    {
     "data": {
      "text/plain": [
       "torch.Size([3620])"
      ]
     },
     "execution_count": 9,
     "metadata": {},
     "output_type": "execute_result"
    }
   ],
   "source": [
    "torch.tensor(dataset.get_wl()).shape"
   ]
  },
  {
   "cell_type": "code",
   "execution_count": 17,
   "metadata": {},
   "outputs": [],
   "source": [
    "import torch\n",
    "import torch.nn as nn\n",
    "import torch.nn.functional as F_func\n",
    "\n",
    "class FourStreamSimulator(nn.Module):\n",
    "    def __init__(self, spectral_window=(750, 770), high_res=0.0055):\n",
    "        super().__init__()\n",
    "        self.register_buffer('lambda_hr', torch.arange(*spectral_window, high_res))\n",
    "        self.mu_f = 737.0  # Fluorescence peak wavelength\n",
    "\n",
    "    def forward(self, t1, t2, t3, t4, t5, t6, R, F, E_s, cos_theta_s):\n",
    "        # Compute product terms.\n",
    "        t7 = t3 * t4\n",
    "        t8 = t3 * t6\n",
    "        t9 = t4 * t5\n",
    "        t10 = t4 * t2\n",
    "        t11 = t3 * t2\n",
    "        # Simulation equation.\n",
    "        LTOA = t1 * t2 + (t1 * t8 * R + t9 * R + t10 * R + t11 * R + t6 * F + t7 * F) / (1 - t3 * R)\n",
    "        # Ensure cos_theta_s has shape [B, 1, H, W]\n",
    "        if cos_theta_s.dim() == 3:\n",
    "            cos_theta_s = cos_theta_s.unsqueeze(1)\n",
    "        mod_factor = (E_s * cos_theta_s) / np.pi\n",
    "        LTOA_mod = LTOA * mod_factor\n",
    "        logger.debug(f\"FourStreamSimulator: mod_factor min {mod_factor.min().item():.4f}, max {mod_factor.max().item():.4f}\")\n",
    "        return LTOA_mod\n",
    "\n",
    "import torch\n",
    "import torch.nn as nn\n",
    "import torch.nn.functional as F_func\n",
    "\n",
    "class HyPlantSensorSimulator(nn.Module):\n",
    "    def __init__(self, sensor_wavelengths, high_res=0.0055):\n",
    "        super().__init__()\n",
    "        self.register_buffer('sensor_wavelengths', sensor_wavelengths)\n",
    "        self.high_res = high_res\n",
    "        self.register_buffer('wl_range', torch.tensor([\n",
    "            sensor_wavelengths.min(),\n",
    "            sensor_wavelengths.max()\n",
    "        ]))\n",
    "\n",
    "    def forward(self, L_hr, delta_lambda, delta_sigma):\n",
    "        # L_hr: [B, C_hr, H, W]\n",
    "        B, C_hr, H, W = L_hr.shape\n",
    "        \n",
    "        #######################\n",
    "        # 1) Gaussian Blur\n",
    "        #######################\n",
    "        sigma = (0.27 + delta_sigma) * 2.3548  # FWHM -> std\n",
    "        kernel_size = max(3, int(6 * sigma / self.high_res))\n",
    "        x = torch.linspace(-3*sigma, 3*sigma, kernel_size, device=L_hr.device)\n",
    "        kernel = torch.exp(-0.5 * (x / sigma) ** 2)\n",
    "        kernel /= kernel.sum()\n",
    "\n",
    "        # shape: [B*H*W, 1, C_hr]\n",
    "        L_hr_reshaped = L_hr.permute(0, 2, 3, 1).reshape(B*H*W, 1, C_hr)\n",
    "        L_blur = F_func.conv1d(L_hr_reshaped, kernel.view(1, 1, -1),\n",
    "                               padding=kernel_size // 2)\n",
    "        new_C_hr = L_blur.shape[-1]\n",
    "        # reshape to [B, H, W, new_C_hr] -> [B, new_C_hr, H, W]\n",
    "        L_blur = L_blur.view(B, H, W, new_C_hr).permute(0, 3, 1, 2)\n",
    "\n",
    "        # --- Debug: see if L_blur is constant across channel dimension\n",
    "        if B == 1:\n",
    "            print(\"L_blur (per batch) min/max:\",\n",
    "                  L_blur.min().item(), L_blur.max().item())\n",
    "            # Also check std along channel dimension:\n",
    "            std_channels = L_blur.std(dim=1)  # shape [B, H, W]\n",
    "            print(\"Mean channel-std:\", std_channels.mean().item())\n",
    "\n",
    "        #######################\n",
    "        # 2) Wavelength Shifts\n",
    "        #######################\n",
    "        # Delta-lambda average for each batch item\n",
    "        avg_delta = delta_lambda.mean(dim=(1,2)).view(B, 1)  # shape [B, 1]\n",
    "        \n",
    "        # shift sensor wavelengths by avg_delta: shape [B, #_sensor_bands]\n",
    "        shifted_wl = self.sensor_wavelengths.unsqueeze(0) + avg_delta\n",
    "        # normalize to [-1,1]\n",
    "        wl_min, wl_max = self.wl_range[0].item(), self.wl_range[1].item()\n",
    "        normalized_wl = 2 * (shifted_wl - wl_min) / (wl_max - wl_min) - 1\n",
    "        \n",
    "        # --- Debug: check that normalized_wl is not all the same or out of bounds\n",
    "        if B == 1:\n",
    "            print(\"normalized_wl min/max:\",\n",
    "                  normalized_wl.min().item(), normalized_wl.max().item())\n",
    "\n",
    "        #######################\n",
    "        # 3) grid_sample setup\n",
    "        #######################\n",
    "        # L_blur shape is [B, new_C_hr, H, W], interpret new_C_hr as \"height\"\n",
    "        # reshape to [B*H*W, 1, new_C_hr, 1]\n",
    "        L_blur_2d = L_blur.permute(0, 2, 3, 1).reshape(\n",
    "            B*H*W, 1, new_C_hr, 1\n",
    "        )\n",
    "\n",
    "        # Make grid: shape [N, out_H, out_W, 2]\n",
    "        num_sensor = self.sensor_wavelengths.shape[0]  # e.g. 172\n",
    "\n",
    "        # Expand normalized_wl from [B, num_sensor] to [B, H*W, num_sensor]\n",
    "        normalized_wl_expanded = normalized_wl.unsqueeze(1).expand(\n",
    "            B, H*W, num_sensor\n",
    "        )\n",
    "        # Reshape to [B*H*W, 1, num_sensor]\n",
    "        normalized_wl_expanded = normalized_wl_expanded.reshape(\n",
    "            B*H*W, 1, num_sensor\n",
    "        )\n",
    "\n",
    "        grid_y = normalized_wl_expanded  # treat as \"height\" coords in [-1,1]\n",
    "        grid_x = torch.zeros_like(grid_y) # x=0\n",
    "        grid = torch.stack((grid_y, grid_x), dim=-1)  # [B*H*W, 1, num_sensor, 2]\n",
    "\n",
    "        # --- Debug\n",
    "        if B == 1:\n",
    "            print(\"grid y-range: [\", grid_y.min().item(), \",\",\n",
    "                  grid_y.max().item(), \"]\")\n",
    "\n",
    "        #######################\n",
    "        # 4) grid_sample\n",
    "        #######################\n",
    "        L_sampled = F_func.grid_sample(\n",
    "            L_blur_2d, grid, mode='bilinear', align_corners=True\n",
    "        )\n",
    "        # L_sampled shape: [B*H*W, 1, 1, num_sensor]\n",
    "        L_sampled = L_sampled.view(B, H, W, num_sensor).permute(0, 3, 1, 2)\n",
    "\n",
    "        # Debug final shape\n",
    "        if B == 1:\n",
    "            print(\"L_sampled shape:\", L_sampled.shape,\n",
    "                  \"  min/max:\", L_sampled.min().item(), L_sampled.max().item())\n",
    "\n",
    "        return L_sampled\n",
    "\n",
    "\n",
    "class SFMNNSimulation(nn.Module):\n",
    "    def __init__(self, sensor_wavelengths):\n",
    "        super().__init__()\n",
    "        self.four_stream = FourStreamSimulator()\n",
    "        self.sensor_sim = HyPlantSensorSimulator(sensor_wavelengths)\n",
    "\n",
    "    def forward(self, t1, t2, t3, t4, t5, t6, R, F, delta_lambda, delta_sigma, E_s, cos_theta_s):\n",
    "        L_hr = self.four_stream(t1, t2, t3, t4, t5, t6, R, F, E_s, cos_theta_s)\n",
    "        L_hyp = self.sensor_sim(L_hr, delta_lambda, delta_sigma)\n",
    "        return L_hyp"
   ]
  },
  {
   "cell_type": "code",
   "execution_count": 18,
   "metadata": {},
   "outputs": [],
   "source": [
    "class SFMNNLoss(nn.Module):\n",
    "    def __init__(self, gamma_f=5, gamma_N=10, gamma_a=1, ndvi_threshold=0.15, red_idx=680, nir_idx=800):\n",
    "        super().__init__()\n",
    "        self.gamma_f = gamma_f\n",
    "        self.gamma_N = gamma_N\n",
    "        self.gamma_a = gamma_a\n",
    "        self.ndvi_threshold = ndvi_threshold\n",
    "        self.red_idx = red_idx\n",
    "        self.nir_idx = nir_idx\n",
    "\n",
    "    def forward(self, pred, target, outputs, E_s, cos_theta_s, loss_indices):\n",
    "        # pred and target are already windowed (shape: [B, window_size, H, W])\n",
    "        recon_loss = torch.mean((pred - target) ** 2)\n",
    "        \n",
    "        # NDVI loss computed from full reflectance (not windowed)\n",
    "        red = outputs['reflectance'][:, self.red_idx]\n",
    "        nir = outputs['reflectance'][:, self.nir_idx]\n",
    "        ndvi = (nir - red) / (nir + red + 1e-6)\n",
    "        ndvi_loss = torch.mean(outputs['sif'] * ((ndvi <= self.ndvi_threshold).float()))\n",
    "        \n",
    "        w_f = self.compute_w_f(target, outputs['sif'])\n",
    "        signal_loss = torch.mean((pred - target) ** 2 * w_f.view(1, -1, 1, 1))\n",
    "        \n",
    "        # Extract window from reflectance and E_s\n",
    "        R_window = outputs['reflectance'][:, loss_indices, :, :]\n",
    "        R_mean = R_window.mean(dim=(2,3), keepdim=True)\n",
    "        L_atm_R = pred - outputs['sif'].unsqueeze(1)\n",
    "        B = E_s.size(0)\n",
    "        E_s_const = E_s.mean(dim=(2,3), keepdim=True)  # [B, n_spectral_bands, 1, 1]\n",
    "        E_s_window = E_s_const[:, loss_indices, :, :]\n",
    "        cos_theta_s_const = cos_theta_s.mean(dim=(1,2), keepdim=True).view(B, 1, 1, 1)\n",
    "        denom = E_s_window * cos_theta_s_const + 1e-6\n",
    "        t_tot = (L_atm_R * R_mean) / denom\n",
    "        atm_loss = torch.mean(torch.relu(t_tot - 1))\n",
    "        \n",
    "        total_loss = recon_loss  # regularizers not added for now\n",
    "        \n",
    "        loss_dict = {\n",
    "            'total': total_loss,\n",
    "            'recon': recon_loss,\n",
    "            'signal': signal_loss,\n",
    "            'ndvi': ndvi_loss,\n",
    "            'atm': atm_loss\n",
    "        }\n",
    "        return total_loss, loss_dict\n",
    "\n",
    "    def compute_w_f(self, L_HyP, sif_pred, epsilon=1e-6):\n",
    "        f_sq = sif_pred.unsqueeze(1) ** 2\n",
    "        sum_f_sq = torch.mean(f_sq, dim=(0, 2, 3))\n",
    "        sigma_L2 = torch.var(L_HyP, dim=(0, 2, 3), unbiased=False)\n",
    "        numerator = sum_f_sq\n",
    "        denominator = sum_f_sq / (sigma_L2 + epsilon)\n",
    "        w_f = (1.0 / (sigma_L2 + epsilon)) * (numerator / (denominator.sum() + epsilon))\n",
    "        return w_f"
   ]
  },
  {
   "cell_type": "code",
   "execution_count": 23,
   "metadata": {},
   "outputs": [
    {
     "name": "stderr",
     "output_type": "stream",
     "text": [
      "2025-03-21 17:50:18,592 [INFO] Using device: cuda\n",
      "2025-03-21 17:50:18,592 [INFO] Spectral channels: 3620, total input channels: 3623\n",
      "2025-03-21 17:50:18,593 [INFO] Using fixed Esun: 268.4315\n",
      "2025-03-21 17:50:18,594 [INFO] Loss calculated over indices: [2227, 2228, 2229, 2230, 2231, 2232, 2233, 2234, 2235, 2236, 2237, 2238, 2239, 2240, 2241, 2242, 2243, 2244, 2245, 2246, 2247, 2248, 2249, 2250, 2251, 2252, 2253, 2254, 2255, 2256, 2257, 2258, 2259, 2260, 2261, 2262, 2263, 2264, 2265, 2266, 2267, 2268, 2269, 2270, 2271, 2272, 2273, 2274, 2275, 2276, 2277, 2278, 2279, 2280, 2281, 2282, 2283, 2284, 2285, 2286, 2287, 2288, 2289, 2290, 2291, 2292, 2293, 2294, 2295, 2296, 2297, 2298, 2299, 2300, 2301, 2302, 2303, 2304, 2305, 2306, 2307, 2308, 2309, 2310, 2311, 2312, 2313, 2314, 2315, 2316, 2317, 2318, 2319, 2320, 2321, 2322, 2323, 2324, 2325, 2326, 2327, 2328, 2329, 2330, 2331, 2332, 2333, 2334, 2335, 2336, 2337, 2338, 2339, 2340, 2341, 2342, 2343, 2344, 2345, 2346, 2347, 2348, 2349, 2350, 2351, 2352, 2353, 2354, 2355, 2356, 2357, 2358, 2359, 2360, 2361, 2362, 2363, 2364, 2365, 2366, 2367, 2368, 2369, 2370, 2371, 2372, 2373, 2374, 2375, 2376, 2377, 2378, 2379, 2380, 2381, 2382, 2383, 2384, 2385, 2386, 2387, 2388, 2389, 2390, 2391, 2392, 2393, 2394, 2395, 2396, 2397, 2398, 2399, 2400, 2401, 2402, 2403, 2404, 2405, 2406, 2407, 2408, 2409, 2410, 2411, 2412, 2413, 2414, 2415, 2416, 2417, 2418, 2419, 2420, 2421, 2422, 2423, 2424, 2425, 2426, 2427, 2428, 2429, 2430, 2431, 2432, 2433, 2434, 2435, 2436, 2437, 2438, 2439, 2440, 2441, 2442, 2443, 2444, 2445, 2446, 2447, 2448, 2449, 2450, 2451, 2452, 2453, 2454, 2455, 2456, 2457, 2458, 2459, 2460, 2461, 2462, 2463, 2464, 2465, 2466, 2467, 2468, 2469, 2470, 2471, 2472, 2473, 2474, 2475, 2476, 2477, 2478, 2479, 2480, 2481, 2482, 2483, 2484, 2485, 2486, 2487, 2488, 2489, 2490, 2491, 2492, 2493, 2494, 2495, 2496, 2497, 2498, 2499, 2500, 2501, 2502, 2503, 2504, 2505, 2506, 2507, 2508, 2509, 2510, 2511, 2512, 2513, 2514, 2515, 2516, 2517, 2518, 2519, 2520, 2521, 2522, 2523, 2524, 2525, 2526, 2527, 2528, 2529, 2530, 2531, 2532, 2533, 2534, 2535, 2536, 2537, 2538, 2539, 2540, 2541, 2542, 2543, 2544, 2545, 2546, 2547, 2548, 2549, 2550, 2551, 2552, 2553, 2554, 2555, 2556, 2557, 2558, 2559, 2560, 2561, 2562, 2563], corresponding to 760.1-780.0 nm.\n",
      "                                                                                                                                   \r"
     ]
    },
    {
     "name": "stdout",
     "output_type": "stream",
     "text": [
      "Epoch 1/30 - Avg Loss: 4263192.4020\n"
     ]
    },
    {
     "name": "stderr",
     "output_type": "stream",
     "text": [
      "                                                                                                                                   \r"
     ]
    },
    {
     "name": "stdout",
     "output_type": "stream",
     "text": [
      "Epoch 2/30 - Avg Loss: 164417838.1523\n"
     ]
    },
    {
     "name": "stderr",
     "output_type": "stream",
     "text": [
      "                                                                                                                                   \r"
     ]
    },
    {
     "name": "stdout",
     "output_type": "stream",
     "text": [
      "Epoch 3/30 - Avg Loss: 2254568.7553\n"
     ]
    },
    {
     "name": "stderr",
     "output_type": "stream",
     "text": [
      "                                                                                                                                   \r"
     ]
    },
    {
     "name": "stdout",
     "output_type": "stream",
     "text": [
      "Epoch 4/30 - Avg Loss: 14452331.8318\n"
     ]
    },
    {
     "name": "stderr",
     "output_type": "stream",
     "text": [
      "                                                                                                                                \r"
     ]
    },
    {
     "name": "stdout",
     "output_type": "stream",
     "text": [
      "Epoch 5/30 - Avg Loss: 332317.0939\n"
     ]
    },
    {
     "name": "stderr",
     "output_type": "stream",
     "text": [
      "                                                                                                                                   \r"
     ]
    },
    {
     "name": "stdout",
     "output_type": "stream",
     "text": [
      "Epoch 6/30 - Avg Loss: 7452364.1333\n"
     ]
    },
    {
     "name": "stderr",
     "output_type": "stream",
     "text": [
      "                                                                                                                               \r"
     ]
    },
    {
     "name": "stdout",
     "output_type": "stream",
     "text": [
      "Epoch 7/30 - Avg Loss: 153267.6890\n"
     ]
    },
    {
     "name": "stderr",
     "output_type": "stream",
     "text": [
      "                                                                                                                                  \r"
     ]
    },
    {
     "name": "stdout",
     "output_type": "stream",
     "text": [
      "Epoch 8/30 - Avg Loss: 15888609.9002\n"
     ]
    },
    {
     "name": "stderr",
     "output_type": "stream",
     "text": [
      "                                                                                                                               \r"
     ]
    },
    {
     "name": "stdout",
     "output_type": "stream",
     "text": [
      "Epoch 9/30 - Avg Loss: 467755.2374\n"
     ]
    },
    {
     "name": "stderr",
     "output_type": "stream",
     "text": [
      "                                                                                                                               \r"
     ]
    },
    {
     "name": "stdout",
     "output_type": "stream",
     "text": [
      "Epoch 10/30 - Avg Loss: 256295.8321\n"
     ]
    },
    {
     "name": "stderr",
     "output_type": "stream",
     "text": [
      "                                                                                                                                \r"
     ]
    },
    {
     "name": "stdout",
     "output_type": "stream",
     "text": [
      "Epoch 11/30 - Avg Loss: 93611.8876\n"
     ]
    },
    {
     "name": "stderr",
     "output_type": "stream",
     "text": [
      "                                                                                                                                \r"
     ]
    },
    {
     "name": "stdout",
     "output_type": "stream",
     "text": [
      "Epoch 12/30 - Avg Loss: 79546.1223\n"
     ]
    },
    {
     "name": "stderr",
     "output_type": "stream",
     "text": [
      "                                                                                                                                \r"
     ]
    },
    {
     "name": "stdout",
     "output_type": "stream",
     "text": [
      "Epoch 13/30 - Avg Loss: 92048.0127\n"
     ]
    },
    {
     "name": "stderr",
     "output_type": "stream",
     "text": [
      "                                                                                                                              \r"
     ]
    },
    {
     "name": "stdout",
     "output_type": "stream",
     "text": [
      "Epoch 14/30 - Avg Loss: 38077.2171\n"
     ]
    },
    {
     "name": "stderr",
     "output_type": "stream",
     "text": [
      "                                                                                                                                   \r"
     ]
    },
    {
     "name": "stdout",
     "output_type": "stream",
     "text": [
      "Epoch 15/30 - Avg Loss: 16343618.4912\n"
     ]
    },
    {
     "name": "stderr",
     "output_type": "stream",
     "text": [
      "                                                                                                                                 \r"
     ]
    },
    {
     "name": "stdout",
     "output_type": "stream",
     "text": [
      "Epoch 16/30 - Avg Loss: 184748.0367\n"
     ]
    },
    {
     "name": "stderr",
     "output_type": "stream",
     "text": [
      "                                                                                                                                \r"
     ]
    },
    {
     "name": "stdout",
     "output_type": "stream",
     "text": [
      "Epoch 17/30 - Avg Loss: 583105.2833\n"
     ]
    },
    {
     "name": "stderr",
     "output_type": "stream",
     "text": [
      "                                                                                                                                   \r"
     ]
    },
    {
     "name": "stdout",
     "output_type": "stream",
     "text": [
      "Epoch 18/30 - Avg Loss: 1044554.3864\n"
     ]
    },
    {
     "name": "stderr",
     "output_type": "stream",
     "text": [
      "                                                                                                                                    \r"
     ]
    },
    {
     "name": "stdout",
     "output_type": "stream",
     "text": [
      "Epoch 19/30 - Avg Loss: 574351.7322\n"
     ]
    },
    {
     "name": "stderr",
     "output_type": "stream",
     "text": [
      "                                                                                                                                    \r"
     ]
    },
    {
     "name": "stdout",
     "output_type": "stream",
     "text": [
      "Epoch 20/30 - Avg Loss: 12289098.3717\n"
     ]
    },
    {
     "name": "stderr",
     "output_type": "stream",
     "text": [
      "                                                                                                                                     \r"
     ]
    },
    {
     "name": "stdout",
     "output_type": "stream",
     "text": [
      "Epoch 21/30 - Avg Loss: 219976787.2022\n"
     ]
    },
    {
     "name": "stderr",
     "output_type": "stream",
     "text": [
      "                                                                                                                                    \r"
     ]
    },
    {
     "name": "stdout",
     "output_type": "stream",
     "text": [
      "Epoch 22/30 - Avg Loss: 26879667.6625\n"
     ]
    },
    {
     "name": "stderr",
     "output_type": "stream",
     "text": [
      "                                                                                                                                \r"
     ]
    },
    {
     "name": "stdout",
     "output_type": "stream",
     "text": [
      "Epoch 23/30 - Avg Loss: 204871.3800\n"
     ]
    },
    {
     "name": "stderr",
     "output_type": "stream",
     "text": [
      "                                                                                                                                    \r"
     ]
    },
    {
     "name": "stdout",
     "output_type": "stream",
     "text": [
      "Epoch 24/30 - Avg Loss: 5175601.8417\n"
     ]
    },
    {
     "name": "stderr",
     "output_type": "stream",
     "text": [
      "                                                                                                                               \r"
     ]
    },
    {
     "name": "stdout",
     "output_type": "stream",
     "text": [
      "Epoch 25/30 - Avg Loss: 307976.5877\n"
     ]
    },
    {
     "name": "stderr",
     "output_type": "stream",
     "text": [
      "                                                                                                                                    \r"
     ]
    },
    {
     "name": "stdout",
     "output_type": "stream",
     "text": [
      "Epoch 26/30 - Avg Loss: 17021473.8237\n"
     ]
    },
    {
     "name": "stderr",
     "output_type": "stream",
     "text": [
      "                                                                                                                                   \r"
     ]
    },
    {
     "name": "stdout",
     "output_type": "stream",
     "text": [
      "Epoch 27/30 - Avg Loss: 815097.2580\n"
     ]
    },
    {
     "name": "stderr",
     "output_type": "stream",
     "text": [
      "                                                                                                                                \r"
     ]
    },
    {
     "name": "stdout",
     "output_type": "stream",
     "text": [
      "Epoch 28/30 - Avg Loss: 116065.2447\n"
     ]
    },
    {
     "name": "stderr",
     "output_type": "stream",
     "text": [
      "                                                                                                                                \r"
     ]
    },
    {
     "name": "stdout",
     "output_type": "stream",
     "text": [
      "Epoch 29/30 - Avg Loss: 445759.0327\n"
     ]
    },
    {
     "name": "stderr",
     "output_type": "stream",
     "text": [
      "                                                                                                                              "
     ]
    },
    {
     "name": "stdout",
     "output_type": "stream",
     "text": [
      "Epoch 30/30 - Avg Loss: 53707.2610\n"
     ]
    },
    {
     "name": "stderr",
     "output_type": "stream",
     "text": [
      "\r"
     ]
    }
   ],
   "source": [
    "import numpy as np\n",
    "\n",
    "def train_model(encoder):\n",
    "    from dotenv import load_dotenv\n",
    "    load_dotenv()\n",
    "    data_folder = os.getenv(\"DATA_FOLDER\")\n",
    "    lookup_table_path = os.path.join(data_folder, 'simulation_lookuptable.json')\n",
    "    #dataset = SFMNNDataset(lookup_table_path, data_folder, patch_size=5)\n",
    "    #dataloader = DataLoader(dataset, batch_size=3, shuffle=True, drop_last=False)\n",
    "\n",
    "    device = torch.device(\"cuda\" if torch.cuda.is_available() else \"cpu\")\n",
    "    logger.info(f\"Using device: {device}\")\n",
    "\n",
    "    n_spectral_bands = len(dataset.get_wl())\n",
    "    # Input channels: n_spectral_bands + 3\n",
    "    C = n_spectral_bands + 3\n",
    "    logger.info(f\"Spectral channels: {n_spectral_bands}, total input channels: {C}\")\n",
    "\n",
    "    optimizer = optim.Adam(encoder.parameters(), lr=1e-4)\n",
    "    # Pass the loss indices later.\n",
    "    loss_fn = SFMNNLoss(red_idx=680, nir_idx=800).to(device)\n",
    "\n",
    "    sensor_wl = torch.tensor(dataset.get_wl(), dtype=torch.float, device=device)\n",
    "    simulation = SFMNNSimulation(sensor_wl).to(device)\n",
    "\n",
    "    fixed_esun = dataset.fixed_esun\n",
    "    logger.info(f\"Using fixed Esun: {fixed_esun:.4f}\")\n",
    "\n",
    "    num_epochs = 30\n",
    "    # Define spectral window indices for loss: e.g., wavelengths between 760 and 780 nm.\n",
    "    indices = ((sensor_wl >= 760.0) & (sensor_wl <= 780.0)).nonzero(as_tuple=True)[0]\n",
    "    logger.info(f\"Loss calculated over indices: {indices.tolist()}, corresponding to {sensor_wl[indices[0]].item():.1f}-{sensor_wl[indices[-1]].item():.1f} nm.\")\n",
    "\n",
    "    for epoch in range(num_epochs):\n",
    "        encoder.train()\n",
    "        epoch_loss = 0.0\n",
    "        num_samples = 0\n",
    "        pbar = tqdm(dataloader, desc=f\"Epoch {epoch+1}/{num_epochs}\", leave=False)\n",
    "        for batch in pbar:\n",
    "            # batch: [B, 3623, H, W]\n",
    "            batch = batch.to(device)\n",
    "            B, _, H, W = batch.shape\n",
    "            \n",
    "            n_spectral_bands = len(dataset.get_wl())  # should be 3620\n",
    "\n",
    "            # Extract target reflectance: first n_spectral_bands channels.\n",
    "            target_full = batch[:, :n_spectral_bands, :, :]\n",
    "            target = target_full[:, indices, :, :]\n",
    "\n",
    "            # Extra channels: channel order: 0..n_spectral_bands-1: LTOA, n_spectral_bands: XTE, n_spectral_bands+1: SZA, n_spectral_bands+2: GNDALT.\n",
    "            sza = batch[:, n_spectral_bands+1, :, :]\n",
    "            E_s = fixed_esun * torch.ones(B, n_spectral_bands, H, W, device=device)\n",
    "            cos_theta_s = torch.cos(sza * np.pi / 180.0)\n",
    "\n",
    "            latent = encoder(batch)  # Expected shape: [B, H, W, 9, latent_dim]\n",
    "            # Force latent to only have the first n_spectral_bands channels\n",
    "            latent = latent[:, :, :, :, :n_spectral_bands]\n",
    "\n",
    "            t1 = latent[:, :, :, 0, :].permute(0, 3, 1, 2)  # Now shape [B, 3620, H, W]\n",
    "            t2 = latent[:, :, :, 1, :].permute(0, 3, 1, 2)\n",
    "            t3 = latent[:, :, :, 2, :].permute(0, 3, 1, 2)\n",
    "            t4 = latent[:, :, :, 3, :].permute(0, 3, 1, 2)\n",
    "            t5 = latent[:, :, :, 4, :].permute(0, 3, 1, 2)\n",
    "            t6 = latent[:, :, :, 5, :].permute(0, 3, 1, 2)\n",
    "            R_param = latent[:, :, :, 6, :].permute(0, 3, 1, 2)\n",
    "            F_param = latent[:, :, :, 7, :].permute(0, 3, 1, 2)\n",
    "            delta_lambda_enc = latent[:, :, :, 8, :].permute(0, 3, 1, 2)\n",
    "            delta_lambda = delta_lambda_enc.mean(dim=1)  # [B, H, W]\n",
    "\n",
    "            # Use a realistic delta_sigma (set to 0.0 here to preserve spectral resolution).\n",
    "            sim_output_full = simulation(t1, t2, t3, t4, t5, t6, R_param, F_param,\n",
    "                                          delta_lambda, torch.tensor(0.0, device=device),\n",
    "                                          E_s, cos_theta_s)\n",
    "            # sim_output_full: [B, 3620, H, W]\n",
    "            pred = sim_output_full[:, indices, :, :]\n",
    "\n",
    "            # Predicted SIF from F_param.\n",
    "            predicted_sif = F_param.mean(dim=1)  # [B, H, W]\n",
    "            outputs_dict = {\n",
    "                'reflectance': sim_output_full,\n",
    "                'sif': predicted_sif\n",
    "            }\n",
    "\n",
    "            total_loss, loss_dict = loss_fn(pred, target, outputs_dict, E_s, cos_theta_s, indices)\n",
    "            optimizer.zero_grad()\n",
    "            total_loss.backward()\n",
    "            optimizer.step()\n",
    "\n",
    "            epoch_loss += total_loss.item() * B\n",
    "            num_samples += B\n",
    "\n",
    "            pbar.set_postfix({\n",
    "                \"loss\": total_loss.item(),\n",
    "                \"recon\": loss_dict['recon'].item(),\n",
    "                \"signal\": loss_dict['signal'].item(),\n",
    "                \"ndvi\": loss_dict['ndvi'].item(),\n",
    "                \"atm\": loss_dict['atm'].item()\n",
    "            })\n",
    "        avg_epoch_loss = epoch_loss / num_samples\n",
    "        tqdm.write(f\"Epoch {epoch+1}/{num_epochs} - Avg Loss: {avg_epoch_loss:.4f}\")\n",
    "        \n",
    "    return encoder\n",
    "\n",
    "if __name__ == \"__main__\":\n",
    "    encoder = train_model(encoder)"
   ]
  },
  {
   "cell_type": "code",
   "execution_count": 20,
   "metadata": {},
   "outputs": [
    {
     "data": {
      "text/plain": [
       "tensor([[[[ 5.4591, 10.5580,  6.0325, 31.8378,  7.5234],\n",
       "          [ 8.5876, 10.6005,  5.8855, 13.0000,  5.4552],\n",
       "          [ 4.0683, 12.8006, 12.7294, 23.9573,  4.8054],\n",
       "          [ 6.9462,  4.3470,  6.7002, 21.1743, 12.7579],\n",
       "          [ 4.5508, 32.5957, 21.0902, 17.3496,  7.5539]],\n",
       "\n",
       "         [[ 4.8513,  9.3802,  5.3862, 28.3325,  6.6825],\n",
       "          [ 7.6612,  9.4229,  5.2383, 11.5801,  4.8560],\n",
       "          [ 3.6427, 11.3793, 11.3077, 21.3023,  4.2980],\n",
       "          [ 6.1863,  3.8734,  5.9525, 18.8350, 11.3363],\n",
       "          [ 4.0417, 28.9670, 18.7504, 15.4657,  6.7132]],\n",
       "\n",
       "         [[ 5.3975, 10.4364,  5.9722, 31.5008,  7.4368],\n",
       "          [ 8.4989, 10.4794,  5.8230, 12.8625,  5.3982],\n",
       "          [ 4.0297, 12.6602, 12.5879, 23.6975,  4.7582],\n",
       "          [ 6.8713,  4.3008,  6.6254, 20.9347, 12.6168],\n",
       "          [ 4.4998, 32.2392, 20.8494, 17.1670,  7.4677]],\n",
       "\n",
       "         ...,\n",
       "\n",
       "         [[ 0.0000,  0.0000,  0.0000,  0.0000,  0.0000],\n",
       "          [ 0.0000,  0.0000,  0.0000,  0.0000,  0.0000],\n",
       "          [ 0.0000,  0.0000,  0.0000,  0.0000,  0.0000],\n",
       "          [ 0.0000,  0.0000,  0.0000,  0.0000,  0.0000],\n",
       "          [ 0.0000,  0.0000,  0.0000,  0.0000,  0.0000]],\n",
       "\n",
       "         [[60.0000, 35.0000, 60.0000,  0.0000, 35.0000],\n",
       "          [35.0000, 35.0000, 60.0000, 35.0000, 60.0000],\n",
       "          [60.0000, 35.0000, 35.0000,  0.0000, 60.0000],\n",
       "          [35.0000, 60.0000, 60.0000,  0.0000, 35.0000],\n",
       "          [60.0000,  0.0000,  0.0000,  0.0000, 35.0000]],\n",
       "\n",
       "         [[ 1.0000,  1.0000,  1.0000,  1.0000,  1.0000],\n",
       "          [ 1.0000,  1.0000,  1.0000,  1.0000,  1.0000],\n",
       "          [ 1.0000,  1.0000,  1.0000,  1.0000,  1.0000],\n",
       "          [ 1.0000,  1.0000,  1.0000,  1.0000,  1.0000],\n",
       "          [ 1.0000,  1.0000,  1.0000,  1.0000,  1.0000]]]], device='cuda:0')"
      ]
     },
     "execution_count": 20,
     "metadata": {},
     "output_type": "execute_result"
    }
   ],
   "source": [
    "sample = dataset[0].unsqueeze(0).to(device)\n",
    "sample"
   ]
  },
  {
   "cell_type": "code",
   "execution_count": 24,
   "metadata": {},
   "outputs": [
    {
     "name": "stdout",
     "output_type": "stream",
     "text": [
      "L_blur (per batch) min/max: -825.0157470703125 1776.151123046875\n",
      "Mean channel-std: 68.93120574951172\n",
      "normalized_wl min/max: -1.0000659227371216 0.9999340772628784\n",
      "grid y-range: [ -1.0000659227371216 , 0.9999340772628784 ]\n",
      "L_sampled shape: torch.Size([1, 3620, 5, 5])   min/max: -116.35869598388672 271.19830322265625\n"
     ]
    },
    {
     "data": {
      "image/png": "[encoded data removed]",
      "text/plain": [
       "<Figure size 1200x600 with 1 Axes>"
      ]
     },
     "metadata": {},
     "output_type": "display_data"
    },
    {
     "data": {
      "image/png": "[encoded data removed]",
      "text/plain": [
       "<Figure size 1200x600 with 1 Axes>"
      ]
     },
     "metadata": {},
     "output_type": "display_data"
    },
    {
     "name": "stdout",
     "output_type": "stream",
     "text": [
      "Center Pixel Target Reflectance: [ 24.03323   21.37882   23.774633 ... 124.285545 107.228745  92.352264]\n",
      "Center Pixel Raw LTOA: [-71.33632    6.153336 -10.269966 ...   3.477817  20.842546  14.764841]\n",
      "Center Pixel Simulated L_hyp: [76.925766 76.925766 76.925766 ... 76.925766 76.925766 76.925766]\n",
      "Center Pixel Predicted SIF Spectrum: [-0.08366318 -0.21225576  0.31403914 ... -0.03917436  0.22557652\n",
      " -0.20201664]\n"
     ]
    }
   ],
   "source": [
    "import matplotlib.pyplot as plt\n",
    "import random\n",
    "\n",
    "def verify_inference(encoder, simulation, dataset, fixed_esun, sensor_wl, device):\n",
    "    \"\"\"\n",
    "    Randomly selects a patch from the dataset, performs inference,\n",
    "    and plots:\n",
    "      - The original target reflectance spectrum (from the patch)\n",
    "      - The simulated sensor output L_hyp spectrum (after sensor simulation)\n",
    "      - The raw predicted LTOA spectrum (before sensor simulation)\n",
    "      - The predicted fluorescence (SIF) spectral signature (without averaging)\n",
    "    \n",
    "    Assumes:\n",
    "      - The dataset returns a tensor of shape [C, H, W] with C = num_wavelengths + 3,\n",
    "        where the first num_wavelengths channels are LTOA.\n",
    "      - sensor_wl is a tensor of shape [num_wavelengths].\n",
    "      - The extra channels are (in order): XTE, SZA, GNDALT.\n",
    "    \"\"\"\n",
    "    encoder.eval()\n",
    "    simulation.eval()\n",
    "    \n",
    "    # Randomly select one patch from the dataset.\n",
    "    idx = random.randint(0, len(dataset) - 1)\n",
    "    sample = dataset[idx].unsqueeze(0).to(device)  # shape: [1, C, H, W]\n",
    "    B, C, H, W = sample.shape\n",
    "    n_spectral = len(dataset.get_wl())  # e.g., 3620\n",
    "    \n",
    "    # Extract target reflectance from the first n_spectral channels.\n",
    "    target_full = sample[:, :n_spectral, :, :]  # shape: [1, n_spectral, H, W]\n",
    "    \n",
    "    # Extract extra channels.\n",
    "    # Channel order: [0:n_spectral] = LTOA, [n_spectral] = XTE, [n_spectral+1] = SZA, [n_spectral+2] = GNDALT.\n",
    "    sza = sample[:, n_spectral + 1, :, :]  # shape: [1, H, W]\n",
    "    # Create E_s from fixed_esun with shape [1, n_spectral, H, W]\n",
    "    E_s = fixed_esun * torch.ones(1, n_spectral, H, W, device=device)\n",
    "    cos_theta_s = torch.cos(sza * np.pi / 180.0)  # shape: [1, H, W]\n",
    "    \n",
    "    with torch.no_grad():\n",
    "        latent = encoder(sample)  # expected shape: [1, H, W, 9, latent_dim]\n",
    "        # Force latent to only have the spectral channels:\n",
    "        latent = latent[:, :, :, :, :n_spectral]  # Now shape: [1, H, W, 9, n_spectral]\n",
    "        \n",
    "        # Extract latent variables; each becomes shape: [1, n_spectral, H, W]\n",
    "        t1 = latent[:, :, :, 0, :].permute(0, 3, 1, 2)\n",
    "        t2 = latent[:, :, :, 1, :].permute(0, 3, 1, 2)\n",
    "        t3 = latent[:, :, :, 2, :].permute(0, 3, 1, 2)\n",
    "        t4 = latent[:, :, :, 3, :].permute(0, 3, 1, 2)\n",
    "        t5 = latent[:, :, :, 4, :].permute(0, 3, 1, 2)\n",
    "        t6 = latent[:, :, :, 5, :].permute(0, 3, 1, 2)\n",
    "        R_param = latent[:, :, :, 6, :].permute(0, 3, 1, 2)\n",
    "        F_param = latent[:, :, :, 7, :].permute(0, 3, 1, 2)  # Full spectral fluorescence prediction.\n",
    "        delta_lambda_enc = latent[:, :, :, 8, :].permute(0, 3, 1, 2)\n",
    "        delta_lambda = delta_lambda_enc.mean(dim=1)  # [1, H, W]\n",
    "        \n",
    "        delta_sigma = torch.tensor(0.0, device=device)\n",
    "        \n",
    "        # Compute simulated sensor output L_hyp (after sensor simulation).\n",
    "        L_hyp = simulation(t1, t2, t3, t4, t5, t6, R_param, F_param,\n",
    "                           delta_lambda, delta_sigma, E_s, cos_theta_s)\n",
    "        # L_hyp: [1, n_spectral, H, W]\n",
    "        \n",
    "        # Also compute the raw predicted LTOA (before sensor simulation) by calling the four_stream module directly.\n",
    "        L_toa = simulation.four_stream(t1, t2, t3, t4, t5, t6, R_param, F_param, E_s, cos_theta_s)\n",
    "        # L_toa: [1, n_spectral, H, W]\n",
    "        \n",
    "        # Instead of averaging F_param to a single value, we keep it as full-spectrum.\n",
    "        predicted_sif = F_param  # [1, n_spectral, H, W]\n",
    "    \n",
    "    # For plotting, select the center pixel of the patch.\n",
    "    center_h, center_w = H // 2, W // 2\n",
    "    # Get spectra from the center pixel:\n",
    "    target_spec = target_full[0, :, center_h, center_w].cpu().numpy()  # ground truth reflectance\n",
    "    L_hyp_spec = L_hyp[0, :, center_h, center_w].cpu().numpy()         # sensor simulated LTOA (L_hyp)\n",
    "    L_toa_spec = L_toa[0, :, center_h, center_w].cpu().numpy()           # raw LTOA before sensor simulation\n",
    "    predicted_sif_spec = predicted_sif[0, :, center_h, center_w].cpu().numpy()  # full fluorescence spectrum\n",
    "    \n",
    "    # Plot the target reflectance vs. simulated sensor output vs. raw LTOA.\n",
    "    plt.figure(figsize=(12, 6))\n",
    "    plt.plot(sensor_wl.cpu().numpy(), target_spec, label='Target Reflectance', linewidth=2)\n",
    "    plt.plot(sensor_wl.cpu().numpy(), L_toa_spec, label='Predicted LTOA (raw)', linestyle='--', linewidth=2)\n",
    "    plt.plot(sensor_wl.cpu().numpy(), L_hyp_spec, label='Simulated Sensor Output (L_hyp)', linestyle=':', linewidth=2)\n",
    "    plt.xlabel('Wavelength (nm)')\n",
    "    plt.ylabel('Radiance / Reflectance')\n",
    "    plt.title('Center Pixel Spectrum Comparison')\n",
    "    plt.legend()\n",
    "    plt.grid(True)\n",
    "    plt.show()\n",
    "    \n",
    "    # Plot the predicted fluorescence spectrum (SIF) at the center pixel.\n",
    "    plt.figure(figsize=(12, 6))\n",
    "    plt.plot(sensor_wl.cpu().numpy(), predicted_sif_spec, label='Predicted Fluorescence (SIF)', color='magenta', linewidth=2)\n",
    "    plt.xlabel('Wavelength (nm)')\n",
    "    plt.ylabel('Fluorescence Intensity')\n",
    "    plt.title('Predicted Fluorescence Spectrum at Center Pixel')\n",
    "    plt.legend()\n",
    "    plt.grid(True)\n",
    "    plt.show()\n",
    "    \n",
    "    print(\"Center Pixel Target Reflectance:\", target_spec)\n",
    "    print(\"Center Pixel Raw LTOA:\", L_toa_spec)\n",
    "    print(\"Center Pixel Simulated L_hyp:\", L_hyp_spec)\n",
    "    print(\"Center Pixel Predicted SIF Spectrum:\", predicted_sif_spec)\n",
    "\n",
    "\n",
    "# To run verification after training:\n",
    "# Assume encoder, simulation, dataset, fixed_esun, sensor_wl, device are defined as in train_model().\n",
    "# For example, after training, call:\n",
    "sensor_wl = torch.tensor(dataset.get_wl(), dtype=torch.float, device=device)\n",
    "simulation = SFMNNSimulation(sensor_wl).to(device)\n",
    "fixed_esun = dataset.fixed_esun\n",
    "verify_inference(encoder, simulation, dataset, fixed_esun, sensor_wl, device)"
   ]
  }
 ],
 "metadata": {
  "kernelspec": {
   "display_name": "matlab-env",
   "language": "python",
   "name": "python3"
  },
  "language_info": {
   "codemirror_mode": {
    "name": "ipython",
    "version": 3
   },
   "file_extension": ".py",
   "mimetype": "text/x-python",
   "name": "python",
   "nbconvert_exporter": "python",
   "pygments_lexer": "ipython3",
   "version": "3.11.11"
  }
 },
 "nbformat": 4,
 "nbformat_minor": 2
}
